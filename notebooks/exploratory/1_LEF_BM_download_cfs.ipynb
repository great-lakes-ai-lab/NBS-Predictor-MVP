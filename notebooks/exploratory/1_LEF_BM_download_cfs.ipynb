{
  "cells": [
    {
      "cell_type": "markdown",
      "metadata": {},
      "source": [
        "This script downloads CFS grib2 files from YESTERDAY using AWS, converts them to netcdf files using the wgrib2 command, merges the netcdf files, cuts to the Great Lakes domain, and drops irrelevant variables to reduce file size.\n",
        "\n",
        "The following is required to run this script:\n",
        "- wgrib2 (https://www.ftp.cpc.ncep.noaa.gov/wd51we/wgrib2/Windows10/v3.1.3/wgrib2.exe)\n",
        "\n",
        "Example output files:\n",
        "- flxf.01.2024072100.allmonths.remapped.nc\n",
        "- flxf.01.2024072106.allmonths.remapped.nc\n",
        "- flxf.01.2024072112.allmonths.remapped.nc\n",
        "- flxf.01.2024072118.allmonths.remapped.nc\n",
        "- pgbf.01.2024072100.allmonths.remapped.nc\n",
        "- pgbf.01.2024072106.allmonths.remapped.nc\n",
        "- pgbf.01.2024072112.allmonths.remapped.nc\n",
        "- pgbf.01.2024072118.allmonths.remapped.nc"
      ]
    },
    {
      "cell_type": "code",
      "execution_count": 1,
      "metadata": {
        "id": "Vsm-8P5NpWKa"
      },
      "outputs": [],
      "source": [
        "from datetime import datetime, timedelta\n",
        "import os\n",
        "import xarray as xr\n",
        "import boto3\n",
        "from botocore import UNSIGNED\n",
        "from botocore.config import Config\n",
        "from collections import defaultdict"
      ]
    },
    {
      "cell_type": "code",
      "execution_count": 2,
      "metadata": {},
      "outputs": [],
      "source": [
        "## USER INPUTS ##\n",
        "\n",
        "# Path to download data to\n",
        "dir = 'C:/Users/fitzpatrick/Desktop/Data/'\n",
        "# Location of the mask file\n",
        "mask = 'C:/Users/fitzpatrick/Desktop/Data/Input/GL_mask.nc'"
      ]
    },
    {
      "cell_type": "code",
      "execution_count": 3,
      "metadata": {},
      "outputs": [],
      "source": [
        "## Presets ##\n",
        "products = ['pgb','flx']\n",
        "utc = ['00','06','12','18']\n",
        "lonlatbox = [250,295,30,70]\n",
        "\n",
        "today = datetime.today().strftime('%Y%m%d')\n",
        "yesterday = (datetime.today() - timedelta(days=1)).strftime('%Y%m%d')"
      ]
    },
    {
      "cell_type": "code",
      "execution_count": 4,
      "metadata": {
        "id": "1jTkQaLy9QXn"
      },
      "outputs": [],
      "source": [
        "def download_grb2_aws(product, bucket_name, folder_path, download_dir):\n",
        "\n",
        "    num_files_downloaded = 0\n",
        "\n",
        "    # Create a boto3 client for S3\n",
        "    s3_config = Config(signature_version=UNSIGNED)\n",
        "    s3 = boto3.client('s3', config=s3_config)\n",
        "\n",
        "    # List all objects in the specified folder path\n",
        "    continuation_token = None\n",
        "    objects = []\n",
        "\n",
        "    # Use a loop to handle pagination\n",
        "    while True:\n",
        "        list_objects_args = {'Bucket': bucket_name, 'Prefix': folder_path}\n",
        "        if continuation_token:\n",
        "            list_objects_args['ContinuationToken'] = continuation_token\n",
        "\n",
        "        list_objects_response = s3.list_objects_v2(**list_objects_args)\n",
        "\n",
        "        objects.extend(list_objects_response.get('Contents', []))\n",
        "\n",
        "        if not list_objects_response.get('IsTruncated', False):\n",
        "            break\n",
        "\n",
        "        continuation_token = list_objects_response.get('NextContinuationToken')\n",
        "\n",
        "    # Iterate over each object and download if it ends with '.grb2'\n",
        "    for obj in objects:\n",
        "        key = obj['Key']\n",
        "        if product in key and key.endswith('grib.grb2'): #if key.endswith('.grb2'):\n",
        "            local_file_path = os.path.join(download_dir, os.path.relpath(key, folder_path))\n",
        "\n",
        "            # Ensure the directory structure exists\n",
        "            os.makedirs(os.path.dirname(local_file_path), exist_ok=True)\n",
        "\n",
        "            # Download the file\n",
        "            s3.download_file(bucket_name, key, local_file_path)\n",
        "            num_files_downloaded += 1\n",
        "\n",
        "            print(f\"Downloaded: {key}\")\n",
        "\n",
        "    print(f'Total number of CFS files downloaded from AWS: {num_files_downloaded}')"
      ]
    },
    {
      "cell_type": "code",
      "execution_count": 5,
      "metadata": {
        "id": "XHrZ4f7-pWKc"
      },
      "outputs": [],
      "source": [
        "def get_files(directory, where, format):\n",
        "    \"\"\"\n",
        "    Get a list of all GRIB2 files in the specified directory.\n",
        "\n",
        "    Parameters:\n",
        "    - directory: Path to the directory containing the GRIB2 files.\n",
        "    - where: 'starts' or 'ends'\n",
        "    - format: either '.grb2' or '.nc'\n",
        "    Returns:\n",
        "    - List of file paths to the GRIB2 files.\n",
        "    \"\"\"\n",
        "    files = []\n",
        "    for file_name in os.listdir(directory):\n",
        "        if where == 'ends':\n",
        "            if file_name.endswith(format):\n",
        "                file_path = os.path.join(directory, file_name)\n",
        "                files.append(file_path)\n",
        "        elif where == 'starts':\n",
        "            if file_name.startswith(format):\n",
        "                file_path = os.path.join(directory, file_name)\n",
        "                files.append(file_path)\n",
        "    return files"
      ]
    },
    {
      "cell_type": "code",
      "execution_count": 6,
      "metadata": {
        "id": "M4Q2En12pWKc"
      },
      "outputs": [],
      "source": [
        "## In order to convert grb2 files to netcdf on a windows machine, you need to download wgrib2.exe\n",
        "## https://www.ftp.cpc.ncep.noaa.gov/wd51we/wgrib2/Windows10/v3.1.3/wgrib2.exe\n",
        "\n",
        "import subprocess\n",
        "\n",
        "def grb2_to_netcdf(input_file, output_file):\n",
        "    # Define the command to convert GRIB2 to NetCDF using wgrib2\n",
        "    # Need to download wgrib2 and write the full path unless it is set to your PATH\n",
        "    command = [\"C:/Users/fitzpatrick/Downloads/wgrib2\", input_file, \"-netcdf\", output_file]\n",
        "\n",
        "    # Execute the command\n",
        "    try:\n",
        "        subprocess.run(command, check=True)\n",
        "        # Remove the grb2 file\n",
        "        os.remove(input_file)\n",
        "        print(f\"Conversion successful. NetCDF file saved as {output_file}\")\n",
        "    except subprocess.CalledProcessError as e:\n",
        "        print(f\"Conversion failed with error: {e}\")"
      ]
    },
    {
      "cell_type": "code",
      "execution_count": 7,
      "metadata": {},
      "outputs": [],
      "source": [
        "def merge_netcdf_files(dir_save, input_files):\n",
        "    # Group input files by common prefix\n",
        "    file_groups = defaultdict(list)\n",
        "    for file in input_files:\n",
        "        filename = os.path.basename(file)\n",
        "        prefix = filename.split('.')[0] + '.' + filename.split('.')[1] + '.' + filename.split('.')[2]  # Extracting prefix\n",
        "        file_groups[prefix].append(file)\n",
        "\n",
        "    # Iterate over each group of files and merge them\n",
        "    for prefix, files in file_groups.items():\n",
        "        # List to store all datasets\n",
        "        datasets = []\n",
        "\n",
        "        # Loop through each input file\n",
        "        for file in files:\n",
        "            # Open the NetCDF file using xarray\n",
        "            ds = xr.open_dataset(file)\n",
        "\n",
        "            # Is this a pgb or flx file?\n",
        "            file_prefix = os.path.basename(file).split('.')[0]\n",
        "\n",
        "            if file_prefix == 'pgbf':\n",
        "                ds = ds[['APCP_surface']]  # Keep only APCP_surface variable\n",
        "                # Add dataset to the list\n",
        "                datasets.append(ds)\n",
        "\n",
        "            elif file_prefix == 'flxf':\n",
        "                ds = ds[['LHTFL_surface', 'TMP_2maboveground']] # Keep only LHTFL and TMP\n",
        "                # Add dataset to the list\n",
        "                datasets.append(ds)\n",
        "\n",
        "            else:\n",
        "                print('File not compatible')\n",
        "            # Close the dataset\n",
        "            ds.close()        \n",
        "        \n",
        "        # Merge all datasets along time dimension\n",
        "        combined = xr.concat(datasets, dim='time')\n",
        "\n",
        "        # Save to a new NetCDF file\n",
        "        output_filename = dir_save + f\"{prefix}.allmonths.nc\"\n",
        "        combined.to_netcdf(output_filename)\n",
        "\n",
        "        print(f'Complete: {output_filename}')\n",
        "            "
      ]
    },
    {
      "cell_type": "code",
      "execution_count": 8,
      "metadata": {},
      "outputs": [],
      "source": [
        "def cut_remap_netcdf(input_file, reference_file, output_file, lonlatbox):\n",
        "    \"\"\"\n",
        "    Cut a NetCDF file to a specified lon-lat bounding box and save it as a new file.\n",
        "\n",
        "    Parameters:\n",
        "        input_file (str): Path to the input NetCDF file.\n",
        "        reference_file (str): File to remap the input_file like\n",
        "        output_file (str): Path and filename of the output file\n",
        "        lonlatbox (list): Bounding box in the format [lon_min, lon_max, lat_min, lat_max].\n",
        "\n",
        "    Returns:\n",
        "        ds_remapped\n",
        "    \"\"\"\n",
        "    # Unpack the lon-lat bounding box\n",
        "    lon_min, lon_max, lat_min, lat_max = lonlatbox\n",
        "\n",
        "    # Open the input NetCDF file\n",
        "    ds = xr.open_dataset(input_file)\n",
        "    ds_mask = xr.open_dataset(reference_file)\n",
        "\n",
        "    # Select lat/lon range\n",
        "    ds_cut = ds.sel(longitude=slice(lon_min, lon_max), latitude=slice(lat_min, lat_max))\n",
        "\n",
        "    # Interpolate the input data onto the grid of the reference data\n",
        "    ds_remapped = ds_cut.interp_like(ds_mask)\n",
        "\n",
        "    # Save the remapped data to a new NetCDF file\n",
        "    ds_remapped.to_netcdf(output_file)\n",
        "    ds.close()\n",
        "    ds_mask.close()\n",
        "    os.remove(input_file)\n",
        "    print('Processing complete: ',output_file)\n",
        "    \n",
        "    return ds_remapped"
      ]
    },
    {
      "cell_type": "code",
      "execution_count": 9,
      "metadata": {},
      "outputs": [
        {
          "name": "stdout",
          "output_type": "stream",
          "text": [
            "Directory created.\n"
          ]
        }
      ],
      "source": [
        "download_dir = f'{dir}{today}/CFS/downloaded/'\n",
        "if not os.path.exists(download_dir):\n",
        "    os.makedirs(download_dir)\n",
        "    print(\"Directory created.\")\n",
        "else:\n",
        "    print(\"Directory already exists.\")"
      ]
    },
    {
      "cell_type": "code",
      "execution_count": 10,
      "metadata": {},
      "outputs": [
        {
          "name": "stdout",
          "output_type": "stream",
          "text": [
            "Downloaded: cfs.20240813/00/monthly_grib_01/pgbf.01.2024081300.202408.avrg.grib.grb2\n",
            "Downloaded: cfs.20240813/00/monthly_grib_01/pgbf.01.2024081300.202409.avrg.grib.grb2\n",
            "Downloaded: cfs.20240813/00/monthly_grib_01/pgbf.01.2024081300.202410.avrg.grib.grb2\n",
            "Downloaded: cfs.20240813/00/monthly_grib_01/pgbf.01.2024081300.202411.avrg.grib.grb2\n",
            "Downloaded: cfs.20240813/00/monthly_grib_01/pgbf.01.2024081300.202412.avrg.grib.grb2\n",
            "Downloaded: cfs.20240813/00/monthly_grib_01/pgbf.01.2024081300.202501.avrg.grib.grb2\n",
            "Downloaded: cfs.20240813/00/monthly_grib_01/pgbf.01.2024081300.202502.avrg.grib.grb2\n",
            "Downloaded: cfs.20240813/00/monthly_grib_01/pgbf.01.2024081300.202503.avrg.grib.grb2\n",
            "Downloaded: cfs.20240813/00/monthly_grib_01/pgbf.01.2024081300.202504.avrg.grib.grb2\n",
            "Downloaded: cfs.20240813/00/monthly_grib_01/pgbf.01.2024081300.202505.avrg.grib.grb2\n",
            "Total number of CFS files downloaded from AWS: 10\n",
            "Downloaded: cfs.20240813/00/monthly_grib_01/flxf.01.2024081300.202408.avrg.grib.grb2\n",
            "Downloaded: cfs.20240813/00/monthly_grib_01/flxf.01.2024081300.202409.avrg.grib.grb2\n",
            "Downloaded: cfs.20240813/00/monthly_grib_01/flxf.01.2024081300.202410.avrg.grib.grb2\n",
            "Downloaded: cfs.20240813/00/monthly_grib_01/flxf.01.2024081300.202411.avrg.grib.grb2\n",
            "Downloaded: cfs.20240813/00/monthly_grib_01/flxf.01.2024081300.202412.avrg.grib.grb2\n",
            "Downloaded: cfs.20240813/00/monthly_grib_01/flxf.01.2024081300.202501.avrg.grib.grb2\n",
            "Downloaded: cfs.20240813/00/monthly_grib_01/flxf.01.2024081300.202502.avrg.grib.grb2\n",
            "Downloaded: cfs.20240813/00/monthly_grib_01/flxf.01.2024081300.202503.avrg.grib.grb2\n",
            "Downloaded: cfs.20240813/00/monthly_grib_01/flxf.01.2024081300.202504.avrg.grib.grb2\n",
            "Downloaded: cfs.20240813/00/monthly_grib_01/flxf.01.2024081300.202505.avrg.grib.grb2\n",
            "Total number of CFS files downloaded from AWS: 10\n",
            "Downloaded: cfs.20240813/06/monthly_grib_01/pgbf.01.2024081306.202408.avrg.grib.grb2\n",
            "Downloaded: cfs.20240813/06/monthly_grib_01/pgbf.01.2024081306.202409.avrg.grib.grb2\n",
            "Downloaded: cfs.20240813/06/monthly_grib_01/pgbf.01.2024081306.202410.avrg.grib.grb2\n",
            "Downloaded: cfs.20240813/06/monthly_grib_01/pgbf.01.2024081306.202411.avrg.grib.grb2\n",
            "Downloaded: cfs.20240813/06/monthly_grib_01/pgbf.01.2024081306.202412.avrg.grib.grb2\n",
            "Downloaded: cfs.20240813/06/monthly_grib_01/pgbf.01.2024081306.202501.avrg.grib.grb2\n",
            "Downloaded: cfs.20240813/06/monthly_grib_01/pgbf.01.2024081306.202502.avrg.grib.grb2\n",
            "Downloaded: cfs.20240813/06/monthly_grib_01/pgbf.01.2024081306.202503.avrg.grib.grb2\n",
            "Downloaded: cfs.20240813/06/monthly_grib_01/pgbf.01.2024081306.202504.avrg.grib.grb2\n",
            "Downloaded: cfs.20240813/06/monthly_grib_01/pgbf.01.2024081306.202505.avrg.grib.grb2\n",
            "Total number of CFS files downloaded from AWS: 10\n",
            "Downloaded: cfs.20240813/06/monthly_grib_01/flxf.01.2024081306.202408.avrg.grib.grb2\n",
            "Downloaded: cfs.20240813/06/monthly_grib_01/flxf.01.2024081306.202409.avrg.grib.grb2\n",
            "Downloaded: cfs.20240813/06/monthly_grib_01/flxf.01.2024081306.202410.avrg.grib.grb2\n",
            "Downloaded: cfs.20240813/06/monthly_grib_01/flxf.01.2024081306.202411.avrg.grib.grb2\n",
            "Downloaded: cfs.20240813/06/monthly_grib_01/flxf.01.2024081306.202412.avrg.grib.grb2\n",
            "Downloaded: cfs.20240813/06/monthly_grib_01/flxf.01.2024081306.202501.avrg.grib.grb2\n",
            "Downloaded: cfs.20240813/06/monthly_grib_01/flxf.01.2024081306.202502.avrg.grib.grb2\n",
            "Downloaded: cfs.20240813/06/monthly_grib_01/flxf.01.2024081306.202503.avrg.grib.grb2\n",
            "Downloaded: cfs.20240813/06/monthly_grib_01/flxf.01.2024081306.202504.avrg.grib.grb2\n",
            "Downloaded: cfs.20240813/06/monthly_grib_01/flxf.01.2024081306.202505.avrg.grib.grb2\n",
            "Total number of CFS files downloaded from AWS: 10\n",
            "Downloaded: cfs.20240813/12/monthly_grib_01/pgbf.01.2024081312.202408.avrg.grib.grb2\n",
            "Downloaded: cfs.20240813/12/monthly_grib_01/pgbf.01.2024081312.202409.avrg.grib.grb2\n",
            "Downloaded: cfs.20240813/12/monthly_grib_01/pgbf.01.2024081312.202410.avrg.grib.grb2\n",
            "Downloaded: cfs.20240813/12/monthly_grib_01/pgbf.01.2024081312.202411.avrg.grib.grb2\n",
            "Downloaded: cfs.20240813/12/monthly_grib_01/pgbf.01.2024081312.202412.avrg.grib.grb2\n",
            "Downloaded: cfs.20240813/12/monthly_grib_01/pgbf.01.2024081312.202501.avrg.grib.grb2\n",
            "Downloaded: cfs.20240813/12/monthly_grib_01/pgbf.01.2024081312.202502.avrg.grib.grb2\n",
            "Downloaded: cfs.20240813/12/monthly_grib_01/pgbf.01.2024081312.202503.avrg.grib.grb2\n",
            "Downloaded: cfs.20240813/12/monthly_grib_01/pgbf.01.2024081312.202504.avrg.grib.grb2\n",
            "Downloaded: cfs.20240813/12/monthly_grib_01/pgbf.01.2024081312.202505.avrg.grib.grb2\n",
            "Total number of CFS files downloaded from AWS: 10\n",
            "Downloaded: cfs.20240813/12/monthly_grib_01/flxf.01.2024081312.202408.avrg.grib.grb2\n",
            "Downloaded: cfs.20240813/12/monthly_grib_01/flxf.01.2024081312.202409.avrg.grib.grb2\n",
            "Downloaded: cfs.20240813/12/monthly_grib_01/flxf.01.2024081312.202410.avrg.grib.grb2\n",
            "Downloaded: cfs.20240813/12/monthly_grib_01/flxf.01.2024081312.202411.avrg.grib.grb2\n",
            "Downloaded: cfs.20240813/12/monthly_grib_01/flxf.01.2024081312.202412.avrg.grib.grb2\n",
            "Downloaded: cfs.20240813/12/monthly_grib_01/flxf.01.2024081312.202501.avrg.grib.grb2\n",
            "Downloaded: cfs.20240813/12/monthly_grib_01/flxf.01.2024081312.202502.avrg.grib.grb2\n",
            "Downloaded: cfs.20240813/12/monthly_grib_01/flxf.01.2024081312.202503.avrg.grib.grb2\n",
            "Downloaded: cfs.20240813/12/monthly_grib_01/flxf.01.2024081312.202504.avrg.grib.grb2\n",
            "Downloaded: cfs.20240813/12/monthly_grib_01/flxf.01.2024081312.202505.avrg.grib.grb2\n",
            "Total number of CFS files downloaded from AWS: 10\n",
            "Downloaded: cfs.20240813/18/monthly_grib_01/pgbf.01.2024081318.202408.avrg.grib.grb2\n",
            "Downloaded: cfs.20240813/18/monthly_grib_01/pgbf.01.2024081318.202409.avrg.grib.grb2\n",
            "Downloaded: cfs.20240813/18/monthly_grib_01/pgbf.01.2024081318.202410.avrg.grib.grb2\n",
            "Downloaded: cfs.20240813/18/monthly_grib_01/pgbf.01.2024081318.202411.avrg.grib.grb2\n",
            "Downloaded: cfs.20240813/18/monthly_grib_01/pgbf.01.2024081318.202412.avrg.grib.grb2\n",
            "Downloaded: cfs.20240813/18/monthly_grib_01/pgbf.01.2024081318.202501.avrg.grib.grb2\n",
            "Downloaded: cfs.20240813/18/monthly_grib_01/pgbf.01.2024081318.202502.avrg.grib.grb2\n",
            "Downloaded: cfs.20240813/18/monthly_grib_01/pgbf.01.2024081318.202503.avrg.grib.grb2\n",
            "Downloaded: cfs.20240813/18/monthly_grib_01/pgbf.01.2024081318.202504.avrg.grib.grb2\n",
            "Downloaded: cfs.20240813/18/monthly_grib_01/pgbf.01.2024081318.202505.avrg.grib.grb2\n",
            "Total number of CFS files downloaded from AWS: 10\n",
            "Downloaded: cfs.20240813/18/monthly_grib_01/flxf.01.2024081318.202408.avrg.grib.grb2\n",
            "Downloaded: cfs.20240813/18/monthly_grib_01/flxf.01.2024081318.202409.avrg.grib.grb2\n",
            "Downloaded: cfs.20240813/18/monthly_grib_01/flxf.01.2024081318.202410.avrg.grib.grb2\n",
            "Downloaded: cfs.20240813/18/monthly_grib_01/flxf.01.2024081318.202411.avrg.grib.grb2\n",
            "Downloaded: cfs.20240813/18/monthly_grib_01/flxf.01.2024081318.202412.avrg.grib.grb2\n",
            "Downloaded: cfs.20240813/18/monthly_grib_01/flxf.01.2024081318.202501.avrg.grib.grb2\n",
            "Downloaded: cfs.20240813/18/monthly_grib_01/flxf.01.2024081318.202502.avrg.grib.grb2\n",
            "Downloaded: cfs.20240813/18/monthly_grib_01/flxf.01.2024081318.202503.avrg.grib.grb2\n",
            "Downloaded: cfs.20240813/18/monthly_grib_01/flxf.01.2024081318.202504.avrg.grib.grb2\n",
            "Downloaded: cfs.20240813/18/monthly_grib_01/flxf.01.2024081318.202505.avrg.grib.grb2\n",
            "Total number of CFS files downloaded from AWS: 10\n"
          ]
        }
      ],
      "source": [
        "# Uses the AWS to download the grib2 files\n",
        "bucket_name = 'noaa-cfs-pds'\n",
        "\n",
        "for utc in utc:\n",
        "    for product in products:\n",
        "        folder_path = f'cfs.{yesterday}/{utc}/monthly_grib_01/'\n",
        "        download_grb2_aws(product, bucket_name, folder_path, download_dir)"
      ]
    },
    {
      "cell_type": "code",
      "execution_count": 11,
      "metadata": {
        "colab": {
          "base_uri": "https://localhost:8080/",
          "height": 211
        },
        "id": "43VRNJNFpWKe",
        "outputId": "ce63950c-5857-4b11-d72c-4aaddb0e1313"
      },
      "outputs": [
        {
          "name": "stdout",
          "output_type": "stream",
          "text": [
            "C:/Users/fitzpatrick/Desktop/Data/20240814/CFS/downloaded/\n",
            "['C:/Users/fitzpatrick/Desktop/Data/20240814/CFS/downloaded/flxf.01.2024081300.202408.avrg.grib.grb2', 'C:/Users/fitzpatrick/Desktop/Data/20240814/CFS/downloaded/flxf.01.2024081300.202409.avrg.grib.grb2', 'C:/Users/fitzpatrick/Desktop/Data/20240814/CFS/downloaded/flxf.01.2024081300.202410.avrg.grib.grb2', 'C:/Users/fitzpatrick/Desktop/Data/20240814/CFS/downloaded/flxf.01.2024081300.202411.avrg.grib.grb2', 'C:/Users/fitzpatrick/Desktop/Data/20240814/CFS/downloaded/flxf.01.2024081300.202412.avrg.grib.grb2', 'C:/Users/fitzpatrick/Desktop/Data/20240814/CFS/downloaded/flxf.01.2024081300.202501.avrg.grib.grb2', 'C:/Users/fitzpatrick/Desktop/Data/20240814/CFS/downloaded/flxf.01.2024081300.202502.avrg.grib.grb2', 'C:/Users/fitzpatrick/Desktop/Data/20240814/CFS/downloaded/flxf.01.2024081300.202503.avrg.grib.grb2', 'C:/Users/fitzpatrick/Desktop/Data/20240814/CFS/downloaded/flxf.01.2024081300.202504.avrg.grib.grb2', 'C:/Users/fitzpatrick/Desktop/Data/20240814/CFS/downloaded/flxf.01.2024081300.202505.avrg.grib.grb2', 'C:/Users/fitzpatrick/Desktop/Data/20240814/CFS/downloaded/flxf.01.2024081306.202408.avrg.grib.grb2', 'C:/Users/fitzpatrick/Desktop/Data/20240814/CFS/downloaded/flxf.01.2024081306.202409.avrg.grib.grb2', 'C:/Users/fitzpatrick/Desktop/Data/20240814/CFS/downloaded/flxf.01.2024081306.202410.avrg.grib.grb2', 'C:/Users/fitzpatrick/Desktop/Data/20240814/CFS/downloaded/flxf.01.2024081306.202411.avrg.grib.grb2', 'C:/Users/fitzpatrick/Desktop/Data/20240814/CFS/downloaded/flxf.01.2024081306.202412.avrg.grib.grb2', 'C:/Users/fitzpatrick/Desktop/Data/20240814/CFS/downloaded/flxf.01.2024081306.202501.avrg.grib.grb2', 'C:/Users/fitzpatrick/Desktop/Data/20240814/CFS/downloaded/flxf.01.2024081306.202502.avrg.grib.grb2', 'C:/Users/fitzpatrick/Desktop/Data/20240814/CFS/downloaded/flxf.01.2024081306.202503.avrg.grib.grb2', 'C:/Users/fitzpatrick/Desktop/Data/20240814/CFS/downloaded/flxf.01.2024081306.202504.avrg.grib.grb2', 'C:/Users/fitzpatrick/Desktop/Data/20240814/CFS/downloaded/flxf.01.2024081306.202505.avrg.grib.grb2', 'C:/Users/fitzpatrick/Desktop/Data/20240814/CFS/downloaded/flxf.01.2024081312.202408.avrg.grib.grb2', 'C:/Users/fitzpatrick/Desktop/Data/20240814/CFS/downloaded/flxf.01.2024081312.202409.avrg.grib.grb2', 'C:/Users/fitzpatrick/Desktop/Data/20240814/CFS/downloaded/flxf.01.2024081312.202410.avrg.grib.grb2', 'C:/Users/fitzpatrick/Desktop/Data/20240814/CFS/downloaded/flxf.01.2024081312.202411.avrg.grib.grb2', 'C:/Users/fitzpatrick/Desktop/Data/20240814/CFS/downloaded/flxf.01.2024081312.202412.avrg.grib.grb2', 'C:/Users/fitzpatrick/Desktop/Data/20240814/CFS/downloaded/flxf.01.2024081312.202501.avrg.grib.grb2', 'C:/Users/fitzpatrick/Desktop/Data/20240814/CFS/downloaded/flxf.01.2024081312.202502.avrg.grib.grb2', 'C:/Users/fitzpatrick/Desktop/Data/20240814/CFS/downloaded/flxf.01.2024081312.202503.avrg.grib.grb2', 'C:/Users/fitzpatrick/Desktop/Data/20240814/CFS/downloaded/flxf.01.2024081312.202504.avrg.grib.grb2', 'C:/Users/fitzpatrick/Desktop/Data/20240814/CFS/downloaded/flxf.01.2024081312.202505.avrg.grib.grb2', 'C:/Users/fitzpatrick/Desktop/Data/20240814/CFS/downloaded/flxf.01.2024081318.202408.avrg.grib.grb2', 'C:/Users/fitzpatrick/Desktop/Data/20240814/CFS/downloaded/flxf.01.2024081318.202409.avrg.grib.grb2', 'C:/Users/fitzpatrick/Desktop/Data/20240814/CFS/downloaded/flxf.01.2024081318.202410.avrg.grib.grb2', 'C:/Users/fitzpatrick/Desktop/Data/20240814/CFS/downloaded/flxf.01.2024081318.202411.avrg.grib.grb2', 'C:/Users/fitzpatrick/Desktop/Data/20240814/CFS/downloaded/flxf.01.2024081318.202412.avrg.grib.grb2', 'C:/Users/fitzpatrick/Desktop/Data/20240814/CFS/downloaded/flxf.01.2024081318.202501.avrg.grib.grb2', 'C:/Users/fitzpatrick/Desktop/Data/20240814/CFS/downloaded/flxf.01.2024081318.202502.avrg.grib.grb2', 'C:/Users/fitzpatrick/Desktop/Data/20240814/CFS/downloaded/flxf.01.2024081318.202503.avrg.grib.grb2', 'C:/Users/fitzpatrick/Desktop/Data/20240814/CFS/downloaded/flxf.01.2024081318.202504.avrg.grib.grb2', 'C:/Users/fitzpatrick/Desktop/Data/20240814/CFS/downloaded/flxf.01.2024081318.202505.avrg.grib.grb2', 'C:/Users/fitzpatrick/Desktop/Data/20240814/CFS/downloaded/pgbf.01.2024081300.202408.avrg.grib.grb2', 'C:/Users/fitzpatrick/Desktop/Data/20240814/CFS/downloaded/pgbf.01.2024081300.202409.avrg.grib.grb2', 'C:/Users/fitzpatrick/Desktop/Data/20240814/CFS/downloaded/pgbf.01.2024081300.202410.avrg.grib.grb2', 'C:/Users/fitzpatrick/Desktop/Data/20240814/CFS/downloaded/pgbf.01.2024081300.202411.avrg.grib.grb2', 'C:/Users/fitzpatrick/Desktop/Data/20240814/CFS/downloaded/pgbf.01.2024081300.202412.avrg.grib.grb2', 'C:/Users/fitzpatrick/Desktop/Data/20240814/CFS/downloaded/pgbf.01.2024081300.202501.avrg.grib.grb2', 'C:/Users/fitzpatrick/Desktop/Data/20240814/CFS/downloaded/pgbf.01.2024081300.202502.avrg.grib.grb2', 'C:/Users/fitzpatrick/Desktop/Data/20240814/CFS/downloaded/pgbf.01.2024081300.202503.avrg.grib.grb2', 'C:/Users/fitzpatrick/Desktop/Data/20240814/CFS/downloaded/pgbf.01.2024081300.202504.avrg.grib.grb2', 'C:/Users/fitzpatrick/Desktop/Data/20240814/CFS/downloaded/pgbf.01.2024081300.202505.avrg.grib.grb2', 'C:/Users/fitzpatrick/Desktop/Data/20240814/CFS/downloaded/pgbf.01.2024081306.202408.avrg.grib.grb2', 'C:/Users/fitzpatrick/Desktop/Data/20240814/CFS/downloaded/pgbf.01.2024081306.202409.avrg.grib.grb2', 'C:/Users/fitzpatrick/Desktop/Data/20240814/CFS/downloaded/pgbf.01.2024081306.202410.avrg.grib.grb2', 'C:/Users/fitzpatrick/Desktop/Data/20240814/CFS/downloaded/pgbf.01.2024081306.202411.avrg.grib.grb2', 'C:/Users/fitzpatrick/Desktop/Data/20240814/CFS/downloaded/pgbf.01.2024081306.202412.avrg.grib.grb2', 'C:/Users/fitzpatrick/Desktop/Data/20240814/CFS/downloaded/pgbf.01.2024081306.202501.avrg.grib.grb2', 'C:/Users/fitzpatrick/Desktop/Data/20240814/CFS/downloaded/pgbf.01.2024081306.202502.avrg.grib.grb2', 'C:/Users/fitzpatrick/Desktop/Data/20240814/CFS/downloaded/pgbf.01.2024081306.202503.avrg.grib.grb2', 'C:/Users/fitzpatrick/Desktop/Data/20240814/CFS/downloaded/pgbf.01.2024081306.202504.avrg.grib.grb2', 'C:/Users/fitzpatrick/Desktop/Data/20240814/CFS/downloaded/pgbf.01.2024081306.202505.avrg.grib.grb2', 'C:/Users/fitzpatrick/Desktop/Data/20240814/CFS/downloaded/pgbf.01.2024081312.202408.avrg.grib.grb2', 'C:/Users/fitzpatrick/Desktop/Data/20240814/CFS/downloaded/pgbf.01.2024081312.202409.avrg.grib.grb2', 'C:/Users/fitzpatrick/Desktop/Data/20240814/CFS/downloaded/pgbf.01.2024081312.202410.avrg.grib.grb2', 'C:/Users/fitzpatrick/Desktop/Data/20240814/CFS/downloaded/pgbf.01.2024081312.202411.avrg.grib.grb2', 'C:/Users/fitzpatrick/Desktop/Data/20240814/CFS/downloaded/pgbf.01.2024081312.202412.avrg.grib.grb2', 'C:/Users/fitzpatrick/Desktop/Data/20240814/CFS/downloaded/pgbf.01.2024081312.202501.avrg.grib.grb2', 'C:/Users/fitzpatrick/Desktop/Data/20240814/CFS/downloaded/pgbf.01.2024081312.202502.avrg.grib.grb2', 'C:/Users/fitzpatrick/Desktop/Data/20240814/CFS/downloaded/pgbf.01.2024081312.202503.avrg.grib.grb2', 'C:/Users/fitzpatrick/Desktop/Data/20240814/CFS/downloaded/pgbf.01.2024081312.202504.avrg.grib.grb2', 'C:/Users/fitzpatrick/Desktop/Data/20240814/CFS/downloaded/pgbf.01.2024081312.202505.avrg.grib.grb2', 'C:/Users/fitzpatrick/Desktop/Data/20240814/CFS/downloaded/pgbf.01.2024081318.202408.avrg.grib.grb2', 'C:/Users/fitzpatrick/Desktop/Data/20240814/CFS/downloaded/pgbf.01.2024081318.202409.avrg.grib.grb2', 'C:/Users/fitzpatrick/Desktop/Data/20240814/CFS/downloaded/pgbf.01.2024081318.202410.avrg.grib.grb2', 'C:/Users/fitzpatrick/Desktop/Data/20240814/CFS/downloaded/pgbf.01.2024081318.202411.avrg.grib.grb2', 'C:/Users/fitzpatrick/Desktop/Data/20240814/CFS/downloaded/pgbf.01.2024081318.202412.avrg.grib.grb2', 'C:/Users/fitzpatrick/Desktop/Data/20240814/CFS/downloaded/pgbf.01.2024081318.202501.avrg.grib.grb2', 'C:/Users/fitzpatrick/Desktop/Data/20240814/CFS/downloaded/pgbf.01.2024081318.202502.avrg.grib.grb2', 'C:/Users/fitzpatrick/Desktop/Data/20240814/CFS/downloaded/pgbf.01.2024081318.202503.avrg.grib.grb2', 'C:/Users/fitzpatrick/Desktop/Data/20240814/CFS/downloaded/pgbf.01.2024081318.202504.avrg.grib.grb2', 'C:/Users/fitzpatrick/Desktop/Data/20240814/CFS/downloaded/pgbf.01.2024081318.202505.avrg.grib.grb2']\n",
            "Conversion successful. NetCDF file saved as C:/Users/fitzpatrick/Desktop/Data/20240814/CFS/downloaded/flxf.01.2024081300.202408.avrg.grib.nc\n",
            "Conversion successful. NetCDF file saved as C:/Users/fitzpatrick/Desktop/Data/20240814/CFS/downloaded/flxf.01.2024081300.202409.avrg.grib.nc\n",
            "Conversion successful. NetCDF file saved as C:/Users/fitzpatrick/Desktop/Data/20240814/CFS/downloaded/flxf.01.2024081300.202410.avrg.grib.nc\n",
            "Conversion successful. NetCDF file saved as C:/Users/fitzpatrick/Desktop/Data/20240814/CFS/downloaded/flxf.01.2024081300.202411.avrg.grib.nc\n",
            "Conversion successful. NetCDF file saved as C:/Users/fitzpatrick/Desktop/Data/20240814/CFS/downloaded/flxf.01.2024081300.202412.avrg.grib.nc\n",
            "Conversion successful. NetCDF file saved as C:/Users/fitzpatrick/Desktop/Data/20240814/CFS/downloaded/flxf.01.2024081300.202501.avrg.grib.nc\n",
            "Conversion successful. NetCDF file saved as C:/Users/fitzpatrick/Desktop/Data/20240814/CFS/downloaded/flxf.01.2024081300.202502.avrg.grib.nc\n",
            "Conversion successful. NetCDF file saved as C:/Users/fitzpatrick/Desktop/Data/20240814/CFS/downloaded/flxf.01.2024081300.202503.avrg.grib.nc\n",
            "Conversion successful. NetCDF file saved as C:/Users/fitzpatrick/Desktop/Data/20240814/CFS/downloaded/flxf.01.2024081300.202504.avrg.grib.nc\n",
            "Conversion successful. NetCDF file saved as C:/Users/fitzpatrick/Desktop/Data/20240814/CFS/downloaded/flxf.01.2024081300.202505.avrg.grib.nc\n",
            "Conversion successful. NetCDF file saved as C:/Users/fitzpatrick/Desktop/Data/20240814/CFS/downloaded/flxf.01.2024081306.202408.avrg.grib.nc\n",
            "Conversion successful. NetCDF file saved as C:/Users/fitzpatrick/Desktop/Data/20240814/CFS/downloaded/flxf.01.2024081306.202409.avrg.grib.nc\n",
            "Conversion successful. NetCDF file saved as C:/Users/fitzpatrick/Desktop/Data/20240814/CFS/downloaded/flxf.01.2024081306.202410.avrg.grib.nc\n",
            "Conversion successful. NetCDF file saved as C:/Users/fitzpatrick/Desktop/Data/20240814/CFS/downloaded/flxf.01.2024081306.202411.avrg.grib.nc\n",
            "Conversion successful. NetCDF file saved as C:/Users/fitzpatrick/Desktop/Data/20240814/CFS/downloaded/flxf.01.2024081306.202412.avrg.grib.nc\n",
            "Conversion successful. NetCDF file saved as C:/Users/fitzpatrick/Desktop/Data/20240814/CFS/downloaded/flxf.01.2024081306.202501.avrg.grib.nc\n",
            "Conversion successful. NetCDF file saved as C:/Users/fitzpatrick/Desktop/Data/20240814/CFS/downloaded/flxf.01.2024081306.202502.avrg.grib.nc\n",
            "Conversion successful. NetCDF file saved as C:/Users/fitzpatrick/Desktop/Data/20240814/CFS/downloaded/flxf.01.2024081306.202503.avrg.grib.nc\n",
            "Conversion successful. NetCDF file saved as C:/Users/fitzpatrick/Desktop/Data/20240814/CFS/downloaded/flxf.01.2024081306.202504.avrg.grib.nc\n",
            "Conversion successful. NetCDF file saved as C:/Users/fitzpatrick/Desktop/Data/20240814/CFS/downloaded/flxf.01.2024081306.202505.avrg.grib.nc\n",
            "Conversion successful. NetCDF file saved as C:/Users/fitzpatrick/Desktop/Data/20240814/CFS/downloaded/flxf.01.2024081312.202408.avrg.grib.nc\n",
            "Conversion successful. NetCDF file saved as C:/Users/fitzpatrick/Desktop/Data/20240814/CFS/downloaded/flxf.01.2024081312.202409.avrg.grib.nc\n",
            "Conversion successful. NetCDF file saved as C:/Users/fitzpatrick/Desktop/Data/20240814/CFS/downloaded/flxf.01.2024081312.202410.avrg.grib.nc\n",
            "Conversion successful. NetCDF file saved as C:/Users/fitzpatrick/Desktop/Data/20240814/CFS/downloaded/flxf.01.2024081312.202411.avrg.grib.nc\n",
            "Conversion successful. NetCDF file saved as C:/Users/fitzpatrick/Desktop/Data/20240814/CFS/downloaded/flxf.01.2024081312.202412.avrg.grib.nc\n",
            "Conversion successful. NetCDF file saved as C:/Users/fitzpatrick/Desktop/Data/20240814/CFS/downloaded/flxf.01.2024081312.202501.avrg.grib.nc\n",
            "Conversion successful. NetCDF file saved as C:/Users/fitzpatrick/Desktop/Data/20240814/CFS/downloaded/flxf.01.2024081312.202502.avrg.grib.nc\n",
            "Conversion successful. NetCDF file saved as C:/Users/fitzpatrick/Desktop/Data/20240814/CFS/downloaded/flxf.01.2024081312.202503.avrg.grib.nc\n",
            "Conversion successful. NetCDF file saved as C:/Users/fitzpatrick/Desktop/Data/20240814/CFS/downloaded/flxf.01.2024081312.202504.avrg.grib.nc\n",
            "Conversion successful. NetCDF file saved as C:/Users/fitzpatrick/Desktop/Data/20240814/CFS/downloaded/flxf.01.2024081312.202505.avrg.grib.nc\n",
            "Conversion successful. NetCDF file saved as C:/Users/fitzpatrick/Desktop/Data/20240814/CFS/downloaded/flxf.01.2024081318.202408.avrg.grib.nc\n",
            "Conversion successful. NetCDF file saved as C:/Users/fitzpatrick/Desktop/Data/20240814/CFS/downloaded/flxf.01.2024081318.202409.avrg.grib.nc\n",
            "Conversion successful. NetCDF file saved as C:/Users/fitzpatrick/Desktop/Data/20240814/CFS/downloaded/flxf.01.2024081318.202410.avrg.grib.nc\n",
            "Conversion successful. NetCDF file saved as C:/Users/fitzpatrick/Desktop/Data/20240814/CFS/downloaded/flxf.01.2024081318.202411.avrg.grib.nc\n",
            "Conversion successful. NetCDF file saved as C:/Users/fitzpatrick/Desktop/Data/20240814/CFS/downloaded/flxf.01.2024081318.202412.avrg.grib.nc\n",
            "Conversion successful. NetCDF file saved as C:/Users/fitzpatrick/Desktop/Data/20240814/CFS/downloaded/flxf.01.2024081318.202501.avrg.grib.nc\n",
            "Conversion successful. NetCDF file saved as C:/Users/fitzpatrick/Desktop/Data/20240814/CFS/downloaded/flxf.01.2024081318.202502.avrg.grib.nc\n",
            "Conversion successful. NetCDF file saved as C:/Users/fitzpatrick/Desktop/Data/20240814/CFS/downloaded/flxf.01.2024081318.202503.avrg.grib.nc\n",
            "Conversion successful. NetCDF file saved as C:/Users/fitzpatrick/Desktop/Data/20240814/CFS/downloaded/flxf.01.2024081318.202504.avrg.grib.nc\n",
            "Conversion successful. NetCDF file saved as C:/Users/fitzpatrick/Desktop/Data/20240814/CFS/downloaded/flxf.01.2024081318.202505.avrg.grib.nc\n",
            "Conversion successful. NetCDF file saved as C:/Users/fitzpatrick/Desktop/Data/20240814/CFS/downloaded/pgbf.01.2024081300.202408.avrg.grib.nc\n",
            "Conversion successful. NetCDF file saved as C:/Users/fitzpatrick/Desktop/Data/20240814/CFS/downloaded/pgbf.01.2024081300.202409.avrg.grib.nc\n",
            "Conversion successful. NetCDF file saved as C:/Users/fitzpatrick/Desktop/Data/20240814/CFS/downloaded/pgbf.01.2024081300.202410.avrg.grib.nc\n",
            "Conversion successful. NetCDF file saved as C:/Users/fitzpatrick/Desktop/Data/20240814/CFS/downloaded/pgbf.01.2024081300.202411.avrg.grib.nc\n",
            "Conversion successful. NetCDF file saved as C:/Users/fitzpatrick/Desktop/Data/20240814/CFS/downloaded/pgbf.01.2024081300.202412.avrg.grib.nc\n",
            "Conversion successful. NetCDF file saved as C:/Users/fitzpatrick/Desktop/Data/20240814/CFS/downloaded/pgbf.01.2024081300.202501.avrg.grib.nc\n",
            "Conversion successful. NetCDF file saved as C:/Users/fitzpatrick/Desktop/Data/20240814/CFS/downloaded/pgbf.01.2024081300.202502.avrg.grib.nc\n",
            "Conversion successful. NetCDF file saved as C:/Users/fitzpatrick/Desktop/Data/20240814/CFS/downloaded/pgbf.01.2024081300.202503.avrg.grib.nc\n",
            "Conversion successful. NetCDF file saved as C:/Users/fitzpatrick/Desktop/Data/20240814/CFS/downloaded/pgbf.01.2024081300.202504.avrg.grib.nc\n",
            "Conversion successful. NetCDF file saved as C:/Users/fitzpatrick/Desktop/Data/20240814/CFS/downloaded/pgbf.01.2024081300.202505.avrg.grib.nc\n",
            "Conversion successful. NetCDF file saved as C:/Users/fitzpatrick/Desktop/Data/20240814/CFS/downloaded/pgbf.01.2024081306.202408.avrg.grib.nc\n",
            "Conversion successful. NetCDF file saved as C:/Users/fitzpatrick/Desktop/Data/20240814/CFS/downloaded/pgbf.01.2024081306.202409.avrg.grib.nc\n",
            "Conversion successful. NetCDF file saved as C:/Users/fitzpatrick/Desktop/Data/20240814/CFS/downloaded/pgbf.01.2024081306.202410.avrg.grib.nc\n",
            "Conversion successful. NetCDF file saved as C:/Users/fitzpatrick/Desktop/Data/20240814/CFS/downloaded/pgbf.01.2024081306.202411.avrg.grib.nc\n",
            "Conversion successful. NetCDF file saved as C:/Users/fitzpatrick/Desktop/Data/20240814/CFS/downloaded/pgbf.01.2024081306.202412.avrg.grib.nc\n",
            "Conversion successful. NetCDF file saved as C:/Users/fitzpatrick/Desktop/Data/20240814/CFS/downloaded/pgbf.01.2024081306.202501.avrg.grib.nc\n",
            "Conversion successful. NetCDF file saved as C:/Users/fitzpatrick/Desktop/Data/20240814/CFS/downloaded/pgbf.01.2024081306.202502.avrg.grib.nc\n",
            "Conversion successful. NetCDF file saved as C:/Users/fitzpatrick/Desktop/Data/20240814/CFS/downloaded/pgbf.01.2024081306.202503.avrg.grib.nc\n",
            "Conversion successful. NetCDF file saved as C:/Users/fitzpatrick/Desktop/Data/20240814/CFS/downloaded/pgbf.01.2024081306.202504.avrg.grib.nc\n",
            "Conversion successful. NetCDF file saved as C:/Users/fitzpatrick/Desktop/Data/20240814/CFS/downloaded/pgbf.01.2024081306.202505.avrg.grib.nc\n",
            "Conversion successful. NetCDF file saved as C:/Users/fitzpatrick/Desktop/Data/20240814/CFS/downloaded/pgbf.01.2024081312.202408.avrg.grib.nc\n",
            "Conversion successful. NetCDF file saved as C:/Users/fitzpatrick/Desktop/Data/20240814/CFS/downloaded/pgbf.01.2024081312.202409.avrg.grib.nc\n",
            "Conversion successful. NetCDF file saved as C:/Users/fitzpatrick/Desktop/Data/20240814/CFS/downloaded/pgbf.01.2024081312.202410.avrg.grib.nc\n",
            "Conversion successful. NetCDF file saved as C:/Users/fitzpatrick/Desktop/Data/20240814/CFS/downloaded/pgbf.01.2024081312.202411.avrg.grib.nc\n",
            "Conversion successful. NetCDF file saved as C:/Users/fitzpatrick/Desktop/Data/20240814/CFS/downloaded/pgbf.01.2024081312.202412.avrg.grib.nc\n",
            "Conversion successful. NetCDF file saved as C:/Users/fitzpatrick/Desktop/Data/20240814/CFS/downloaded/pgbf.01.2024081312.202501.avrg.grib.nc\n",
            "Conversion successful. NetCDF file saved as C:/Users/fitzpatrick/Desktop/Data/20240814/CFS/downloaded/pgbf.01.2024081312.202502.avrg.grib.nc\n",
            "Conversion successful. NetCDF file saved as C:/Users/fitzpatrick/Desktop/Data/20240814/CFS/downloaded/pgbf.01.2024081312.202503.avrg.grib.nc\n",
            "Conversion successful. NetCDF file saved as C:/Users/fitzpatrick/Desktop/Data/20240814/CFS/downloaded/pgbf.01.2024081312.202504.avrg.grib.nc\n",
            "Conversion successful. NetCDF file saved as C:/Users/fitzpatrick/Desktop/Data/20240814/CFS/downloaded/pgbf.01.2024081312.202505.avrg.grib.nc\n",
            "Conversion successful. NetCDF file saved as C:/Users/fitzpatrick/Desktop/Data/20240814/CFS/downloaded/pgbf.01.2024081318.202408.avrg.grib.nc\n",
            "Conversion successful. NetCDF file saved as C:/Users/fitzpatrick/Desktop/Data/20240814/CFS/downloaded/pgbf.01.2024081318.202409.avrg.grib.nc\n",
            "Conversion successful. NetCDF file saved as C:/Users/fitzpatrick/Desktop/Data/20240814/CFS/downloaded/pgbf.01.2024081318.202410.avrg.grib.nc\n",
            "Conversion successful. NetCDF file saved as C:/Users/fitzpatrick/Desktop/Data/20240814/CFS/downloaded/pgbf.01.2024081318.202411.avrg.grib.nc\n",
            "Conversion successful. NetCDF file saved as C:/Users/fitzpatrick/Desktop/Data/20240814/CFS/downloaded/pgbf.01.2024081318.202412.avrg.grib.nc\n",
            "Conversion successful. NetCDF file saved as C:/Users/fitzpatrick/Desktop/Data/20240814/CFS/downloaded/pgbf.01.2024081318.202501.avrg.grib.nc\n",
            "Conversion successful. NetCDF file saved as C:/Users/fitzpatrick/Desktop/Data/20240814/CFS/downloaded/pgbf.01.2024081318.202502.avrg.grib.nc\n",
            "Conversion successful. NetCDF file saved as C:/Users/fitzpatrick/Desktop/Data/20240814/CFS/downloaded/pgbf.01.2024081318.202503.avrg.grib.nc\n",
            "Conversion successful. NetCDF file saved as C:/Users/fitzpatrick/Desktop/Data/20240814/CFS/downloaded/pgbf.01.2024081318.202504.avrg.grib.nc\n",
            "Conversion successful. NetCDF file saved as C:/Users/fitzpatrick/Desktop/Data/20240814/CFS/downloaded/pgbf.01.2024081318.202505.avrg.grib.nc\n"
          ]
        }
      ],
      "source": [
        "# Set up a loop to convert all the grib2 files to netcdf in a given directory\n",
        "grb2_files = get_files(download_dir, 'ends', '.grb2')\n",
        "\n",
        "for grib2_file in grb2_files:\n",
        "    output_netcdf_file = grib2_file[:-5] + '.nc'  # Replace .grb2 with .nc in file name\n",
        "    grb2_to_netcdf(grib2_file, output_netcdf_file)"
      ]
    },
    {
      "cell_type": "code",
      "execution_count": 13,
      "metadata": {},
      "outputs": [
        {
          "name": "stdout",
          "output_type": "stream",
          "text": [
            "Directory created.\n"
          ]
        }
      ],
      "source": [
        "process_dir = f'{dir}{today}/CFS/processed/'\n",
        "if not os.path.exists(process_dir):\n",
        "    os.makedirs(process_dir)\n",
        "    print(\"Directory created.\")\n",
        "else:\n",
        "    print(\"Directory already exists.\")"
      ]
    },
    {
      "cell_type": "code",
      "execution_count": 14,
      "metadata": {},
      "outputs": [
        {
          "name": "stderr",
          "output_type": "stream",
          "text": [
            "c:\\Users\\fitzpatrick\\AppData\\Local\\Programs\\Python\\Python312\\Lib\\site-packages\\xarray\\backends\\plugins.py:80: RuntimeWarning: Engine 'cfgrib' loading failed:\n",
            "Cannot find the ecCodes library\n",
            "  warnings.warn(f\"Engine {name!r} loading failed:\\n{ex}\", RuntimeWarning)\n"
          ]
        },
        {
          "name": "stdout",
          "output_type": "stream",
          "text": [
            "Complete: C:/Users/fitzpatrick/Desktop/Data/20240814/CFS/processed/flxf.01.2024081300.allmonths.nc\n",
            "Complete: C:/Users/fitzpatrick/Desktop/Data/20240814/CFS/processed/flxf.01.2024081306.allmonths.nc\n",
            "Complete: C:/Users/fitzpatrick/Desktop/Data/20240814/CFS/processed/flxf.01.2024081312.allmonths.nc\n",
            "Complete: C:/Users/fitzpatrick/Desktop/Data/20240814/CFS/processed/flxf.01.2024081318.allmonths.nc\n",
            "Complete: C:/Users/fitzpatrick/Desktop/Data/20240814/CFS/processed/pgbf.01.2024081300.allmonths.nc\n",
            "Complete: C:/Users/fitzpatrick/Desktop/Data/20240814/CFS/processed/pgbf.01.2024081306.allmonths.nc\n",
            "Complete: C:/Users/fitzpatrick/Desktop/Data/20240814/CFS/processed/pgbf.01.2024081312.allmonths.nc\n",
            "Complete: C:/Users/fitzpatrick/Desktop/Data/20240814/CFS/processed/pgbf.01.2024081318.allmonths.nc\n"
          ]
        }
      ],
      "source": [
        "# This step drops unused variables and merges the months together into a 1 netcdf file\n",
        "nc_files = get_files(download_dir, 'ends', '.nc')\n",
        "merge_netcdf_files(process_dir, nc_files)"
      ]
    },
    {
      "cell_type": "code",
      "execution_count": 15,
      "metadata": {},
      "outputs": [
        {
          "name": "stdout",
          "output_type": "stream",
          "text": [
            "Processing complete:  C:/Users/fitzpatrick/Desktop/Data/20240814/CFS/processed/flxf.01.2024081300.allmonths.remapped.nc\n",
            "Processing complete:  C:/Users/fitzpatrick/Desktop/Data/20240814/CFS/processed/flxf.01.2024081306.allmonths.remapped.nc\n",
            "Processing complete:  C:/Users/fitzpatrick/Desktop/Data/20240814/CFS/processed/flxf.01.2024081312.allmonths.remapped.nc\n",
            "Processing complete:  C:/Users/fitzpatrick/Desktop/Data/20240814/CFS/processed/flxf.01.2024081318.allmonths.remapped.nc\n",
            "Processing complete:  C:/Users/fitzpatrick/Desktop/Data/20240814/CFS/processed/pgbf.01.2024081300.allmonths.remapped.nc\n",
            "Processing complete:  C:/Users/fitzpatrick/Desktop/Data/20240814/CFS/processed/pgbf.01.2024081306.allmonths.remapped.nc\n",
            "Processing complete:  C:/Users/fitzpatrick/Desktop/Data/20240814/CFS/processed/pgbf.01.2024081312.allmonths.remapped.nc\n",
            "Processing complete:  C:/Users/fitzpatrick/Desktop/Data/20240814/CFS/processed/pgbf.01.2024081318.allmonths.remapped.nc\n"
          ]
        }
      ],
      "source": [
        "file_list = get_files(process_dir, 'ends', '.nc')\n",
        "\n",
        "# Use the function defined above to cut the netcdf files to the GL domain and upscale to 0.25 degrees\n",
        "for file in file_list:\n",
        "    # Split the filename\n",
        "    filename = os.path.basename(file) #pulls the filename from the entire path\n",
        "    name, ext = os.path.splitext(filename) #splits the filename at the '.nc' so we can change the filename\n",
        "\n",
        "    # Create new file names for the new files\n",
        "    new_filename = name + '.remapped' + ext\n",
        "    new_netcdf = cut_remap_netcdf(file, mask, process_dir+new_filename, lonlatbox)"
      ]
    }
  ],
  "metadata": {
    "colab": {
      "provenance": []
    },
    "kernelspec": {
      "display_name": "Python 3",
      "language": "python",
      "name": "python3"
    },
    "language_info": {
      "codemirror_mode": {
        "name": "ipython",
        "version": 3
      },
      "file_extension": ".py",
      "mimetype": "text/x-python",
      "name": "python",
      "nbconvert_exporter": "python",
      "pygments_lexer": "ipython3",
      "version": "3.12.3"
    }
  },
  "nbformat": 4,
  "nbformat_minor": 0
}
