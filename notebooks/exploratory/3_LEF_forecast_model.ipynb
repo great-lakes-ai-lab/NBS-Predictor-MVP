{
 "cells": [
  {
   "cell_type": "code",
   "execution_count": 21,
   "metadata": {},
   "outputs": [],
   "source": [
    "import pandas as pd\n",
    "import numpy as np\n",
    "from datetime import datetime, timedelta\n",
    "from sklearn.preprocessing import StandardScaler\n",
    "import tensorflow as tf\n",
    "import matplotlib.pyplot as plt"
   ]
  },
  {
   "cell_type": "code",
   "execution_count": 25,
   "metadata": {},
   "outputs": [
    {
     "ename": "ValueError",
     "evalue": "File not found: filepath=er_trained_model.keras. Please ensure the file is an accessible `.keras` zip file.",
     "output_type": "error",
     "traceback": [
      "\u001b[1;31m---------------------------------------------------------------------------\u001b[0m",
      "\u001b[1;31mValueError\u001b[0m                                Traceback (most recent call last)",
      "Cell \u001b[1;32mIn[25], line 12\u001b[0m\n\u001b[0;32m      9\u001b[0m tmp_data \u001b[38;5;241m=\u001b[39m pd\u001b[38;5;241m.\u001b[39mread_csv(\u001b[38;5;28mdir\u001b[39m\u001b[38;5;241m+\u001b[39m\u001b[38;5;124mf\u001b[39m\u001b[38;5;124m'\u001b[39m\u001b[38;5;124mCFS_TMP_forecasts_\u001b[39m\u001b[38;5;132;01m{\u001b[39;00myesterday\u001b[38;5;132;01m}\u001b[39;00m\u001b[38;5;124m.csv\u001b[39m\u001b[38;5;124m'\u001b[39m,sep\u001b[38;5;241m=\u001b[39m\u001b[38;5;124m'\u001b[39m\u001b[38;5;124m,\u001b[39m\u001b[38;5;124m'\u001b[39m)\n\u001b[0;32m     10\u001b[0m evap_data \u001b[38;5;241m=\u001b[39m pd\u001b[38;5;241m.\u001b[39mread_csv(\u001b[38;5;28mdir\u001b[39m\u001b[38;5;241m+\u001b[39m\u001b[38;5;124mf\u001b[39m\u001b[38;5;124m'\u001b[39m\u001b[38;5;124mCFS_EVAP_forecasts_\u001b[39m\u001b[38;5;132;01m{\u001b[39;00myesterday\u001b[38;5;132;01m}\u001b[39;00m\u001b[38;5;124m.csv\u001b[39m\u001b[38;5;124m'\u001b[39m,sep\u001b[38;5;241m=\u001b[39m\u001b[38;5;124m'\u001b[39m\u001b[38;5;124m,\u001b[39m\u001b[38;5;124m'\u001b[39m)\n\u001b[1;32m---> 12\u001b[0m er_model \u001b[38;5;241m=\u001b[39m \u001b[43mtf\u001b[49m\u001b[38;5;241;43m.\u001b[39;49m\u001b[43mkeras\u001b[49m\u001b[38;5;241;43m.\u001b[39;49m\u001b[43mmodels\u001b[49m\u001b[38;5;241;43m.\u001b[39;49m\u001b[43mload_model\u001b[49m\u001b[43m(\u001b[49m\u001b[38;5;124;43m'\u001b[39;49m\u001b[38;5;124;43mer_trained_model.keras\u001b[39;49m\u001b[38;5;124;43m'\u001b[39;49m\u001b[43m)\u001b[49m\n\u001b[0;32m     13\u001b[0m on_model \u001b[38;5;241m=\u001b[39m tf\u001b[38;5;241m.\u001b[39mkeras\u001b[38;5;241m.\u001b[39mmodels\u001b[38;5;241m.\u001b[39mload_model(\u001b[38;5;124m'\u001b[39m\u001b[38;5;124mon_trained_model.keras\u001b[39m\u001b[38;5;124m'\u001b[39m)\n\u001b[0;32m     14\u001b[0m su_model \u001b[38;5;241m=\u001b[39m tf\u001b[38;5;241m.\u001b[39mkeras\u001b[38;5;241m.\u001b[39mmodels\u001b[38;5;241m.\u001b[39mload_model(\u001b[38;5;124m'\u001b[39m\u001b[38;5;124msu_trained_model.keras\u001b[39m\u001b[38;5;124m'\u001b[39m)\n",
      "File \u001b[1;32mc:\\Users\\fitzpatrick\\AppData\\Local\\Programs\\Python\\Python312\\Lib\\site-packages\\keras\\src\\saving\\saving_api.py:187\u001b[0m, in \u001b[0;36mload_model\u001b[1;34m(filepath, custom_objects, compile, safe_mode)\u001b[0m\n\u001b[0;32m    183\u001b[0m     \u001b[38;5;28;01mreturn\u001b[39;00m legacy_h5_format\u001b[38;5;241m.\u001b[39mload_model_from_hdf5(\n\u001b[0;32m    184\u001b[0m         filepath, custom_objects\u001b[38;5;241m=\u001b[39mcustom_objects, \u001b[38;5;28mcompile\u001b[39m\u001b[38;5;241m=\u001b[39m\u001b[38;5;28mcompile\u001b[39m\n\u001b[0;32m    185\u001b[0m     )\n\u001b[0;32m    186\u001b[0m \u001b[38;5;28;01melif\u001b[39;00m \u001b[38;5;28mstr\u001b[39m(filepath)\u001b[38;5;241m.\u001b[39mendswith(\u001b[38;5;124m\"\u001b[39m\u001b[38;5;124m.keras\u001b[39m\u001b[38;5;124m\"\u001b[39m):\n\u001b[1;32m--> 187\u001b[0m     \u001b[38;5;28;01mraise\u001b[39;00m \u001b[38;5;167;01mValueError\u001b[39;00m(\n\u001b[0;32m    188\u001b[0m         \u001b[38;5;124mf\u001b[39m\u001b[38;5;124m\"\u001b[39m\u001b[38;5;124mFile not found: filepath=\u001b[39m\u001b[38;5;132;01m{\u001b[39;00mfilepath\u001b[38;5;132;01m}\u001b[39;00m\u001b[38;5;124m. \u001b[39m\u001b[38;5;124m\"\u001b[39m\n\u001b[0;32m    189\u001b[0m         \u001b[38;5;124m\"\u001b[39m\u001b[38;5;124mPlease ensure the file is an accessible `.keras` \u001b[39m\u001b[38;5;124m\"\u001b[39m\n\u001b[0;32m    190\u001b[0m         \u001b[38;5;124m\"\u001b[39m\u001b[38;5;124mzip file.\u001b[39m\u001b[38;5;124m\"\u001b[39m\n\u001b[0;32m    191\u001b[0m     )\n\u001b[0;32m    192\u001b[0m \u001b[38;5;28;01melse\u001b[39;00m:\n\u001b[0;32m    193\u001b[0m     \u001b[38;5;28;01mraise\u001b[39;00m \u001b[38;5;167;01mValueError\u001b[39;00m(\n\u001b[0;32m    194\u001b[0m         \u001b[38;5;124mf\u001b[39m\u001b[38;5;124m\"\u001b[39m\u001b[38;5;124mFile format not supported: filepath=\u001b[39m\u001b[38;5;132;01m{\u001b[39;00mfilepath\u001b[38;5;132;01m}\u001b[39;00m\u001b[38;5;124m. \u001b[39m\u001b[38;5;124m\"\u001b[39m\n\u001b[0;32m    195\u001b[0m         \u001b[38;5;124m\"\u001b[39m\u001b[38;5;124mKeras 3 only supports V3 `.keras` files and \u001b[39m\u001b[38;5;124m\"\u001b[39m\n\u001b[1;32m   (...)\u001b[0m\n\u001b[0;32m    204\u001b[0m         \u001b[38;5;124m\"\u001b[39m\u001b[38;5;124mmight have a different name).\u001b[39m\u001b[38;5;124m\"\u001b[39m\n\u001b[0;32m    205\u001b[0m     )\n",
      "\u001b[1;31mValueError\u001b[0m: File not found: filepath=er_trained_model.keras. Please ensure the file is an accessible `.keras` zip file."
     ]
    }
   ],
   "source": [
    "#today = datetime.today().strftime('%Y%m%d')\n",
    "#yesterday = (datetime.today() - timedelta(days=1)).strftime('%Y%m%d')\n",
    "today = '20240722'\n",
    "yesterday = '20240721'\n",
    "\n",
    "dir = f'C:/Users/fitzpatrick/Desktop/Data/{today}/'\n",
    "\n",
    "pcp_data = pd.read_csv(dir+f'CFS_APCP_forecasts_{yesterday}.csv',sep=',')\n",
    "tmp_data = pd.read_csv(dir+f'CFS_TMP_forecasts_{yesterday}.csv',sep=',')\n",
    "evap_data = pd.read_csv(dir+f'CFS_EVAP_forecasts_{yesterday}.csv',sep=',')\n",
    "\n",
    "er_model = tf.keras.models.load_model('er_trained_model.keras')\n",
    "on_model = tf.keras.models.load_model('on_trained_model.keras')\n",
    "su_model = tf.keras.models.load_model('su_trained_model.keras')\n",
    "mh_model = tf.keras.models.load_model('mh_trained_model.keras')"
   ]
  },
  {
   "cell_type": "code",
   "execution_count": 15,
   "metadata": {},
   "outputs": [],
   "source": [
    "df_er = pd.concat([pcp_data['forecast_month'], pcp_data['eri_lake'], tmp_data['eri_lake'], evap_data['eri_lake']], axis=1)\n",
    "df_su = pd.concat([pcp_data['forecast_month'], pcp_data['sup_lake'], tmp_data['sup_lake'], evap_data['sup_lake']], axis=1)\n",
    "df_on = pd.concat([pcp_data['forecast_month'], pcp_data['ont_lake'], tmp_data['ont_lake'], evap_data['ont_lake']], axis=1)\n",
    "df_mh = pd.concat([pcp_data['forecast_month'], pcp_data['mic_lake']+pcp_data['hur_lake'], tmp_data['mic_lake']+tmp_data['hur_lake'], evap_data['mic_lake']+evap_data['hur_lake']], axis=1)\n",
    "\n",
    "df_er.columns = ['month', 'pcp', 'tmp', 'evap']\n",
    "df_su.columns = ['month', 'pcp', 'tmp', 'evap']\n",
    "df_on.columns = ['month', 'pcp', 'tmp', 'evap']\n",
    "df_mh.columns = ['month', 'pcp', 'tmp', 'evap']"
   ]
  },
  {
   "cell_type": "code",
   "execution_count": 18,
   "metadata": {},
   "outputs": [
    {
     "name": "stdout",
     "output_type": "stream",
     "text": [
      "    month         pcp         tmp        evap\n",
      "0       7   43.009005  295.631913   99.128759\n",
      "1       8   84.534385  295.268977   90.110741\n",
      "2       9  203.874534  291.152024   85.802188\n",
      "3      10   35.101357  286.012539   72.034304\n",
      "4      11   96.723911  279.511013   79.553168\n",
      "5      12  103.686329  274.483437   67.083857\n",
      "6       1  116.167575  267.786892   78.178251\n",
      "7       2   77.558203  261.998548   83.592117\n",
      "8       3   78.460238  270.055867   49.455970\n",
      "9       4   99.050449  274.438619   59.077927\n",
      "10      7   56.032326  295.220078  104.599207\n",
      "11      8   68.376397  293.452165   96.446096\n",
      "12      9   82.973760  291.396421   81.028273\n",
      "13     10   69.289760  283.056152   93.915147\n",
      "14     11   94.052854  278.194892   80.781991\n",
      "15     12  101.916345  273.908135   74.183220\n",
      "16      1  109.957428  264.662824   83.638062\n",
      "17      2  214.864154  269.222310   60.659047\n",
      "18      3   83.194271  272.792677   50.532343\n",
      "19      4   83.102095  278.892315   45.366975\n",
      "20      7   97.343724  295.265193  105.372866\n",
      "21      8   77.820778  294.227199   99.972196\n",
      "22      9   94.055641  289.532457  105.830772\n",
      "23     10   27.385971  286.959019   63.535012\n",
      "24     11  112.516468  275.827007   82.961022\n",
      "25     12   74.416919  269.221315   85.135118\n",
      "26      1  154.012877  267.007499   92.506247\n",
      "27      2   77.622114  269.663069   53.201922\n",
      "28      3  114.045490  269.556635   62.046625\n",
      "29      4  102.706762  274.039240   57.174022\n",
      "30      7   68.247474  295.463635  108.600638\n",
      "31      8   49.586076  295.154459   87.248572\n",
      "32      9  115.615104  290.447852   83.607004\n",
      "33     10   92.816470  285.634055   83.094043\n",
      "34     11   82.240837  278.277238   73.629443\n",
      "35     12   85.644011  273.676276   64.965923\n",
      "36      1   82.716299  267.835963   74.687945\n",
      "37      2   53.243642  267.746693   60.953580\n",
      "38      3   80.387341  270.950873   57.439601\n",
      "39      4   82.726528  277.341862   50.465723\n",
      "40      4         NaN         NaN         NaN\n",
      "<pandas.core.groupby.generic.DataFrameGroupBy object at 0x00000245F85EEC00>\n"
     ]
    }
   ],
   "source": [
    "print(df_er)"
   ]
  },
  {
   "cell_type": "code",
   "execution_count": 19,
   "metadata": {},
   "outputs": [
    {
     "ename": "NameError",
     "evalue": "name 'er_model' is not defined",
     "output_type": "error",
     "traceback": [
      "\u001b[1;31m---------------------------------------------------------------------------\u001b[0m",
      "\u001b[1;31mNameError\u001b[0m                                 Traceback (most recent call last)",
      "Cell \u001b[1;32mIn[19], line 22\u001b[0m\n\u001b[0;32m     18\u001b[0m         df[\u001b[38;5;124mf\u001b[39m\u001b[38;5;124m'\u001b[39m\u001b[38;5;132;01m{\u001b[39;00mfeature\u001b[38;5;132;01m}\u001b[39;00m\u001b[38;5;124m_prediction\u001b[39m\u001b[38;5;124m'\u001b[39m] \u001b[38;5;241m=\u001b[39m predictions[:, i]\n\u001b[0;32m     20\u001b[0m     \u001b[38;5;28;01mreturn\u001b[39;00m df\n\u001b[1;32m---> 22\u001b[0m df_predictions \u001b[38;5;241m=\u001b[39m predict_and_add(df_er, \u001b[43mer_model\u001b[49m)\n",
      "\u001b[1;31mNameError\u001b[0m: name 'er_model' is not defined"
     ]
    }
   ],
   "source": [
    "# Function to scale data and make predictions\n",
    "def predict_and_add(df, model):\n",
    "    # Extract features to scale and predict\n",
    "    features = ['pcp', 'tmp', 'evap']\n",
    "    X = df[features].values\n",
    "\n",
    "    # Load scaler and model\n",
    "    scaler = StandardScaler()\n",
    "\n",
    "    # Scale features\n",
    "    X_scaled = scaler.fit_transform(X)\n",
    "\n",
    "    # Make predictions\n",
    "    predictions = model.predict(X_scaled)\n",
    "\n",
    "    # Add predictions to DataFrame\n",
    "    for i, feature in enumerate(features):\n",
    "        df[f'{feature}_prediction'] = predictions[:, i]\n",
    "\n",
    "    return df\n",
    "\n",
    "df_predictions = predict_and_add(df_er, er_model)"
   ]
  }
 ],
 "metadata": {
  "kernelspec": {
   "display_name": "Python 3",
   "language": "python",
   "name": "python3"
  },
  "language_info": {
   "codemirror_mode": {
    "name": "ipython",
    "version": 3
   },
   "file_extension": ".py",
   "mimetype": "text/x-python",
   "name": "python",
   "nbconvert_exporter": "python",
   "pygments_lexer": "ipython3",
   "version": "3.12.3"
  }
 },
 "nbformat": 4,
 "nbformat_minor": 2
}
