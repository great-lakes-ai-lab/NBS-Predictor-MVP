{
 "cells": [
  {
   "cell_type": "code",
   "execution_count": null,
   "metadata": {},
   "outputs": [],
   "source": [
    "import os\n",
    "import xarray as xr\n",
    "import numpy as np\n",
    "from datetime import datetime, timedelta"
   ]
  },
  {
   "cell_type": "code",
   "execution_count": null,
   "metadata": {},
   "outputs": [],
   "source": [
    "def cut_netcdf_to_bounding_box(input_file, output_file, lonlatbox):\n",
    "    \"\"\"\n",
    "    Cut a NetCDF file to a specified lon-lat bounding box and save it as a new file.\n",
    "\n",
    "    Parameters:\n",
    "        input_file (str): Path to the input NetCDF file.\n",
    "        output_file (str): Path to save the output NetCDF file.\n",
    "        lonlatbox (list): Bounding box in the format [lon_min, lon_max, lat_min, lat_max].\n",
    "\n",
    "    Returns:\n",
    "        None\n",
    "    \"\"\"\n",
    "    # Unpack the lon-lat bounding box\n",
    "    lon_min, lon_max, lat_min, lat_max = lonlatbox\n",
    "\n",
    "    # Open the input NetCDF file\n",
    "    ds = xr.open_dataset(input_file)\n",
    "\n",
    "    # Select the region within the bounding box\n",
    "    ds_cut = ds.sel(lon=slice(lon_min, lon_max), lat=slice(lat_min, lat_max))\n",
    "\n",
    "    # Upscale dimensions\n",
    "    new_dims = {dim: ds_cut.sizes[dim] * 4 for dim in ds_cut.dims}\n",
    "\n",
    "    # Create new coordinates\n",
    "    new_coords = {coord: np.linspace(ds_cut[coord][0], ds_cut[coord][-1], size)\n",
    "                  for coord, size in new_dims.items()}\n",
    "\n",
    "    # Perform interpolation\n",
    "    ds_upscaled = ds_cut.interp(coords=new_coords)\n",
    "    # Save the new NetCDF file\n",
    "    ds_upscaled.to_netcdf(output_file)\n",
    "\n",
    "    print(f\"New NetCDF file saved as: {output_file}\")\n",
    "\n",
    "    return ds_upscaled\n"
   ]
  },
  {
   "cell_type": "code",
   "execution_count": null,
   "metadata": {},
   "outputs": [],
   "source": [
    "def get_files(directory, format):\n",
    "    \"\"\"\n",
    "    Get a list of all GRIB2 files in the specified directory.\n",
    "\n",
    "    Parameters:\n",
    "    - directory: Path to the directory containing the GRIB2 files.\n",
    "    - format: either '.grb2' or '.nc'\n",
    "    Returns:\n",
    "    - List of file paths to the GRIB2 files.\n",
    "    \"\"\"\n",
    "    files = []\n",
    "    for file_name in os.listdir(directory):\n",
    "        if file_name.endswith(format):\n",
    "            file_path = os.path.join(directory, file_name)\n",
    "            files.append(file_path)\n",
    "    return files"
   ]
  },
  {
   "cell_type": "code",
   "execution_count": null,
   "metadata": {},
   "outputs": [],
   "source": [
    "def upscale_grid(nc_file):\n",
    "    # Open the NetCDF file\n",
    "    ds = xr.open_dataset(nc_file)\n",
    "\n",
    "    # Upscale dimensions\n",
    "    new_dims = {dim: ds.sizes[dim] * 4 for dim in ds.dims}\n",
    "\n",
    "    # Create new coordinates\n",
    "    new_coords = {coord: np.linspace(ds[coord][0], ds[coord][-1], size)\n",
    "                  for coord, size in new_dims.items()}\n",
    "\n",
    "    # Perform interpolation\n",
    "    upscaled_data = ds.interp(coords=new_coords)\n",
    "\n",
    "    return upscaled_data"
   ]
  },
  {
   "cell_type": "code",
   "execution_count": null,
   "metadata": {},
   "outputs": [],
   "source": [
    "# Defined constants based on today's date and not required as input from the user\n",
    "today = datetime.today()\n",
    "year1 = today.year\n",
    "month1 = today.month\n",
    "dayofmonth = today.day\n",
    "day1 = today.replace(day=1).strftime('%Y%m%d') # is this always just 01 or a date??\n",
    "\n",
    "eventtime = today.replace(day=1).strftime('%Y-%m-%d')\n",
    "date = today.strftime('%Y%m%d')"
   ]
  },
  {
   "cell_type": "code",
   "execution_count": null,
   "metadata": {},
   "outputs": [],
   "source": [
    "# Constants\n",
    "# Defines box encompassing the entire Great Lakes Basin\n",
    "lonlatbox = [-110,-65,30,70]\n",
    "\n",
    "# Which daily CFS run cycles would we like to download, process, and add to our csv basin files\n",
    "utc = ['00','06','12','18']"
   ]
  },
  {
   "cell_type": "code",
   "execution_count": null,
   "metadata": {},
   "outputs": [],
   "source": [
    "# Inputs from the user\n",
    "download_dir = 'C:/Users/fitzpatrick/Desktop/Data/20240528/'"
   ]
  },
  {
   "cell_type": "code",
   "execution_count": null,
   "metadata": {},
   "outputs": [],
   "source": [
    "file_list = get_files(download_dir, '.nc')\n",
    "\n",
    "for file in file_list:\n",
    "    #split the filename \n",
    "    name, ext = os.path.splitext(file)\n",
    "    # New filename\n",
    "    new_filename = name + '_upscaled' + ext\n",
    "    \n",
    "    new_netcdf = cut_netcdf_to_bounding_box(file, new_filename, lonlatbox)"
   ]
  }
 ],
 "metadata": {
  "kernelspec": {
   "display_name": "Python 3",
   "language": "python",
   "name": "python3"
  },
  "language_info": {
   "name": "python",
   "version": "3.12.3"
  }
 },
 "nbformat": 4,
 "nbformat_minor": 2
}
