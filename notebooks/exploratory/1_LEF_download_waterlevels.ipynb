{
  "cells": [
    {
      "cell_type": "markdown",
      "metadata": {
        "id": "LpMHvqniZ0Jt"
      },
      "source": [
        "This script downloads water level csvs from the Army Corp website.\n",
        "\n",
        "No input files are required.\n"
      ]
    },
    {
      "cell_type": "code",
      "execution_count": 1,
      "metadata": {
        "id": "fAOZS2g9lB64"
      },
      "outputs": [],
      "source": [
        "# Import libraries\n",
        "import os\n",
        "import urllib.request\n",
        "from datetime import datetime\n",
        "from dateutil.relativedelta import relativedelta\n",
        "\n",
        "# I was getting a certificate error when trying to download the file. This makes it work thanks to a stackoverflow suggestion.\n",
        "import ssl\n",
        "ssl._create_default_https_context = ssl._create_unverified_context"
      ]
    },
    {
      "cell_type": "markdown",
      "metadata": {
        "id": "hnWP6B1mzrnV"
      },
      "source": [
        "# Defined Functions\n",
        "\n",
        "Function to download the previous month water levels and current month water levels."
      ]
    },
    {
      "cell_type": "code",
      "execution_count": 2,
      "metadata": {
        "id": "T9ZLNfbWnvr5"
      },
      "outputs": [],
      "source": [
        "def download_waterlevels(month, download_path):\n",
        "\n",
        "    if month == 'previous':\n",
        "        url = 'https://lre-wm.usace.army.mil/reports/greatLakes/greatLakesLevelsLastMonth/data10.csv'\n",
        "    elif month == 'current':\n",
        "        url  = 'https://lre-wm.usace.army.mil/reports/greatLakes/greatLakesLevelsThisMonth/data10.csv'\n",
        "    else:\n",
        "        print(\"Month needs to be either previous or current.\")\n",
        "\n",
        "    try:\n",
        "        urllib.request.urlretrieve(url, download_path)\n",
        "        print(f\"{month} month water levels downloaded successfully.\")\n",
        "\n",
        "    except Exception as e:\n",
        "        print(f\"An error occurred while trying to download {month} month water levels.\")"
      ]
    },
    {
      "cell_type": "markdown",
      "metadata": {
        "id": "_6sYGPZ05hI4"
      },
      "source": [
        "# Begin Script"
      ]
    },
    {
      "cell_type": "code",
      "execution_count": 3,
      "metadata": {},
      "outputs": [],
      "source": [
        "## User Input\n",
        "dir = 'C:/Users/fitzpatrick/Desktop/Data/'\n",
        "\n",
        "## Fixed inputs\n",
        "today = datetime.today()\n",
        "month_0 = today.strftime('%m')\n",
        "year_0 = today.strftime('%Y')\n",
        "last_month = today - relativedelta(months=1)\n",
        "month_1 = last_month.strftime('%m')\n",
        "year_1 = last_month.strftime('%Y')"
      ]
    },
    {
      "cell_type": "code",
      "execution_count": 4,
      "metadata": {},
      "outputs": [
        {
          "name": "stdout",
          "output_type": "stream",
          "text": [
            "Directory already exists.\n"
          ]
        }
      ],
      "source": [
        "today = today.strftime('%Y%m%d')\n",
        "download_dir = f'{dir}{today}/'\n",
        "if not os.path.exists(download_dir):\n",
        "    os.makedirs(download_dir)\n",
        "    print(\"Directory created.\")\n",
        "else:\n",
        "    print(\"Directory already exists.\")"
      ]
    },
    {
      "cell_type": "code",
      "execution_count": 5,
      "metadata": {
        "colab": {
          "base_uri": "https://localhost:8080/"
        },
        "id": "ZlrTipMLlSSi",
        "outputId": "8e72e7ae-1c6f-4344-ff74-37439ec7adf6"
      },
      "outputs": [
        {
          "name": "stdout",
          "output_type": "stream",
          "text": [
            "previous month water levels downloaded successfully.\n",
            "current month water levels downloaded successfully.\n"
          ]
        }
      ],
      "source": [
        "previous_filename = f'USACE_waterlevels_{year_1}{month_1}.csv'\n",
        "download_waterlevels('previous', download_dir+previous_filename)\n",
        "\n",
        "current_filename = f'USACE_waterlevels_{year_0}{month_0}.csv'\n",
        "download_waterlevels('current', download_dir+current_filename)"
      ]
    }
  ],
  "metadata": {
    "colab": {
      "provenance": []
    },
    "kernelspec": {
      "display_name": "Python 3",
      "name": "python3"
    },
    "language_info": {
      "codemirror_mode": {
        "name": "ipython",
        "version": 3
      },
      "file_extension": ".py",
      "mimetype": "text/x-python",
      "name": "python",
      "nbconvert_exporter": "python",
      "pygments_lexer": "ipython3",
      "version": "3.12.3"
    }
  },
  "nbformat": 4,
  "nbformat_minor": 0
}
