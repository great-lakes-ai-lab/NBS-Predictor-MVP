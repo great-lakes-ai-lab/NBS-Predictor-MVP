{
 "cells": [
  {
   "metadata": {
    "ExecuteTime": {
     "end_time": "2024-07-26T16:49:01.231509Z",
     "start_time": "2024-07-26T16:48:59.230863Z"
    }
   },
   "cell_type": "code",
   "source": [
    "import datetime as dt\n",
    "import logging\n",
    "import os\n",
    "\n",
    "import arviz as az\n",
    "import numpy as np\n",
    "import numpyro\n",
    "import pandas as pd\n",
    "import torch\n",
    "import xarray as xr\n",
    "from dateutil.relativedelta import relativedelta\n",
    "from matplotlib import pyplot as plt\n",
    "from mizani.breaks import date_breaks\n",
    "from mizani.formatters import date_format\n",
    "from plotnine import (\n",
    "    aes,\n",
    "    geom_line,\n",
    "    facet_grid,\n",
    "    geom_ribbon,\n",
    "    ggplot,\n",
    "    scale_x_datetime,\n",
    "    theme_bw,\n",
    "    theme\n",
    ")\n",
    "from sklearn.gaussian_process import kernels\n",
    "from sklearn.pipeline import Pipeline\n",
    "from sklearn.preprocessing import FunctionTransformer\n",
    "from sklearn.neural_network import MLPRegressor\n",
    "from sklearn.model_selection import TimeSeriesSplit\n",
    "\n",
    "from src.step1_data_loading.data_loading import load_data\n",
    "from src.step2_preprocessing.preprocessing import XArrayStandardScaler, SeasonalFeatures, XArrayFeatureUnion\n",
    "from src.step3_modeling.ensemble import DefaultEnsemble, BaggedXArrayRegressor\n",
    "from src.step3_modeling.gaussian_process import SklearnGPModel, LaggedSklearnGP, MultitaskGP\n",
    "from src.step3_modeling.var_models import VAR, NARX\n",
    "from src.step3_modeling.metrics import summarize\n",
    "from src.utils import create_rnbs_snapshot, flatten_array\n",
    "\n",
    "logging.basicConfig(level=logging.INFO)\n",
    "\n",
    "# device = \"cuda\"\n",
    "device = \"cpu\"\n",
    "torch.set_default_device(device)\n",
    "\n",
    "os.environ[\"JAX_PLATFORM_NAME\"] = device\n",
    "\n",
    "numpyro.set_platform(device)\n",
    "numpyro.set_host_device_count(4 if device == \"cpu\" else 1)"
   ],
   "outputs": [],
   "execution_count": 2
  },
  {
   "metadata": {
    "ExecuteTime": {
     "end_time": "2024-07-26T16:49:01.292009Z",
     "start_time": "2024-07-26T16:49:01.232407Z"
    }
   },
   "cell_type": "code",
   "source": [
    "lake_data = (load_data([\"rnbs\", \"precip\", \"temp\", \"evap\"]).\n",
    "             sel(type=\"Basin\").\n",
    "             dropna(\"Date\").\n",
    "             to_array().\n",
    "             transpose(\"Date\", \"lake\", ...)\n",
    "             )\n",
    "lake_data"
   ],
   "outputs": [
    {
     "data": {
      "text/plain": [
       "<xarray.DataArray (Date: 384, lake: 4, variable: 4)>\n",
       "array([[[-20.92372 ,  24.8     , 266.2     ,  29.08    ],\n",
       "        [ 40.5714  ,  42.78    , 266.3     ,  40.95    ],\n",
       "        [ 93.83467 ,  13.33    , 258.3     ,  57.94    ],\n",
       "        [239.5306  ,  46.5     , 526.5     ,  89.74    ]],\n",
       "\n",
       "       [[ 33.66357 ,  14.56    , 263.9     ,  24.95    ],\n",
       "        [ 39.75065 ,  16.8     , 261.1     ,  35.42    ],\n",
       "        [145.7005  ,  16.8     , 258.4     ,  34.3     ],\n",
       "        [ 92.36002 ,  24.92    , 522.4     ,  68.1     ]],\n",
       "\n",
       "       [[139.9274  ,  28.21    , 274.2     ,  29.88    ],\n",
       "        [234.0305  ,  22.32    , 274.2     ,  32.27    ],\n",
       "        [278.341   ,  35.03    , 267.1     ,  35.06    ],\n",
       "        [446.8436  ,  68.2     , 541.7     ,  59.49    ]],\n",
       "\n",
       "       ...,\n",
       "\n",
       "       [[-34.00105 ,  18.29    , 285.3     ,  55.55    ],\n",
       "        [-47.44791 ,  23.25    , 283.6     ,  62.46    ],\n",
       "        [-45.33585 ,  19.84    , 280.5     ,  53.57    ],\n",
       "        [116.2634  ,  32.24    , 566.2     , 120.5     ]],\n",
       "\n",
       "       [[  3.796643,  27.6     , 278.5     ,  37.59    ],\n",
       "        [-13.97484 ,  26.7     , 277.3     ,  45.81    ],\n",
       "        [-10.20312 ,  25.2     , 274.1     ,  54.42    ],\n",
       "        [142.3357  ,  37.5     , 553.3     , 100.35    ]],\n",
       "\n",
       "       [[-53.29011 ,  16.12    , 269.9     ,  42.62    ],\n",
       "        [ -2.97982 ,  28.83    , 269.4     ,  53.72    ],\n",
       "        [  0.      ,  13.64    , 266.5     ,  59.74    ],\n",
       "        [173.6947  ,  35.34    , 538.      , 114.91    ]]])\n",
       "Coordinates:\n",
       "  * Date      (Date) datetime64[ns] 1979-01-01 1979-02-01 ... 2010-12-01\n",
       "  * lake      (lake) object 'sup' 'mic_hur' 'eri' 'ont'\n",
       "    type      <U5 'Basin'\n",
       "  * variable  (variable) object 'rnbs' 'precip' 'temp' 'evap'\n",
       "Attributes:\n",
       "    source:   GLCC"
      ],
      "text/html": [
       "<div><svg style=\"position: absolute; width: 0; height: 0; overflow: hidden\">\n",
       "<defs>\n",
       "<symbol id=\"icon-database\" viewBox=\"0 0 32 32\">\n",
       "<path d=\"M16 0c-8.837 0-16 2.239-16 5v4c0 2.761 7.163 5 16 5s16-2.239 16-5v-4c0-2.761-7.163-5-16-5z\"></path>\n",
       "<path d=\"M16 17c-8.837 0-16-2.239-16-5v6c0 2.761 7.163 5 16 5s16-2.239 16-5v-6c0 2.761-7.163 5-16 5z\"></path>\n",
       "<path d=\"M16 26c-8.837 0-16-2.239-16-5v6c0 2.761 7.163 5 16 5s16-2.239 16-5v-6c0 2.761-7.163 5-16 5z\"></path>\n",
       "</symbol>\n",
       "<symbol id=\"icon-file-text2\" viewBox=\"0 0 32 32\">\n",
       "<path d=\"M28.681 7.159c-0.694-0.947-1.662-2.053-2.724-3.116s-2.169-2.030-3.116-2.724c-1.612-1.182-2.393-1.319-2.841-1.319h-15.5c-1.378 0-2.5 1.121-2.5 2.5v27c0 1.378 1.122 2.5 2.5 2.5h23c1.378 0 2.5-1.122 2.5-2.5v-19.5c0-0.448-0.137-1.23-1.319-2.841zM24.543 5.457c0.959 0.959 1.712 1.825 2.268 2.543h-4.811v-4.811c0.718 0.556 1.584 1.309 2.543 2.268zM28 29.5c0 0.271-0.229 0.5-0.5 0.5h-23c-0.271 0-0.5-0.229-0.5-0.5v-27c0-0.271 0.229-0.5 0.5-0.5 0 0 15.499-0 15.5 0v7c0 0.552 0.448 1 1 1h7v19.5z\"></path>\n",
       "<path d=\"M23 26h-14c-0.552 0-1-0.448-1-1s0.448-1 1-1h14c0.552 0 1 0.448 1 1s-0.448 1-1 1z\"></path>\n",
       "<path d=\"M23 22h-14c-0.552 0-1-0.448-1-1s0.448-1 1-1h14c0.552 0 1 0.448 1 1s-0.448 1-1 1z\"></path>\n",
       "<path d=\"M23 18h-14c-0.552 0-1-0.448-1-1s0.448-1 1-1h14c0.552 0 1 0.448 1 1s-0.448 1-1 1z\"></path>\n",
       "</symbol>\n",
       "</defs>\n",
       "</svg>\n",
       "<style>/* CSS stylesheet for displaying xarray objects in jupyterlab.\n",
       " *\n",
       " */\n",
       "\n",
       ":root {\n",
       "  --xr-font-color0: var(--jp-content-font-color0, rgba(0, 0, 0, 1));\n",
       "  --xr-font-color2: var(--jp-content-font-color2, rgba(0, 0, 0, 0.54));\n",
       "  --xr-font-color3: var(--jp-content-font-color3, rgba(0, 0, 0, 0.38));\n",
       "  --xr-border-color: var(--jp-border-color2, #e0e0e0);\n",
       "  --xr-disabled-color: var(--jp-layout-color3, #bdbdbd);\n",
       "  --xr-background-color: var(--jp-layout-color0, white);\n",
       "  --xr-background-color-row-even: var(--jp-layout-color1, white);\n",
       "  --xr-background-color-row-odd: var(--jp-layout-color2, #eeeeee);\n",
       "}\n",
       "\n",
       "html[theme=dark],\n",
       "body[data-theme=dark],\n",
       "body.vscode-dark {\n",
       "  --xr-font-color0: rgba(255, 255, 255, 1);\n",
       "  --xr-font-color2: rgba(255, 255, 255, 0.54);\n",
       "  --xr-font-color3: rgba(255, 255, 255, 0.38);\n",
       "  --xr-border-color: #1F1F1F;\n",
       "  --xr-disabled-color: #515151;\n",
       "  --xr-background-color: #111111;\n",
       "  --xr-background-color-row-even: #111111;\n",
       "  --xr-background-color-row-odd: #313131;\n",
       "}\n",
       "\n",
       ".xr-wrap {\n",
       "  display: block !important;\n",
       "  min-width: 300px;\n",
       "  max-width: 700px;\n",
       "}\n",
       "\n",
       ".xr-text-repr-fallback {\n",
       "  /* fallback to plain text repr when CSS is not injected (untrusted notebook) */\n",
       "  display: none;\n",
       "}\n",
       "\n",
       ".xr-header {\n",
       "  padding-top: 6px;\n",
       "  padding-bottom: 6px;\n",
       "  margin-bottom: 4px;\n",
       "  border-bottom: solid 1px var(--xr-border-color);\n",
       "}\n",
       "\n",
       ".xr-header > div,\n",
       ".xr-header > ul {\n",
       "  display: inline;\n",
       "  margin-top: 0;\n",
       "  margin-bottom: 0;\n",
       "}\n",
       "\n",
       ".xr-obj-type,\n",
       ".xr-array-name {\n",
       "  margin-left: 2px;\n",
       "  margin-right: 10px;\n",
       "}\n",
       "\n",
       ".xr-obj-type {\n",
       "  color: var(--xr-font-color2);\n",
       "}\n",
       "\n",
       ".xr-sections {\n",
       "  padding-left: 0 !important;\n",
       "  display: grid;\n",
       "  grid-template-columns: 150px auto auto 1fr 20px 20px;\n",
       "}\n",
       "\n",
       ".xr-section-item {\n",
       "  display: contents;\n",
       "}\n",
       "\n",
       ".xr-section-item input {\n",
       "  display: none;\n",
       "}\n",
       "\n",
       ".xr-section-item input + label {\n",
       "  color: var(--xr-disabled-color);\n",
       "}\n",
       "\n",
       ".xr-section-item input:enabled + label {\n",
       "  cursor: pointer;\n",
       "  color: var(--xr-font-color2);\n",
       "}\n",
       "\n",
       ".xr-section-item input:enabled + label:hover {\n",
       "  color: var(--xr-font-color0);\n",
       "}\n",
       "\n",
       ".xr-section-summary {\n",
       "  grid-column: 1;\n",
       "  color: var(--xr-font-color2);\n",
       "  font-weight: 500;\n",
       "}\n",
       "\n",
       ".xr-section-summary > span {\n",
       "  display: inline-block;\n",
       "  padding-left: 0.5em;\n",
       "}\n",
       "\n",
       ".xr-section-summary-in:disabled + label {\n",
       "  color: var(--xr-font-color2);\n",
       "}\n",
       "\n",
       ".xr-section-summary-in + label:before {\n",
       "  display: inline-block;\n",
       "  content: '►';\n",
       "  font-size: 11px;\n",
       "  width: 15px;\n",
       "  text-align: center;\n",
       "}\n",
       "\n",
       ".xr-section-summary-in:disabled + label:before {\n",
       "  color: var(--xr-disabled-color);\n",
       "}\n",
       "\n",
       ".xr-section-summary-in:checked + label:before {\n",
       "  content: '▼';\n",
       "}\n",
       "\n",
       ".xr-section-summary-in:checked + label > span {\n",
       "  display: none;\n",
       "}\n",
       "\n",
       ".xr-section-summary,\n",
       ".xr-section-inline-details {\n",
       "  padding-top: 4px;\n",
       "  padding-bottom: 4px;\n",
       "}\n",
       "\n",
       ".xr-section-inline-details {\n",
       "  grid-column: 2 / -1;\n",
       "}\n",
       "\n",
       ".xr-section-details {\n",
       "  display: none;\n",
       "  grid-column: 1 / -1;\n",
       "  margin-bottom: 5px;\n",
       "}\n",
       "\n",
       ".xr-section-summary-in:checked ~ .xr-section-details {\n",
       "  display: contents;\n",
       "}\n",
       "\n",
       ".xr-array-wrap {\n",
       "  grid-column: 1 / -1;\n",
       "  display: grid;\n",
       "  grid-template-columns: 20px auto;\n",
       "}\n",
       "\n",
       ".xr-array-wrap > label {\n",
       "  grid-column: 1;\n",
       "  vertical-align: top;\n",
       "}\n",
       "\n",
       ".xr-preview {\n",
       "  color: var(--xr-font-color3);\n",
       "}\n",
       "\n",
       ".xr-array-preview,\n",
       ".xr-array-data {\n",
       "  padding: 0 5px !important;\n",
       "  grid-column: 2;\n",
       "}\n",
       "\n",
       ".xr-array-data,\n",
       ".xr-array-in:checked ~ .xr-array-preview {\n",
       "  display: none;\n",
       "}\n",
       "\n",
       ".xr-array-in:checked ~ .xr-array-data,\n",
       ".xr-array-preview {\n",
       "  display: inline-block;\n",
       "}\n",
       "\n",
       ".xr-dim-list {\n",
       "  display: inline-block !important;\n",
       "  list-style: none;\n",
       "  padding: 0 !important;\n",
       "  margin: 0;\n",
       "}\n",
       "\n",
       ".xr-dim-list li {\n",
       "  display: inline-block;\n",
       "  padding: 0;\n",
       "  margin: 0;\n",
       "}\n",
       "\n",
       ".xr-dim-list:before {\n",
       "  content: '(';\n",
       "}\n",
       "\n",
       ".xr-dim-list:after {\n",
       "  content: ')';\n",
       "}\n",
       "\n",
       ".xr-dim-list li:not(:last-child):after {\n",
       "  content: ',';\n",
       "  padding-right: 5px;\n",
       "}\n",
       "\n",
       ".xr-has-index {\n",
       "  font-weight: bold;\n",
       "}\n",
       "\n",
       ".xr-var-list,\n",
       ".xr-var-item {\n",
       "  display: contents;\n",
       "}\n",
       "\n",
       ".xr-var-item > div,\n",
       ".xr-var-item label,\n",
       ".xr-var-item > .xr-var-name span {\n",
       "  background-color: var(--xr-background-color-row-even);\n",
       "  margin-bottom: 0;\n",
       "}\n",
       "\n",
       ".xr-var-item > .xr-var-name:hover span {\n",
       "  padding-right: 5px;\n",
       "}\n",
       "\n",
       ".xr-var-list > li:nth-child(odd) > div,\n",
       ".xr-var-list > li:nth-child(odd) > label,\n",
       ".xr-var-list > li:nth-child(odd) > .xr-var-name span {\n",
       "  background-color: var(--xr-background-color-row-odd);\n",
       "}\n",
       "\n",
       ".xr-var-name {\n",
       "  grid-column: 1;\n",
       "}\n",
       "\n",
       ".xr-var-dims {\n",
       "  grid-column: 2;\n",
       "}\n",
       "\n",
       ".xr-var-dtype {\n",
       "  grid-column: 3;\n",
       "  text-align: right;\n",
       "  color: var(--xr-font-color2);\n",
       "}\n",
       "\n",
       ".xr-var-preview {\n",
       "  grid-column: 4;\n",
       "}\n",
       "\n",
       ".xr-index-preview {\n",
       "  grid-column: 2 / 5;\n",
       "  color: var(--xr-font-color2);\n",
       "}\n",
       "\n",
       ".xr-var-name,\n",
       ".xr-var-dims,\n",
       ".xr-var-dtype,\n",
       ".xr-preview,\n",
       ".xr-attrs dt {\n",
       "  white-space: nowrap;\n",
       "  overflow: hidden;\n",
       "  text-overflow: ellipsis;\n",
       "  padding-right: 10px;\n",
       "}\n",
       "\n",
       ".xr-var-name:hover,\n",
       ".xr-var-dims:hover,\n",
       ".xr-var-dtype:hover,\n",
       ".xr-attrs dt:hover {\n",
       "  overflow: visible;\n",
       "  width: auto;\n",
       "  z-index: 1;\n",
       "}\n",
       "\n",
       ".xr-var-attrs,\n",
       ".xr-var-data,\n",
       ".xr-index-data {\n",
       "  display: none;\n",
       "  background-color: var(--xr-background-color) !important;\n",
       "  padding-bottom: 5px !important;\n",
       "}\n",
       "\n",
       ".xr-var-attrs-in:checked ~ .xr-var-attrs,\n",
       ".xr-var-data-in:checked ~ .xr-var-data,\n",
       ".xr-index-data-in:checked ~ .xr-index-data {\n",
       "  display: block;\n",
       "}\n",
       "\n",
       ".xr-var-data > table {\n",
       "  float: right;\n",
       "}\n",
       "\n",
       ".xr-var-name span,\n",
       ".xr-var-data,\n",
       ".xr-index-name div,\n",
       ".xr-index-data,\n",
       ".xr-attrs {\n",
       "  padding-left: 25px !important;\n",
       "}\n",
       "\n",
       ".xr-attrs,\n",
       ".xr-var-attrs,\n",
       ".xr-var-data,\n",
       ".xr-index-data {\n",
       "  grid-column: 1 / -1;\n",
       "}\n",
       "\n",
       "dl.xr-attrs {\n",
       "  padding: 0;\n",
       "  margin: 0;\n",
       "  display: grid;\n",
       "  grid-template-columns: 125px auto;\n",
       "}\n",
       "\n",
       ".xr-attrs dt,\n",
       ".xr-attrs dd {\n",
       "  padding: 0;\n",
       "  margin: 0;\n",
       "  float: left;\n",
       "  padding-right: 10px;\n",
       "  width: auto;\n",
       "}\n",
       "\n",
       ".xr-attrs dt {\n",
       "  font-weight: normal;\n",
       "  grid-column: 1;\n",
       "}\n",
       "\n",
       ".xr-attrs dt:hover span {\n",
       "  display: inline-block;\n",
       "  background: var(--xr-background-color);\n",
       "  padding-right: 10px;\n",
       "}\n",
       "\n",
       ".xr-attrs dd {\n",
       "  grid-column: 2;\n",
       "  white-space: pre-wrap;\n",
       "  word-break: break-all;\n",
       "}\n",
       "\n",
       ".xr-icon-database,\n",
       ".xr-icon-file-text2,\n",
       ".xr-no-icon {\n",
       "  display: inline-block;\n",
       "  vertical-align: middle;\n",
       "  width: 1em;\n",
       "  height: 1.5em !important;\n",
       "  stroke-width: 0;\n",
       "  stroke: currentColor;\n",
       "  fill: currentColor;\n",
       "}\n",
       "</style><pre class='xr-text-repr-fallback'>&lt;xarray.DataArray (Date: 384, lake: 4, variable: 4)&gt;\n",
       "array([[[-20.92372 ,  24.8     , 266.2     ,  29.08    ],\n",
       "        [ 40.5714  ,  42.78    , 266.3     ,  40.95    ],\n",
       "        [ 93.83467 ,  13.33    , 258.3     ,  57.94    ],\n",
       "        [239.5306  ,  46.5     , 526.5     ,  89.74    ]],\n",
       "\n",
       "       [[ 33.66357 ,  14.56    , 263.9     ,  24.95    ],\n",
       "        [ 39.75065 ,  16.8     , 261.1     ,  35.42    ],\n",
       "        [145.7005  ,  16.8     , 258.4     ,  34.3     ],\n",
       "        [ 92.36002 ,  24.92    , 522.4     ,  68.1     ]],\n",
       "\n",
       "       [[139.9274  ,  28.21    , 274.2     ,  29.88    ],\n",
       "        [234.0305  ,  22.32    , 274.2     ,  32.27    ],\n",
       "        [278.341   ,  35.03    , 267.1     ,  35.06    ],\n",
       "        [446.8436  ,  68.2     , 541.7     ,  59.49    ]],\n",
       "\n",
       "       ...,\n",
       "\n",
       "       [[-34.00105 ,  18.29    , 285.3     ,  55.55    ],\n",
       "        [-47.44791 ,  23.25    , 283.6     ,  62.46    ],\n",
       "        [-45.33585 ,  19.84    , 280.5     ,  53.57    ],\n",
       "        [116.2634  ,  32.24    , 566.2     , 120.5     ]],\n",
       "\n",
       "       [[  3.796643,  27.6     , 278.5     ,  37.59    ],\n",
       "        [-13.97484 ,  26.7     , 277.3     ,  45.81    ],\n",
       "        [-10.20312 ,  25.2     , 274.1     ,  54.42    ],\n",
       "        [142.3357  ,  37.5     , 553.3     , 100.35    ]],\n",
       "\n",
       "       [[-53.29011 ,  16.12    , 269.9     ,  42.62    ],\n",
       "        [ -2.97982 ,  28.83    , 269.4     ,  53.72    ],\n",
       "        [  0.      ,  13.64    , 266.5     ,  59.74    ],\n",
       "        [173.6947  ,  35.34    , 538.      , 114.91    ]]])\n",
       "Coordinates:\n",
       "  * Date      (Date) datetime64[ns] 1979-01-01 1979-02-01 ... 2010-12-01\n",
       "  * lake      (lake) object &#x27;sup&#x27; &#x27;mic_hur&#x27; &#x27;eri&#x27; &#x27;ont&#x27;\n",
       "    type      &lt;U5 &#x27;Basin&#x27;\n",
       "  * variable  (variable) object &#x27;rnbs&#x27; &#x27;precip&#x27; &#x27;temp&#x27; &#x27;evap&#x27;\n",
       "Attributes:\n",
       "    source:   GLCC</pre><div class='xr-wrap' style='display:none'><div class='xr-header'><div class='xr-obj-type'>xarray.DataArray</div><div class='xr-array-name'></div><ul class='xr-dim-list'><li><span class='xr-has-index'>Date</span>: 384</li><li><span class='xr-has-index'>lake</span>: 4</li><li><span class='xr-has-index'>variable</span>: 4</li></ul></div><ul class='xr-sections'><li class='xr-section-item'><div class='xr-array-wrap'><input id='section-cc1663a2-4cae-4b8b-998f-74664e6fd48b' class='xr-array-in' type='checkbox' checked><label for='section-cc1663a2-4cae-4b8b-998f-74664e6fd48b' title='Show/hide data repr'><svg class='icon xr-icon-database'><use xlink:href='#icon-database'></use></svg></label><div class='xr-array-preview xr-preview'><span>-20.92 24.8 266.2 29.08 40.57 42.78 ... 59.74 173.7 35.34 538.0 114.9</span></div><div class='xr-array-data'><pre>array([[[-20.92372 ,  24.8     , 266.2     ,  29.08    ],\n",
       "        [ 40.5714  ,  42.78    , 266.3     ,  40.95    ],\n",
       "        [ 93.83467 ,  13.33    , 258.3     ,  57.94    ],\n",
       "        [239.5306  ,  46.5     , 526.5     ,  89.74    ]],\n",
       "\n",
       "       [[ 33.66357 ,  14.56    , 263.9     ,  24.95    ],\n",
       "        [ 39.75065 ,  16.8     , 261.1     ,  35.42    ],\n",
       "        [145.7005  ,  16.8     , 258.4     ,  34.3     ],\n",
       "        [ 92.36002 ,  24.92    , 522.4     ,  68.1     ]],\n",
       "\n",
       "       [[139.9274  ,  28.21    , 274.2     ,  29.88    ],\n",
       "        [234.0305  ,  22.32    , 274.2     ,  32.27    ],\n",
       "        [278.341   ,  35.03    , 267.1     ,  35.06    ],\n",
       "        [446.8436  ,  68.2     , 541.7     ,  59.49    ]],\n",
       "\n",
       "       ...,\n",
       "\n",
       "       [[-34.00105 ,  18.29    , 285.3     ,  55.55    ],\n",
       "        [-47.44791 ,  23.25    , 283.6     ,  62.46    ],\n",
       "        [-45.33585 ,  19.84    , 280.5     ,  53.57    ],\n",
       "        [116.2634  ,  32.24    , 566.2     , 120.5     ]],\n",
       "\n",
       "       [[  3.796643,  27.6     , 278.5     ,  37.59    ],\n",
       "        [-13.97484 ,  26.7     , 277.3     ,  45.81    ],\n",
       "        [-10.20312 ,  25.2     , 274.1     ,  54.42    ],\n",
       "        [142.3357  ,  37.5     , 553.3     , 100.35    ]],\n",
       "\n",
       "       [[-53.29011 ,  16.12    , 269.9     ,  42.62    ],\n",
       "        [ -2.97982 ,  28.83    , 269.4     ,  53.72    ],\n",
       "        [  0.      ,  13.64    , 266.5     ,  59.74    ],\n",
       "        [173.6947  ,  35.34    , 538.      , 114.91    ]]])</pre></div></div></li><li class='xr-section-item'><input id='section-a7ddac8e-2e0e-42c3-afb6-568ffebd51fc' class='xr-section-summary-in' type='checkbox'  checked><label for='section-a7ddac8e-2e0e-42c3-afb6-568ffebd51fc' class='xr-section-summary' >Coordinates: <span>(4)</span></label><div class='xr-section-inline-details'></div><div class='xr-section-details'><ul class='xr-var-list'><li class='xr-var-item'><div class='xr-var-name'><span class='xr-has-index'>Date</span></div><div class='xr-var-dims'>(Date)</div><div class='xr-var-dtype'>datetime64[ns]</div><div class='xr-var-preview xr-preview'>1979-01-01 ... 2010-12-01</div><input id='attrs-bf653e8a-5a2a-41cc-9085-b5c71ee77642' class='xr-var-attrs-in' type='checkbox' disabled><label for='attrs-bf653e8a-5a2a-41cc-9085-b5c71ee77642' title='Show/Hide attributes'><svg class='icon xr-icon-file-text2'><use xlink:href='#icon-file-text2'></use></svg></label><input id='data-58bb457b-9f77-4ca2-9615-733d24fba6ec' class='xr-var-data-in' type='checkbox'><label for='data-58bb457b-9f77-4ca2-9615-733d24fba6ec' title='Show/Hide data repr'><svg class='icon xr-icon-database'><use xlink:href='#icon-database'></use></svg></label><div class='xr-var-attrs'><dl class='xr-attrs'></dl></div><div class='xr-var-data'><pre>array([&#x27;1979-01-01T00:00:00.000000000&#x27;, &#x27;1979-02-01T00:00:00.000000000&#x27;,\n",
       "       &#x27;1979-03-01T00:00:00.000000000&#x27;, ..., &#x27;2010-10-01T00:00:00.000000000&#x27;,\n",
       "       &#x27;2010-11-01T00:00:00.000000000&#x27;, &#x27;2010-12-01T00:00:00.000000000&#x27;],\n",
       "      dtype=&#x27;datetime64[ns]&#x27;)</pre></div></li><li class='xr-var-item'><div class='xr-var-name'><span class='xr-has-index'>lake</span></div><div class='xr-var-dims'>(lake)</div><div class='xr-var-dtype'>object</div><div class='xr-var-preview xr-preview'>&#x27;sup&#x27; &#x27;mic_hur&#x27; &#x27;eri&#x27; &#x27;ont&#x27;</div><input id='attrs-6366690f-ef62-43ee-91e7-f29eef5fe7a5' class='xr-var-attrs-in' type='checkbox' disabled><label for='attrs-6366690f-ef62-43ee-91e7-f29eef5fe7a5' title='Show/Hide attributes'><svg class='icon xr-icon-file-text2'><use xlink:href='#icon-file-text2'></use></svg></label><input id='data-66258fde-969b-4ddf-93cf-2ed8493d7231' class='xr-var-data-in' type='checkbox'><label for='data-66258fde-969b-4ddf-93cf-2ed8493d7231' title='Show/Hide data repr'><svg class='icon xr-icon-database'><use xlink:href='#icon-database'></use></svg></label><div class='xr-var-attrs'><dl class='xr-attrs'></dl></div><div class='xr-var-data'><pre>array([&#x27;sup&#x27;, &#x27;mic_hur&#x27;, &#x27;eri&#x27;, &#x27;ont&#x27;], dtype=object)</pre></div></li><li class='xr-var-item'><div class='xr-var-name'><span>type</span></div><div class='xr-var-dims'>()</div><div class='xr-var-dtype'>&lt;U5</div><div class='xr-var-preview xr-preview'>&#x27;Basin&#x27;</div><input id='attrs-2c88b667-a7cb-4150-91c7-64b33ec61820' class='xr-var-attrs-in' type='checkbox' disabled><label for='attrs-2c88b667-a7cb-4150-91c7-64b33ec61820' title='Show/Hide attributes'><svg class='icon xr-icon-file-text2'><use xlink:href='#icon-file-text2'></use></svg></label><input id='data-44f8e942-b82b-47dc-ab7c-0d1ee850de28' class='xr-var-data-in' type='checkbox'><label for='data-44f8e942-b82b-47dc-ab7c-0d1ee850de28' title='Show/Hide data repr'><svg class='icon xr-icon-database'><use xlink:href='#icon-database'></use></svg></label><div class='xr-var-attrs'><dl class='xr-attrs'></dl></div><div class='xr-var-data'><pre>array(&#x27;Basin&#x27;, dtype=&#x27;&lt;U5&#x27;)</pre></div></li><li class='xr-var-item'><div class='xr-var-name'><span class='xr-has-index'>variable</span></div><div class='xr-var-dims'>(variable)</div><div class='xr-var-dtype'>object</div><div class='xr-var-preview xr-preview'>&#x27;rnbs&#x27; &#x27;precip&#x27; &#x27;temp&#x27; &#x27;evap&#x27;</div><input id='attrs-8301c5d1-dd8e-44a9-80fb-552f708b3af7' class='xr-var-attrs-in' type='checkbox' disabled><label for='attrs-8301c5d1-dd8e-44a9-80fb-552f708b3af7' title='Show/Hide attributes'><svg class='icon xr-icon-file-text2'><use xlink:href='#icon-file-text2'></use></svg></label><input id='data-43fe2c6c-480c-443c-9b1d-63ef25b260b5' class='xr-var-data-in' type='checkbox'><label for='data-43fe2c6c-480c-443c-9b1d-63ef25b260b5' title='Show/Hide data repr'><svg class='icon xr-icon-database'><use xlink:href='#icon-database'></use></svg></label><div class='xr-var-attrs'><dl class='xr-attrs'></dl></div><div class='xr-var-data'><pre>array([&#x27;rnbs&#x27;, &#x27;precip&#x27;, &#x27;temp&#x27;, &#x27;evap&#x27;], dtype=object)</pre></div></li></ul></div></li><li class='xr-section-item'><input id='section-2d136ed0-0123-4ec9-9539-c80e29807fd8' class='xr-section-summary-in' type='checkbox'  ><label for='section-2d136ed0-0123-4ec9-9539-c80e29807fd8' class='xr-section-summary' >Indexes: <span>(3)</span></label><div class='xr-section-inline-details'></div><div class='xr-section-details'><ul class='xr-var-list'><li class='xr-var-item'><div class='xr-index-name'><div>Date</div></div><div class='xr-index-preview'>PandasIndex</div><div></div><input id='index-a03fc86d-2093-4b98-91a3-9501c33e522b' class='xr-index-data-in' type='checkbox'/><label for='index-a03fc86d-2093-4b98-91a3-9501c33e522b' title='Show/Hide index repr'><svg class='icon xr-icon-database'><use xlink:href='#icon-database'></use></svg></label><div class='xr-index-data'><pre>PandasIndex(DatetimeIndex([&#x27;1979-01-01&#x27;, &#x27;1979-02-01&#x27;, &#x27;1979-03-01&#x27;, &#x27;1979-04-01&#x27;,\n",
       "               &#x27;1979-05-01&#x27;, &#x27;1979-06-01&#x27;, &#x27;1979-07-01&#x27;, &#x27;1979-08-01&#x27;,\n",
       "               &#x27;1979-09-01&#x27;, &#x27;1979-10-01&#x27;,\n",
       "               ...\n",
       "               &#x27;2010-03-01&#x27;, &#x27;2010-04-01&#x27;, &#x27;2010-05-01&#x27;, &#x27;2010-06-01&#x27;,\n",
       "               &#x27;2010-07-01&#x27;, &#x27;2010-08-01&#x27;, &#x27;2010-09-01&#x27;, &#x27;2010-10-01&#x27;,\n",
       "               &#x27;2010-11-01&#x27;, &#x27;2010-12-01&#x27;],\n",
       "              dtype=&#x27;datetime64[ns]&#x27;, name=&#x27;Date&#x27;, length=384, freq=&#x27;MS&#x27;))</pre></div></li><li class='xr-var-item'><div class='xr-index-name'><div>lake</div></div><div class='xr-index-preview'>PandasIndex</div><div></div><input id='index-aea024eb-169a-4473-9e0b-520a9d0068c3' class='xr-index-data-in' type='checkbox'/><label for='index-aea024eb-169a-4473-9e0b-520a9d0068c3' title='Show/Hide index repr'><svg class='icon xr-icon-database'><use xlink:href='#icon-database'></use></svg></label><div class='xr-index-data'><pre>PandasIndex(Index([&#x27;sup&#x27;, &#x27;mic_hur&#x27;, &#x27;eri&#x27;, &#x27;ont&#x27;], dtype=&#x27;object&#x27;, name=&#x27;lake&#x27;))</pre></div></li><li class='xr-var-item'><div class='xr-index-name'><div>variable</div></div><div class='xr-index-preview'>PandasIndex</div><div></div><input id='index-7cda10ed-c51a-4831-bef6-2cfaf5aa1460' class='xr-index-data-in' type='checkbox'/><label for='index-7cda10ed-c51a-4831-bef6-2cfaf5aa1460' title='Show/Hide index repr'><svg class='icon xr-icon-database'><use xlink:href='#icon-database'></use></svg></label><div class='xr-index-data'><pre>PandasIndex(Index([&#x27;rnbs&#x27;, &#x27;precip&#x27;, &#x27;temp&#x27;, &#x27;evap&#x27;], dtype=&#x27;object&#x27;, name=&#x27;variable&#x27;))</pre></div></li></ul></div></li><li class='xr-section-item'><input id='section-9cd7186d-0b72-4366-9794-ba2e4c72e821' class='xr-section-summary-in' type='checkbox'  checked><label for='section-9cd7186d-0b72-4366-9794-ba2e4c72e821' class='xr-section-summary' >Attributes: <span>(1)</span></label><div class='xr-section-inline-details'></div><div class='xr-section-details'><dl class='xr-attrs'><dt><span>source :</span></dt><dd>GLCC</dd></dl></div></li></ul></div></div>"
      ]
     },
     "execution_count": 3,
     "metadata": {},
     "output_type": "execute_result"
    }
   ],
   "execution_count": 3
  },
  {
   "metadata": {
    "ExecuteTime": {
     "end_time": "2024-07-26T16:49:01.302434Z",
     "start_time": "2024-07-26T16:49:01.292651Z"
    }
   },
   "cell_type": "code",
   "source": [
    "num_splits = 12\n",
    "forecast_steps = 6\n",
    "splitter = TimeSeriesSplit(n_splits=num_splits, test_size=forecast_steps)\n",
    "\n",
    "splits = list(splitter.split(lake_data))\n",
    "\n",
    "X, y = lake_data.sel(variable=[\"precip\", \"temp\", \"evap\"]).drop(\"type\"), lake_data.sel(variable=[\"rnbs\"]).squeeze().drop(\n",
    "    [\"type\", \"variable\"])\n",
    "\n",
    "y = XArrayStandardScaler().fit_transform(y)\n",
    "X, y\n"
   ],
   "outputs": [
    {
     "data": {
      "text/plain": [
       "(<xarray.DataArray (Date: 384, lake: 4, variable: 3)>\n",
       " array([[[ 24.8 , 266.2 ,  29.08],\n",
       "         [ 42.78, 266.3 ,  40.95],\n",
       "         [ 13.33, 258.3 ,  57.94],\n",
       "         [ 46.5 , 526.5 ,  89.74]],\n",
       " \n",
       "        [[ 14.56, 263.9 ,  24.95],\n",
       "         [ 16.8 , 261.1 ,  35.42],\n",
       "         [ 16.8 , 258.4 ,  34.3 ],\n",
       "         [ 24.92, 522.4 ,  68.1 ]],\n",
       " \n",
       "        [[ 28.21, 274.2 ,  29.88],\n",
       "         [ 22.32, 274.2 ,  32.27],\n",
       "         [ 35.03, 267.1 ,  35.06],\n",
       "         [ 68.2 , 541.7 ,  59.49]],\n",
       " \n",
       "        ...,\n",
       " \n",
       "        [[ 18.29, 285.3 ,  55.55],\n",
       "         [ 23.25, 283.6 ,  62.46],\n",
       "         [ 19.84, 280.5 ,  53.57],\n",
       "         [ 32.24, 566.2 , 120.5 ]],\n",
       " \n",
       "        [[ 27.6 , 278.5 ,  37.59],\n",
       "         [ 26.7 , 277.3 ,  45.81],\n",
       "         [ 25.2 , 274.1 ,  54.42],\n",
       "         [ 37.5 , 553.3 , 100.35]],\n",
       " \n",
       "        [[ 16.12, 269.9 ,  42.62],\n",
       "         [ 28.83, 269.4 ,  53.72],\n",
       "         [ 13.64, 266.5 ,  59.74],\n",
       "         [ 35.34, 538.  , 114.91]]])\n",
       " Coordinates:\n",
       "   * Date      (Date) datetime64[ns] 1979-01-01 1979-02-01 ... 2010-12-01\n",
       "   * lake      (lake) object 'sup' 'mic_hur' 'eri' 'ont'\n",
       "   * variable  (variable) object 'precip' 'temp' 'evap'\n",
       " Attributes:\n",
       "     source:   GLCC,\n",
       " <xarray.DataArray (Date: 384, lake: 4)>\n",
       " array([[-1.18710356, -0.47976789,  0.11801005,  0.73152607],\n",
       "        [-0.39699687, -0.49125506,  0.58866456, -0.47626258],\n",
       "        [ 1.14108578,  2.22787517,  1.79230574,  2.43288709],\n",
       "        ...,\n",
       "        [-1.3763873 , -1.71168138, -1.14488754, -0.28009409],\n",
       "        [-0.82929638, -1.24319411, -0.82607692, -0.06612586],\n",
       "        [-1.65558078, -1.0893084 , -0.73348909,  0.19122886]])\n",
       " Coordinates:\n",
       "   * Date     (Date) datetime64[ns] 1979-01-01 1979-02-01 ... 2010-12-01\n",
       "   * lake     (lake) object 'sup' 'mic_hur' 'eri' 'ont')"
      ]
     },
     "execution_count": 4,
     "metadata": {},
     "output_type": "execute_result"
    }
   ],
   "execution_count": 4
  },
  {
   "metadata": {
    "ExecuteTime": {
     "end_time": "2024-07-26T16:49:01.569189Z",
     "start_time": "2024-07-26T16:49:01.564626Z"
    }
   },
   "cell_type": "code",
   "source": [
    "preprocessor = XArrayFeatureUnion([\n",
    "    (\"preprocess\", Pipeline(steps=[\n",
    "        (\"scale\", XArrayStandardScaler()),\n",
    "        (\"flatten\", FunctionTransformer(flatten_array))\n",
    "    ])),\n",
    "    (\"seasonal\", SeasonalFeatures())\n",
    "])\n",
    "\n",
    "gp_models = {\n",
    "    \"GP_Matern\": Pipeline(steps=[(\"preprocessor\", preprocessor),\n",
    "                                 (\"model\", SklearnGPModel(\n",
    "                                     1.0 * kernels.Matern(\n",
    "                                         nu=1.5) * kernels.RationalQuadratic()\n",
    "                                 ))\n",
    "                                 ]),\n",
    "    \"GP_MaternLag\": Pipeline(steps=[(\"preprocessor\", preprocessor),\n",
    "                                    (\"model\", LaggedSklearnGP(\n",
    "                                        1.0 * kernels.Matern(\n",
    "                                            nu=1.5) * kernels.RationalQuadratic()\n",
    "                                    ))\n",
    "                                    ]),\n",
    "    \"MultitaskGP\": Pipeline(steps=[\n",
    "        (\"preprocess\", preprocessor),\n",
    "        (\"model\", MultitaskGP(epochs=100))\n",
    "    ]),\n",
    "}\n",
    "\n",
    "varx_models = {\n",
    "    \"VARX\": Pipeline(steps=[\n",
    "        (\"preprocess\", XArrayStandardScaler()),\n",
    "        (\n",
    "            \"model\",\n",
    "            VAR(lags={\"y\": 3, \"precip\": 2, \"temp\": 2, \"evap\": 3}, num_warmup=1000, num_chains=4, num_samples=1000)\n",
    "        )\n",
    "    ]),\n",
    "    \"NARX\": Pipeline(steps=[\n",
    "        (\"preprocess\", XArrayStandardScaler()),\n",
    "        (\n",
    "            \"model\",\n",
    "            NARX(lags={\"y\": 3, \"temp\": 2, \"precip\": 2, \"evap\": 3}, num_warmup=3000, num_chains=4, num_samples=1000)\n",
    "        )\n",
    "    ]),\n",
    "}\n",
    "\n",
    "# use only temp and precip\n",
    "all_models = {\n",
    "    \"Default\": Pipeline(steps=[(\"preprocessor\", preprocessor), (\"model\", DefaultEnsemble())]),\n",
    "    **gp_models,\n",
    "    **varx_models,\n",
    "}\n",
    "\n"
   ],
   "outputs": [],
   "execution_count": 5
  },
  {
   "metadata": {
    "ExecuteTime": {
     "end_time": "2024-07-26T18:45:03.779222Z",
     "start_time": "2024-07-26T16:49:02.838737Z"
    }
   },
   "cell_type": "code",
   "source": [
    "# for name, model in all_models.items():\n",
    "train_id, test_id = splits[0]\n",
    "\n",
    "# run cross validated\n",
    "results = []\n",
    "for name, model in all_models.items():\n",
    "    logging.info(f\"Fitting {name} model...\")\n",
    "    for i, (train_id, test_id) in enumerate(splits):\n",
    "        logging.info(f\"Fitting {name} model (split {i + 1}/{num_splits})\")\n",
    "        # X[train_id], y[train_id]\n",
    "        model.fit(X[train_id], y[train_id])\n",
    "        preds = model.predict(X[:max(test_id) + 1], y=y[:max(test_id) + 1], forecast_steps=forecast_steps)\n",
    "\n",
    "        array = xr.concat([\n",
    "            preds,\n",
    "            y[test_id].expand_dims({\"value\": [\"true\"]}, axis=-1)\n",
    "        ], dim=\"value\")\n",
    "\n",
    "        predictions = pd.concat([\n",
    "            arr.to_pandas().assign(months_ahead=list(range(1, forecast_steps + 1)), model=name)\n",
    "            for arr in array.transpose(\"lake\", ...)\n",
    "        ], axis=0, keys=preds.lake.values, names=[\"lake\"])\n",
    "        results.append(predictions)\n",
    "\n",
    "cv_results = pd.concat(results, axis=0)\n"
   ],
   "outputs": [
    {
     "name": "stderr",
     "output_type": "stream",
     "text": [
      "INFO:root:Fitting Default model...\n",
      "INFO:root:Fitting Default model (split 1/12)\n",
      "INFO:root:Fitting Default model (split 2/12)\n",
      "INFO:root:Fitting Default model (split 3/12)\n",
      "INFO:root:Fitting Default model (split 4/12)\n",
      "INFO:root:Fitting Default model (split 5/12)\n",
      "INFO:root:Fitting Default model (split 6/12)\n",
      "INFO:root:Fitting Default model (split 7/12)\n",
      "INFO:root:Fitting Default model (split 8/12)\n",
      "INFO:root:Fitting Default model (split 9/12)\n",
      "INFO:root:Fitting Default model (split 10/12)\n",
      "INFO:root:Fitting Default model (split 11/12)\n",
      "INFO:root:Fitting Default model (split 12/12)\n",
      "INFO:root:Fitting GP_Matern model...\n",
      "INFO:root:Fitting GP_Matern model (split 1/12)\n",
      "INFO:root:Fitting GP_Matern model (split 2/12)\n",
      "INFO:root:Fitting GP_Matern model (split 3/12)\n",
      "INFO:root:Fitting GP_Matern model (split 4/12)\n",
      "INFO:root:Fitting GP_Matern model (split 5/12)\n",
      "/Users/mcanearm/miniconda3/envs/noaa_mvp/lib/python3.11/site-packages/sklearn/gaussian_process/kernels.py:445: ConvergenceWarning: The optimal value found for dimension 0 of parameter k2__length_scale is close to the specified lower bound 1e-05. Decreasing the bound and calling fit again may find a better value.\n",
      "INFO:root:Fitting GP_Matern model (split 6/12)\n",
      "INFO:root:Fitting GP_Matern model (split 7/12)\n",
      "INFO:root:Fitting GP_Matern model (split 8/12)\n",
      "INFO:root:Fitting GP_Matern model (split 9/12)\n",
      "INFO:root:Fitting GP_Matern model (split 10/12)\n",
      "INFO:root:Fitting GP_Matern model (split 11/12)\n",
      "INFO:root:Fitting GP_Matern model (split 12/12)\n",
      "INFO:root:Fitting GP_MaternLag model...\n",
      "INFO:root:Fitting GP_MaternLag model (split 1/12)\n",
      "INFO:root:Fitting GP_MaternLag model (split 2/12)\n",
      "INFO:root:Fitting GP_MaternLag model (split 3/12)\n",
      "INFO:root:Fitting GP_MaternLag model (split 4/12)\n",
      "INFO:root:Fitting GP_MaternLag model (split 5/12)\n",
      "INFO:root:Fitting GP_MaternLag model (split 6/12)\n",
      "INFO:root:Fitting GP_MaternLag model (split 7/12)\n",
      "INFO:root:Fitting GP_MaternLag model (split 8/12)\n",
      "INFO:root:Fitting GP_MaternLag model (split 9/12)\n",
      "INFO:root:Fitting GP_MaternLag model (split 10/12)\n",
      "INFO:root:Fitting GP_MaternLag model (split 11/12)\n",
      "INFO:root:Fitting GP_MaternLag model (split 12/12)\n",
      "INFO:root:Fitting MultitaskGP model...\n",
      "INFO:root:Fitting MultitaskGP model (split 1/12)\n"
     ]
    },
    {
     "name": "stdout",
     "output_type": "stream",
     "text": [
      "Iter 1/100 - Loss: 1.782\n",
      "Iter 2/100 - Loss: 1.721\n",
      "Iter 3/100 - Loss: 1.658\n",
      "Iter 4/100 - Loss: 1.595\n",
      "Iter 5/100 - Loss: 1.534\n",
      "Iter 6/100 - Loss: 1.475\n",
      "Iter 7/100 - Loss: 1.420\n",
      "Iter 8/100 - Loss: 1.369\n",
      "Iter 9/100 - Loss: 1.321\n",
      "Iter 10/100 - Loss: 1.274\n",
      "Iter 11/100 - Loss: 1.227\n",
      "Iter 12/100 - Loss: 1.178\n",
      "Iter 13/100 - Loss: 1.127\n",
      "Iter 14/100 - Loss: 1.075\n",
      "Iter 15/100 - Loss: 1.021\n",
      "Iter 16/100 - Loss: 0.967\n",
      "Iter 17/100 - Loss: 0.913\n",
      "Iter 18/100 - Loss: 0.862\n",
      "Iter 19/100 - Loss: 0.813\n",
      "Iter 20/100 - Loss: 0.768\n",
      "Iter 21/100 - Loss: 0.730\n",
      "Iter 22/100 - Loss: 0.700\n",
      "Iter 23/100 - Loss: 0.679\n",
      "Iter 24/100 - Loss: 0.666\n",
      "Iter 25/100 - Loss: 0.658\n",
      "Iter 26/100 - Loss: 0.646\n",
      "Iter 27/100 - Loss: 0.630\n",
      "Iter 28/100 - Loss: 0.613\n",
      "Iter 29/100 - Loss: 0.598\n",
      "Iter 30/100 - Loss: 0.587\n",
      "Iter 31/100 - Loss: 0.579\n",
      "Iter 32/100 - Loss: 0.575\n",
      "Iter 33/100 - Loss: 0.573\n",
      "Iter 34/100 - Loss: 0.573\n",
      "Iter 35/100 - Loss: 0.573\n",
      "Iter 36/100 - Loss: 0.573\n",
      "Iter 37/100 - Loss: 0.574\n",
      "Iter 38/100 - Loss: 0.575\n",
      "Iter 39/100 - Loss: 0.575\n",
      "Iter 40/100 - Loss: 0.576\n",
      "Iter 41/100 - Loss: 0.576\n",
      "Iter 42/100 - Loss: 0.576\n",
      "Iter 43/100 - Loss: 0.576\n",
      "Iter 44/100 - Loss: 0.575\n",
      "Iter 45/100 - Loss: 0.574\n",
      "Iter 46/100 - Loss: 0.573\n",
      "Iter 47/100 - Loss: 0.571\n",
      "Iter 48/100 - Loss: 0.570\n",
      "Iter 49/100 - Loss: 0.568\n",
      "Iter 50/100 - Loss: 0.566\n",
      "Iter 51/100 - Loss: 0.564\n",
      "Iter 52/100 - Loss: 0.562\n",
      "Iter 53/100 - Loss: 0.561\n",
      "Iter 54/100 - Loss: 0.559\n",
      "Iter 55/100 - Loss: 0.558\n",
      "Iter 56/100 - Loss: 0.557\n",
      "Iter 57/100 - Loss: 0.556\n",
      "Iter 58/100 - Loss: 0.555\n",
      "Iter 59/100 - Loss: 0.555\n",
      "Iter 60/100 - Loss: 0.554\n",
      "Iter 61/100 - Loss: 0.554\n",
      "Iter 62/100 - Loss: 0.554\n",
      "Iter 63/100 - Loss: 0.554\n",
      "Iter 64/100 - Loss: 0.553\n",
      "Iter 65/100 - Loss: 0.553\n",
      "Iter 66/100 - Loss: 0.553\n",
      "Iter 67/100 - Loss: 0.553\n",
      "Iter 68/100 - Loss: 0.553\n",
      "Iter 69/100 - Loss: 0.553\n",
      "Iter 70/100 - Loss: 0.553\n",
      "Iter 71/100 - Loss: 0.552\n",
      "Iter 72/100 - Loss: 0.552\n",
      "Iter 73/100 - Loss: 0.552\n",
      "Iter 74/100 - Loss: 0.552\n",
      "Iter 75/100 - Loss: 0.552\n",
      "Iter 76/100 - Loss: 0.551\n",
      "Iter 77/100 - Loss: 0.551\n",
      "Iter 78/100 - Loss: 0.551\n",
      "Iter 79/100 - Loss: 0.551\n",
      "Iter 80/100 - Loss: 0.550\n",
      "Iter 81/100 - Loss: 0.550\n",
      "Iter 82/100 - Loss: 0.550\n",
      "Iter 83/100 - Loss: 0.550\n",
      "Iter 84/100 - Loss: 0.550\n",
      "Iter 85/100 - Loss: 0.550\n",
      "Iter 86/100 - Loss: 0.549\n",
      "Iter 87/100 - Loss: 0.549\n",
      "Iter 88/100 - Loss: 0.549\n",
      "Iter 89/100 - Loss: 0.549\n",
      "Iter 90/100 - Loss: 0.549\n",
      "Iter 91/100 - Loss: 0.549\n",
      "Iter 92/100 - Loss: 0.549\n",
      "Iter 93/100 - Loss: 0.549\n",
      "Iter 94/100 - Loss: 0.548\n",
      "Iter 95/100 - Loss: 0.548\n",
      "Iter 96/100 - Loss: 0.548\n",
      "Iter 97/100 - Loss: 0.548\n",
      "Iter 98/100 - Loss: 0.548\n",
      "Iter 99/100 - Loss: 0.548\n",
      "Iter 100/100 - Loss: 0.548\n"
     ]
    },
    {
     "name": "stderr",
     "output_type": "stream",
     "text": [
      "/Users/mcanearm/miniconda3/envs/noaa_mvp/lib/python3.11/site-packages/linear_operator/utils/interpolation.py:71: UserWarning: torch.sparse.SparseTensor(indices, values, shape, *, device=) is deprecated.  Please use torch.sparse_coo_tensor(indices, values, shape, dtype=, device=). (Triggered internally at /Users/runner/work/_temp/anaconda/conda-bld/pytorch_1716905753263/work/torch/csrc/utils/tensor_new.cpp:623.)\n",
      "INFO:root:Fitting MultitaskGP model (split 2/12)\n"
     ]
    },
    {
     "name": "stdout",
     "output_type": "stream",
     "text": [
      "Iter 1/100 - Loss: 1.829\n",
      "Iter 2/100 - Loss: 1.763\n",
      "Iter 3/100 - Loss: 1.698\n",
      "Iter 4/100 - Loss: 1.635\n",
      "Iter 5/100 - Loss: 1.576\n",
      "Iter 6/100 - Loss: 1.520\n",
      "Iter 7/100 - Loss: 1.465\n",
      "Iter 8/100 - Loss: 1.409\n",
      "Iter 9/100 - Loss: 1.352\n",
      "Iter 10/100 - Loss: 1.295\n",
      "Iter 11/100 - Loss: 1.239\n",
      "Iter 12/100 - Loss: 1.183\n",
      "Iter 13/100 - Loss: 1.129\n",
      "Iter 14/100 - Loss: 1.075\n",
      "Iter 15/100 - Loss: 1.023\n",
      "Iter 16/100 - Loss: 0.973\n",
      "Iter 17/100 - Loss: 0.928\n",
      "Iter 18/100 - Loss: 0.888\n",
      "Iter 19/100 - Loss: 0.853\n",
      "Iter 20/100 - Loss: 0.820\n",
      "Iter 21/100 - Loss: 0.789\n",
      "Iter 22/100 - Loss: 0.759\n",
      "Iter 23/100 - Loss: 0.730\n",
      "Iter 24/100 - Loss: 0.701\n",
      "Iter 25/100 - Loss: 0.675\n",
      "Iter 26/100 - Loss: 0.651\n",
      "Iter 27/100 - Loss: 0.629\n",
      "Iter 28/100 - Loss: 0.611\n",
      "Iter 29/100 - Loss: 0.598\n",
      "Iter 30/100 - Loss: 0.588\n",
      "Iter 31/100 - Loss: 0.582\n",
      "Iter 32/100 - Loss: 0.579\n",
      "Iter 33/100 - Loss: 0.578\n",
      "Iter 34/100 - Loss: 0.578\n",
      "Iter 35/100 - Loss: 0.578\n",
      "Iter 36/100 - Loss: 0.577\n",
      "Iter 37/100 - Loss: 0.577\n",
      "Iter 38/100 - Loss: 0.577\n",
      "Iter 39/100 - Loss: 0.577\n",
      "Iter 40/100 - Loss: 0.576\n",
      "Iter 41/100 - Loss: 0.575\n",
      "Iter 42/100 - Loss: 0.574\n",
      "Iter 43/100 - Loss: 0.573\n",
      "Iter 44/100 - Loss: 0.571\n",
      "Iter 45/100 - Loss: 0.569\n",
      "Iter 46/100 - Loss: 0.568\n",
      "Iter 47/100 - Loss: 0.566\n",
      "Iter 48/100 - Loss: 0.564\n",
      "Iter 49/100 - Loss: 0.562\n",
      "Iter 50/100 - Loss: 0.560\n",
      "Iter 51/100 - Loss: 0.557\n",
      "Iter 52/100 - Loss: 0.555\n",
      "Iter 53/100 - Loss: 0.554\n",
      "Iter 54/100 - Loss: 0.552\n",
      "Iter 55/100 - Loss: 0.552\n",
      "Iter 56/100 - Loss: 0.551\n",
      "Iter 57/100 - Loss: 0.551\n",
      "Iter 58/100 - Loss: 0.551\n",
      "Iter 59/100 - Loss: 0.551\n",
      "Iter 60/100 - Loss: 0.551\n",
      "Iter 61/100 - Loss: 0.551\n",
      "Iter 62/100 - Loss: 0.551\n",
      "Iter 63/100 - Loss: 0.551\n",
      "Iter 64/100 - Loss: 0.550\n",
      "Iter 65/100 - Loss: 0.550\n",
      "Iter 66/100 - Loss: 0.550\n",
      "Iter 67/100 - Loss: 0.550\n",
      "Iter 68/100 - Loss: 0.549\n",
      "Iter 69/100 - Loss: 0.549\n",
      "Iter 70/100 - Loss: 0.549\n",
      "Iter 71/100 - Loss: 0.548\n",
      "Iter 72/100 - Loss: 0.548\n",
      "Iter 73/100 - Loss: 0.548\n",
      "Iter 74/100 - Loss: 0.547\n",
      "Iter 75/100 - Loss: 0.547\n",
      "Iter 76/100 - Loss: 0.547\n",
      "Iter 77/100 - Loss: 0.547\n",
      "Iter 78/100 - Loss: 0.547\n",
      "Iter 79/100 - Loss: 0.547\n",
      "Iter 80/100 - Loss: 0.546\n",
      "Iter 81/100 - Loss: 0.546\n",
      "Iter 82/100 - Loss: 0.546\n",
      "Iter 83/100 - Loss: 0.546\n",
      "Iter 84/100 - Loss: 0.546\n",
      "Iter 85/100 - Loss: 0.546\n",
      "Iter 86/100 - Loss: 0.546\n",
      "Iter 87/100 - Loss: 0.546\n",
      "Iter 88/100 - Loss: 0.545\n",
      "Iter 89/100 - Loss: 0.545\n",
      "Iter 90/100 - Loss: 0.545\n",
      "Iter 91/100 - Loss: 0.545\n",
      "Iter 92/100 - Loss: 0.545\n",
      "Iter 93/100 - Loss: 0.545\n",
      "Iter 94/100 - Loss: 0.545\n",
      "Iter 95/100 - Loss: 0.545\n",
      "Iter 96/100 - Loss: 0.544\n",
      "Iter 97/100 - Loss: 0.544\n",
      "Iter 98/100 - Loss: 0.544\n",
      "Iter 99/100 - Loss: 0.544\n",
      "Iter 100/100 - Loss: 0.544\n"
     ]
    },
    {
     "name": "stderr",
     "output_type": "stream",
     "text": [
      "INFO:root:Fitting MultitaskGP model (split 3/12)\n"
     ]
    },
    {
     "name": "stdout",
     "output_type": "stream",
     "text": [
      "Iter 1/100 - Loss: 1.943\n",
      "Iter 2/100 - Loss: 1.884\n",
      "Iter 3/100 - Loss: 1.824\n",
      "Iter 4/100 - Loss: 1.761\n",
      "Iter 5/100 - Loss: 1.697\n",
      "Iter 6/100 - Loss: 1.631\n",
      "Iter 7/100 - Loss: 1.562\n",
      "Iter 8/100 - Loss: 1.492\n",
      "Iter 9/100 - Loss: 1.421\n",
      "Iter 10/100 - Loss: 1.350\n",
      "Iter 11/100 - Loss: 1.281\n",
      "Iter 12/100 - Loss: 1.215\n",
      "Iter 13/100 - Loss: 1.154\n",
      "Iter 14/100 - Loss: 1.098\n",
      "Iter 15/100 - Loss: 1.043\n",
      "Iter 16/100 - Loss: 0.988\n",
      "Iter 17/100 - Loss: 0.934\n",
      "Iter 18/100 - Loss: 0.881\n",
      "Iter 19/100 - Loss: 0.830\n",
      "Iter 20/100 - Loss: 0.782\n",
      "Iter 21/100 - Loss: 0.742\n",
      "Iter 22/100 - Loss: 0.714\n",
      "Iter 23/100 - Loss: 0.698\n",
      "Iter 24/100 - Loss: 0.682\n",
      "Iter 25/100 - Loss: 0.657\n",
      "Iter 26/100 - Loss: 0.631\n",
      "Iter 27/100 - Loss: 0.609\n",
      "Iter 28/100 - Loss: 0.593\n",
      "Iter 29/100 - Loss: 0.584\n",
      "Iter 30/100 - Loss: 0.580\n",
      "Iter 31/100 - Loss: 0.579\n",
      "Iter 32/100 - Loss: 0.578\n",
      "Iter 33/100 - Loss: 0.577\n",
      "Iter 34/100 - Loss: 0.575\n",
      "Iter 35/100 - Loss: 0.574\n",
      "Iter 36/100 - Loss: 0.572\n",
      "Iter 37/100 - Loss: 0.571\n",
      "Iter 38/100 - Loss: 0.570\n",
      "Iter 39/100 - Loss: 0.570\n",
      "Iter 40/100 - Loss: 0.571\n",
      "Iter 41/100 - Loss: 0.572\n",
      "Iter 42/100 - Loss: 0.571\n",
      "Iter 43/100 - Loss: 0.570\n",
      "Iter 44/100 - Loss: 0.568\n",
      "Iter 45/100 - Loss: 0.566\n",
      "Iter 46/100 - Loss: 0.565\n",
      "Iter 47/100 - Loss: 0.563\n",
      "Iter 48/100 - Loss: 0.561\n",
      "Iter 49/100 - Loss: 0.560\n",
      "Iter 50/100 - Loss: 0.558\n",
      "Iter 51/100 - Loss: 0.556\n",
      "Iter 52/100 - Loss: 0.554\n",
      "Iter 53/100 - Loss: 0.552\n",
      "Iter 54/100 - Loss: 0.551\n",
      "Iter 55/100 - Loss: 0.550\n",
      "Iter 56/100 - Loss: 0.550\n",
      "Iter 57/100 - Loss: 0.549\n",
      "Iter 58/100 - Loss: 0.549\n",
      "Iter 59/100 - Loss: 0.548\n",
      "Iter 60/100 - Loss: 0.548\n",
      "Iter 61/100 - Loss: 0.548\n",
      "Iter 62/100 - Loss: 0.547\n",
      "Iter 63/100 - Loss: 0.547\n",
      "Iter 64/100 - Loss: 0.547\n",
      "Iter 65/100 - Loss: 0.546\n",
      "Iter 66/100 - Loss: 0.546\n",
      "Iter 67/100 - Loss: 0.546\n",
      "Iter 68/100 - Loss: 0.546\n",
      "Iter 69/100 - Loss: 0.545\n",
      "Iter 70/100 - Loss: 0.545\n",
      "Iter 71/100 - Loss: 0.545\n",
      "Iter 72/100 - Loss: 0.545\n",
      "Iter 73/100 - Loss: 0.545\n",
      "Iter 74/100 - Loss: 0.544\n",
      "Iter 75/100 - Loss: 0.544\n",
      "Iter 76/100 - Loss: 0.544\n",
      "Iter 77/100 - Loss: 0.544\n",
      "Iter 78/100 - Loss: 0.544\n",
      "Iter 79/100 - Loss: 0.543\n",
      "Iter 80/100 - Loss: 0.543\n",
      "Iter 81/100 - Loss: 0.543\n",
      "Iter 82/100 - Loss: 0.543\n",
      "Iter 83/100 - Loss: 0.543\n",
      "Iter 84/100 - Loss: 0.542\n",
      "Iter 85/100 - Loss: 0.542\n",
      "Iter 86/100 - Loss: 0.542\n",
      "Iter 87/100 - Loss: 0.542\n",
      "Iter 88/100 - Loss: 0.542\n",
      "Iter 89/100 - Loss: 0.542\n",
      "Iter 90/100 - Loss: 0.542\n",
      "Iter 91/100 - Loss: 0.541\n",
      "Iter 92/100 - Loss: 0.541\n",
      "Iter 93/100 - Loss: 0.541\n",
      "Iter 94/100 - Loss: 0.541\n",
      "Iter 95/100 - Loss: 0.541\n",
      "Iter 96/100 - Loss: 0.541\n",
      "Iter 97/100 - Loss: 0.541\n"
     ]
    },
    {
     "name": "stderr",
     "output_type": "stream",
     "text": [
      "INFO:root:Fitting MultitaskGP model (split 4/12)\n"
     ]
    },
    {
     "name": "stdout",
     "output_type": "stream",
     "text": [
      "Iter 98/100 - Loss: 0.541\n",
      "Iter 99/100 - Loss: 0.541\n",
      "Iter 100/100 - Loss: 0.541\n",
      "Iter 1/100 - Loss: 1.713\n",
      "Iter 2/100 - Loss: 1.641\n",
      "Iter 3/100 - Loss: 1.570\n",
      "Iter 4/100 - Loss: 1.502\n",
      "Iter 5/100 - Loss: 1.440\n",
      "Iter 6/100 - Loss: 1.383\n",
      "Iter 7/100 - Loss: 1.329\n",
      "Iter 8/100 - Loss: 1.277\n",
      "Iter 9/100 - Loss: 1.225\n",
      "Iter 10/100 - Loss: 1.175\n",
      "Iter 11/100 - Loss: 1.123\n",
      "Iter 12/100 - Loss: 1.070\n",
      "Iter 13/100 - Loss: 1.017\n",
      "Iter 14/100 - Loss: 0.965\n",
      "Iter 15/100 - Loss: 0.915\n",
      "Iter 16/100 - Loss: 0.871\n",
      "Iter 17/100 - Loss: 0.831\n",
      "Iter 18/100 - Loss: 0.798\n",
      "Iter 19/100 - Loss: 0.771\n",
      "Iter 20/100 - Loss: 0.747\n",
      "Iter 21/100 - Loss: 0.721\n",
      "Iter 22/100 - Loss: 0.693\n",
      "Iter 23/100 - Loss: 0.666\n",
      "Iter 24/100 - Loss: 0.645\n",
      "Iter 25/100 - Loss: 0.627\n",
      "Iter 26/100 - Loss: 0.612\n",
      "Iter 27/100 - Loss: 0.599\n",
      "Iter 28/100 - Loss: 0.588\n",
      "Iter 29/100 - Loss: 0.579\n",
      "Iter 30/100 - Loss: 0.571\n",
      "Iter 31/100 - Loss: 0.565\n",
      "Iter 32/100 - Loss: 0.561\n",
      "Iter 33/100 - Loss: 0.559\n",
      "Iter 34/100 - Loss: 0.558\n",
      "Iter 35/100 - Loss: 0.558\n",
      "Iter 36/100 - Loss: 0.557\n",
      "Iter 37/100 - Loss: 0.557\n",
      "Iter 38/100 - Loss: 0.558\n",
      "Iter 39/100 - Loss: 0.559\n",
      "Iter 40/100 - Loss: 0.560\n",
      "Iter 41/100 - Loss: 0.560\n",
      "Iter 42/100 - Loss: 0.560\n",
      "Iter 43/100 - Loss: 0.559\n",
      "Iter 44/100 - Loss: 0.558\n",
      "Iter 45/100 - Loss: 0.557\n",
      "Iter 46/100 - Loss: 0.556\n",
      "Iter 47/100 - Loss: 0.554\n",
      "Iter 48/100 - Loss: 0.552\n",
      "Iter 49/100 - Loss: 0.551\n",
      "Iter 50/100 - Loss: 0.549\n",
      "Iter 51/100 - Loss: 0.547\n",
      "Iter 52/100 - Loss: 0.546\n",
      "Iter 53/100 - Loss: 0.544\n",
      "Iter 54/100 - Loss: 0.543\n",
      "Iter 55/100 - Loss: 0.542\n",
      "Iter 56/100 - Loss: 0.541\n",
      "Iter 57/100 - Loss: 0.540\n",
      "Iter 58/100 - Loss: 0.540\n",
      "Iter 59/100 - Loss: 0.539\n",
      "Iter 60/100 - Loss: 0.539\n",
      "Iter 61/100 - Loss: 0.538\n",
      "Iter 62/100 - Loss: 0.538\n",
      "Iter 63/100 - Loss: 0.538\n",
      "Iter 64/100 - Loss: 0.537\n",
      "Iter 65/100 - Loss: 0.537\n",
      "Iter 66/100 - Loss: 0.537\n",
      "Iter 67/100 - Loss: 0.537\n",
      "Iter 68/100 - Loss: 0.537\n",
      "Iter 69/100 - Loss: 0.536\n",
      "Iter 70/100 - Loss: 0.536\n",
      "Iter 71/100 - Loss: 0.536\n",
      "Iter 72/100 - Loss: 0.536\n",
      "Iter 73/100 - Loss: 0.536\n",
      "Iter 74/100 - Loss: 0.535\n",
      "Iter 75/100 - Loss: 0.535\n",
      "Iter 76/100 - Loss: 0.535\n",
      "Iter 77/100 - Loss: 0.535\n",
      "Iter 78/100 - Loss: 0.534\n",
      "Iter 79/100 - Loss: 0.534\n",
      "Iter 80/100 - Loss: 0.534\n",
      "Iter 81/100 - Loss: 0.534\n",
      "Iter 82/100 - Loss: 0.534\n",
      "Iter 83/100 - Loss: 0.533\n",
      "Iter 84/100 - Loss: 0.533\n",
      "Iter 85/100 - Loss: 0.533\n",
      "Iter 86/100 - Loss: 0.533\n",
      "Iter 87/100 - Loss: 0.533\n",
      "Iter 88/100 - Loss: 0.533\n",
      "Iter 89/100 - Loss: 0.533\n",
      "Iter 90/100 - Loss: 0.532\n",
      "Iter 91/100 - Loss: 0.532\n",
      "Iter 92/100 - Loss: 0.532\n",
      "Iter 93/100 - Loss: 0.532\n",
      "Iter 94/100 - Loss: 0.532\n",
      "Iter 95/100 - Loss: 0.532\n",
      "Iter 96/100 - Loss: 0.532\n",
      "Iter 97/100 - Loss: 0.532\n",
      "Iter 98/100 - Loss: 0.532\n",
      "Iter 99/100 - Loss: 0.531\n",
      "Iter 100/100 - Loss: 0.531\n"
     ]
    },
    {
     "name": "stderr",
     "output_type": "stream",
     "text": [
      "INFO:root:Fitting MultitaskGP model (split 5/12)\n"
     ]
    },
    {
     "name": "stdout",
     "output_type": "stream",
     "text": [
      "Iter 1/100 - Loss: 1.886\n",
      "Iter 2/100 - Loss: 1.829\n",
      "Iter 3/100 - Loss: 1.771\n",
      "Iter 4/100 - Loss: 1.711\n",
      "Iter 5/100 - Loss: 1.648\n",
      "Iter 6/100 - Loss: 1.583\n",
      "Iter 7/100 - Loss: 1.516\n",
      "Iter 8/100 - Loss: 1.449\n",
      "Iter 9/100 - Loss: 1.380\n",
      "Iter 10/100 - Loss: 1.312\n",
      "Iter 11/100 - Loss: 1.244\n",
      "Iter 12/100 - Loss: 1.176\n",
      "Iter 13/100 - Loss: 1.111\n",
      "Iter 14/100 - Loss: 1.049\n",
      "Iter 15/100 - Loss: 0.992\n",
      "Iter 16/100 - Loss: 0.939\n",
      "Iter 17/100 - Loss: 0.890\n",
      "Iter 18/100 - Loss: 0.843\n",
      "Iter 19/100 - Loss: 0.799\n",
      "Iter 20/100 - Loss: 0.759\n",
      "Iter 21/100 - Loss: 0.724\n",
      "Iter 22/100 - Loss: 0.698\n",
      "Iter 23/100 - Loss: 0.680\n",
      "Iter 24/100 - Loss: 0.665\n",
      "Iter 25/100 - Loss: 0.644\n",
      "Iter 26/100 - Loss: 0.622\n",
      "Iter 27/100 - Loss: 0.604\n",
      "Iter 28/100 - Loss: 0.592\n",
      "Iter 29/100 - Loss: 0.585\n",
      "Iter 30/100 - Loss: 0.580\n",
      "Iter 31/100 - Loss: 0.577\n",
      "Iter 32/100 - Loss: 0.575\n",
      "Iter 33/100 - Loss: 0.574\n",
      "Iter 34/100 - Loss: 0.574\n",
      "Iter 35/100 - Loss: 0.575\n",
      "Iter 36/100 - Loss: 0.576\n",
      "Iter 37/100 - Loss: 0.576\n",
      "Iter 38/100 - Loss: 0.577\n",
      "Iter 39/100 - Loss: 0.576\n",
      "Iter 40/100 - Loss: 0.575\n",
      "Iter 41/100 - Loss: 0.573\n",
      "Iter 42/100 - Loss: 0.572\n",
      "Iter 43/100 - Loss: 0.571\n",
      "Iter 44/100 - Loss: 0.570\n",
      "Iter 45/100 - Loss: 0.569\n",
      "Iter 46/100 - Loss: 0.568\n",
      "Iter 47/100 - Loss: 0.566\n",
      "Iter 48/100 - Loss: 0.564\n",
      "Iter 49/100 - Loss: 0.562\n",
      "Iter 50/100 - Loss: 0.560\n",
      "Iter 51/100 - Loss: 0.558\n",
      "Iter 52/100 - Loss: 0.556\n",
      "Iter 53/100 - Loss: 0.555\n",
      "Iter 54/100 - Loss: 0.554\n",
      "Iter 55/100 - Loss: 0.553\n",
      "Iter 56/100 - Loss: 0.552\n",
      "Iter 57/100 - Loss: 0.552\n",
      "Iter 58/100 - Loss: 0.552\n",
      "Iter 59/100 - Loss: 0.552\n",
      "Iter 60/100 - Loss: 0.551\n",
      "Iter 61/100 - Loss: 0.551\n",
      "Iter 62/100 - Loss: 0.551\n",
      "Iter 63/100 - Loss: 0.550\n",
      "Iter 64/100 - Loss: 0.550\n",
      "Iter 65/100 - Loss: 0.550\n",
      "Iter 66/100 - Loss: 0.550\n",
      "Iter 67/100 - Loss: 0.550\n",
      "Iter 68/100 - Loss: 0.550\n",
      "Iter 69/100 - Loss: 0.550\n",
      "Iter 70/100 - Loss: 0.549\n",
      "Iter 71/100 - Loss: 0.549\n",
      "Iter 72/100 - Loss: 0.549\n",
      "Iter 73/100 - Loss: 0.548\n",
      "Iter 74/100 - Loss: 0.548\n",
      "Iter 75/100 - Loss: 0.548\n",
      "Iter 76/100 - Loss: 0.547\n",
      "Iter 77/100 - Loss: 0.547\n",
      "Iter 78/100 - Loss: 0.547\n",
      "Iter 79/100 - Loss: 0.547\n",
      "Iter 80/100 - Loss: 0.547\n",
      "Iter 81/100 - Loss: 0.546\n",
      "Iter 82/100 - Loss: 0.546\n",
      "Iter 83/100 - Loss: 0.546\n",
      "Iter 84/100 - Loss: 0.546\n",
      "Iter 85/100 - Loss: 0.546\n",
      "Iter 86/100 - Loss: 0.546\n",
      "Iter 87/100 - Loss: 0.546\n",
      "Iter 88/100 - Loss: 0.546\n",
      "Iter 89/100 - Loss: 0.545\n",
      "Iter 90/100 - Loss: 0.545\n",
      "Iter 91/100 - Loss: 0.545\n",
      "Iter 92/100 - Loss: 0.545\n",
      "Iter 93/100 - Loss: 0.545\n",
      "Iter 94/100 - Loss: 0.545\n",
      "Iter 95/100 - Loss: 0.545\n",
      "Iter 96/100 - Loss: 0.545\n"
     ]
    },
    {
     "name": "stderr",
     "output_type": "stream",
     "text": [
      "INFO:root:Fitting MultitaskGP model (split 6/12)\n"
     ]
    },
    {
     "name": "stdout",
     "output_type": "stream",
     "text": [
      "Iter 97/100 - Loss: 0.544\n",
      "Iter 98/100 - Loss: 0.544\n",
      "Iter 99/100 - Loss: 0.544\n",
      "Iter 100/100 - Loss: 0.544\n",
      "Iter 1/100 - Loss: 1.782\n",
      "Iter 2/100 - Loss: 1.722\n",
      "Iter 3/100 - Loss: 1.666\n",
      "Iter 4/100 - Loss: 1.610\n",
      "Iter 5/100 - Loss: 1.552\n",
      "Iter 6/100 - Loss: 1.494\n",
      "Iter 7/100 - Loss: 1.433\n",
      "Iter 8/100 - Loss: 1.373\n",
      "Iter 9/100 - Loss: 1.312\n",
      "Iter 10/100 - Loss: 1.251\n",
      "Iter 11/100 - Loss: 1.191\n",
      "Iter 12/100 - Loss: 1.132\n",
      "Iter 13/100 - Loss: 1.076\n",
      "Iter 14/100 - Loss: 1.021\n",
      "Iter 15/100 - Loss: 0.969\n",
      "Iter 16/100 - Loss: 0.921\n",
      "Iter 17/100 - Loss: 0.878\n",
      "Iter 18/100 - Loss: 0.838\n",
      "Iter 19/100 - Loss: 0.800\n",
      "Iter 20/100 - Loss: 0.765\n",
      "Iter 21/100 - Loss: 0.734\n",
      "Iter 22/100 - Loss: 0.706\n",
      "Iter 23/100 - Loss: 0.681\n",
      "Iter 24/100 - Loss: 0.660\n",
      "Iter 25/100 - Loss: 0.641\n",
      "Iter 26/100 - Loss: 0.622\n",
      "Iter 27/100 - Loss: 0.605\n",
      "Iter 28/100 - Loss: 0.591\n",
      "Iter 29/100 - Loss: 0.581\n",
      "Iter 30/100 - Loss: 0.573\n",
      "Iter 31/100 - Loss: 0.567\n",
      "Iter 32/100 - Loss: 0.564\n",
      "Iter 33/100 - Loss: 0.563\n",
      "Iter 34/100 - Loss: 0.564\n",
      "Iter 35/100 - Loss: 0.565\n",
      "Iter 36/100 - Loss: 0.566\n",
      "Iter 37/100 - Loss: 0.566\n",
      "Iter 38/100 - Loss: 0.568\n",
      "Iter 39/100 - Loss: 0.569\n",
      "Iter 40/100 - Loss: 0.570\n",
      "Iter 41/100 - Loss: 0.570\n",
      "Iter 42/100 - Loss: 0.569\n",
      "Iter 43/100 - Loss: 0.568\n",
      "Iter 44/100 - Loss: 0.566\n",
      "Iter 45/100 - Loss: 0.564\n",
      "Iter 46/100 - Loss: 0.561\n",
      "Iter 47/100 - Loss: 0.559\n",
      "Iter 48/100 - Loss: 0.557\n",
      "Iter 49/100 - Loss: 0.555\n",
      "Iter 50/100 - Loss: 0.553\n",
      "Iter 51/100 - Loss: 0.552\n",
      "Iter 52/100 - Loss: 0.550\n",
      "Iter 53/100 - Loss: 0.548\n",
      "Iter 54/100 - Loss: 0.547\n",
      "Iter 55/100 - Loss: 0.547\n",
      "Iter 56/100 - Loss: 0.546\n",
      "Iter 57/100 - Loss: 0.546\n",
      "Iter 58/100 - Loss: 0.546\n",
      "Iter 59/100 - Loss: 0.546\n",
      "Iter 60/100 - Loss: 0.546\n",
      "Iter 61/100 - Loss: 0.546\n",
      "Iter 62/100 - Loss: 0.546\n",
      "Iter 63/100 - Loss: 0.545\n",
      "Iter 64/100 - Loss: 0.545\n",
      "Iter 65/100 - Loss: 0.545\n",
      "Iter 66/100 - Loss: 0.545\n",
      "Iter 67/100 - Loss: 0.544\n",
      "Iter 68/100 - Loss: 0.544\n",
      "Iter 69/100 - Loss: 0.544\n",
      "Iter 70/100 - Loss: 0.543\n",
      "Iter 71/100 - Loss: 0.543\n",
      "Iter 72/100 - Loss: 0.543\n",
      "Iter 73/100 - Loss: 0.543\n",
      "Iter 74/100 - Loss: 0.542\n",
      "Iter 75/100 - Loss: 0.542\n",
      "Iter 76/100 - Loss: 0.542\n",
      "Iter 77/100 - Loss: 0.542\n",
      "Iter 78/100 - Loss: 0.542\n",
      "Iter 79/100 - Loss: 0.541\n",
      "Iter 80/100 - Loss: 0.541\n",
      "Iter 81/100 - Loss: 0.541\n",
      "Iter 82/100 - Loss: 0.541\n",
      "Iter 83/100 - Loss: 0.541\n",
      "Iter 84/100 - Loss: 0.541\n",
      "Iter 85/100 - Loss: 0.541\n",
      "Iter 86/100 - Loss: 0.541\n",
      "Iter 87/100 - Loss: 0.540\n",
      "Iter 88/100 - Loss: 0.540\n",
      "Iter 89/100 - Loss: 0.540\n",
      "Iter 90/100 - Loss: 0.540\n",
      "Iter 91/100 - Loss: 0.540\n",
      "Iter 92/100 - Loss: 0.540\n",
      "Iter 93/100 - Loss: 0.540\n",
      "Iter 94/100 - Loss: 0.540\n",
      "Iter 95/100 - Loss: 0.540\n",
      "Iter 96/100 - Loss: 0.539\n",
      "Iter 97/100 - Loss: 0.539\n",
      "Iter 98/100 - Loss: 0.539\n",
      "Iter 99/100 - Loss: 0.539\n",
      "Iter 100/100 - Loss: 0.539\n"
     ]
    },
    {
     "name": "stderr",
     "output_type": "stream",
     "text": [
      "INFO:root:Fitting MultitaskGP model (split 7/12)\n"
     ]
    },
    {
     "name": "stdout",
     "output_type": "stream",
     "text": [
      "Iter 1/100 - Loss: 1.974\n",
      "Iter 2/100 - Loss: 1.914\n",
      "Iter 3/100 - Loss: 1.850\n",
      "Iter 4/100 - Loss: 1.785\n",
      "Iter 5/100 - Loss: 1.721\n",
      "Iter 6/100 - Loss: 1.660\n",
      "Iter 7/100 - Loss: 1.603\n",
      "Iter 8/100 - Loss: 1.546\n",
      "Iter 9/100 - Loss: 1.489\n",
      "Iter 10/100 - Loss: 1.429\n",
      "Iter 11/100 - Loss: 1.367\n",
      "Iter 12/100 - Loss: 1.303\n",
      "Iter 13/100 - Loss: 1.239\n",
      "Iter 14/100 - Loss: 1.175\n",
      "Iter 15/100 - Loss: 1.112\n",
      "Iter 16/100 - Loss: 1.051\n",
      "Iter 17/100 - Loss: 0.992\n",
      "Iter 18/100 - Loss: 0.936\n",
      "Iter 19/100 - Loss: 0.885\n",
      "Iter 20/100 - Loss: 0.838\n",
      "Iter 21/100 - Loss: 0.793\n",
      "Iter 22/100 - Loss: 0.750\n",
      "Iter 23/100 - Loss: 0.708\n",
      "Iter 24/100 - Loss: 0.667\n",
      "Iter 25/100 - Loss: 0.633\n",
      "Iter 26/100 - Loss: 0.608\n",
      "Iter 27/100 - Loss: 0.596\n",
      "Iter 28/100 - Loss: 0.588\n",
      "Iter 29/100 - Loss: 0.578\n",
      "Iter 30/100 - Loss: 0.573\n",
      "Iter 31/100 - Loss: 0.572\n",
      "Iter 32/100 - Loss: 0.574\n",
      "Iter 33/100 - Loss: 0.576\n",
      "Iter 34/100 - Loss: 0.577\n",
      "Iter 35/100 - Loss: 0.577\n",
      "Iter 36/100 - Loss: 0.577\n",
      "Iter 37/100 - Loss: 0.576\n",
      "Iter 38/100 - Loss: 0.575\n",
      "Iter 39/100 - Loss: 0.574\n",
      "Iter 40/100 - Loss: 0.573\n",
      "Iter 41/100 - Loss: 0.572\n",
      "Iter 42/100 - Loss: 0.571\n",
      "Iter 43/100 - Loss: 0.569\n",
      "Iter 44/100 - Loss: 0.567\n",
      "Iter 45/100 - Loss: 0.565\n",
      "Iter 46/100 - Loss: 0.563\n",
      "Iter 47/100 - Loss: 0.561\n",
      "Iter 48/100 - Loss: 0.559\n",
      "Iter 49/100 - Loss: 0.557\n",
      "Iter 50/100 - Loss: 0.556\n",
      "Iter 51/100 - Loss: 0.554\n",
      "Iter 52/100 - Loss: 0.553\n",
      "Iter 53/100 - Loss: 0.552\n",
      "Iter 54/100 - Loss: 0.551\n",
      "Iter 55/100 - Loss: 0.550\n",
      "Iter 56/100 - Loss: 0.550\n",
      "Iter 57/100 - Loss: 0.549\n",
      "Iter 58/100 - Loss: 0.549\n",
      "Iter 59/100 - Loss: 0.548\n",
      "Iter 60/100 - Loss: 0.547\n",
      "Iter 61/100 - Loss: 0.547\n",
      "Iter 62/100 - Loss: 0.546\n",
      "Iter 63/100 - Loss: 0.546\n",
      "Iter 64/100 - Loss: 0.545\n",
      "Iter 65/100 - Loss: 0.545\n",
      "Iter 66/100 - Loss: 0.545\n",
      "Iter 67/100 - Loss: 0.545\n",
      "Iter 68/100 - Loss: 0.545\n",
      "Iter 69/100 - Loss: 0.545\n",
      "Iter 70/100 - Loss: 0.545\n",
      "Iter 71/100 - Loss: 0.545\n",
      "Iter 72/100 - Loss: 0.544\n",
      "Iter 73/100 - Loss: 0.544\n",
      "Iter 74/100 - Loss: 0.544\n",
      "Iter 75/100 - Loss: 0.544\n",
      "Iter 76/100 - Loss: 0.544\n",
      "Iter 77/100 - Loss: 0.543\n",
      "Iter 78/100 - Loss: 0.543\n",
      "Iter 79/100 - Loss: 0.543\n",
      "Iter 80/100 - Loss: 0.543\n",
      "Iter 81/100 - Loss: 0.542\n",
      "Iter 82/100 - Loss: 0.542\n",
      "Iter 83/100 - Loss: 0.542\n",
      "Iter 84/100 - Loss: 0.542\n",
      "Iter 85/100 - Loss: 0.542\n",
      "Iter 86/100 - Loss: 0.542\n",
      "Iter 87/100 - Loss: 0.542\n",
      "Iter 88/100 - Loss: 0.542\n",
      "Iter 89/100 - Loss: 0.542\n",
      "Iter 90/100 - Loss: 0.542\n",
      "Iter 91/100 - Loss: 0.542\n",
      "Iter 92/100 - Loss: 0.541\n",
      "Iter 93/100 - Loss: 0.541\n",
      "Iter 94/100 - Loss: 0.541\n",
      "Iter 95/100 - Loss: 0.541\n",
      "Iter 96/100 - Loss: 0.541\n",
      "Iter 97/100 - Loss: 0.541\n",
      "Iter 98/100 - Loss: 0.541\n",
      "Iter 99/100 - Loss: 0.541\n"
     ]
    },
    {
     "name": "stderr",
     "output_type": "stream",
     "text": [
      "INFO:root:Fitting MultitaskGP model (split 8/12)\n"
     ]
    },
    {
     "name": "stdout",
     "output_type": "stream",
     "text": [
      "Iter 100/100 - Loss: 0.541\n",
      "Iter 1/100 - Loss: 1.614\n",
      "Iter 2/100 - Loss: 1.548\n",
      "Iter 3/100 - Loss: 1.482\n",
      "Iter 4/100 - Loss: 1.421\n",
      "Iter 5/100 - Loss: 1.362\n",
      "Iter 6/100 - Loss: 1.306\n",
      "Iter 7/100 - Loss: 1.253\n",
      "Iter 8/100 - Loss: 1.203\n",
      "Iter 9/100 - Loss: 1.154\n",
      "Iter 10/100 - Loss: 1.106\n",
      "Iter 11/100 - Loss: 1.059\n",
      "Iter 12/100 - Loss: 1.013\n",
      "Iter 13/100 - Loss: 0.971\n",
      "Iter 14/100 - Loss: 0.933\n",
      "Iter 15/100 - Loss: 0.900\n",
      "Iter 16/100 - Loss: 0.868\n",
      "Iter 17/100 - Loss: 0.836\n",
      "Iter 18/100 - Loss: 0.801\n",
      "Iter 19/100 - Loss: 0.767\n",
      "Iter 20/100 - Loss: 0.736\n",
      "Iter 21/100 - Loss: 0.711\n",
      "Iter 22/100 - Loss: 0.688\n",
      "Iter 23/100 - Loss: 0.668\n",
      "Iter 24/100 - Loss: 0.649\n",
      "Iter 25/100 - Loss: 0.632\n",
      "Iter 26/100 - Loss: 0.617\n",
      "Iter 27/100 - Loss: 0.604\n",
      "Iter 28/100 - Loss: 0.593\n",
      "Iter 29/100 - Loss: 0.584\n",
      "Iter 30/100 - Loss: 0.578\n",
      "Iter 31/100 - Loss: 0.574\n",
      "Iter 32/100 - Loss: 0.570\n",
      "Iter 33/100 - Loss: 0.567\n",
      "Iter 34/100 - Loss: 0.566\n",
      "Iter 35/100 - Loss: 0.566\n",
      "Iter 36/100 - Loss: 0.567\n",
      "Iter 37/100 - Loss: 0.567\n",
      "Iter 38/100 - Loss: 0.567\n",
      "Iter 39/100 - Loss: 0.566\n",
      "Iter 40/100 - Loss: 0.566\n",
      "Iter 41/100 - Loss: 0.566\n",
      "Iter 42/100 - Loss: 0.566\n",
      "Iter 43/100 - Loss: 0.566\n",
      "Iter 44/100 - Loss: 0.565\n",
      "Iter 45/100 - Loss: 0.564\n",
      "Iter 46/100 - Loss: 0.563\n",
      "Iter 47/100 - Loss: 0.563\n",
      "Iter 48/100 - Loss: 0.562\n",
      "Iter 49/100 - Loss: 0.561\n",
      "Iter 50/100 - Loss: 0.560\n",
      "Iter 51/100 - Loss: 0.559\n",
      "Iter 52/100 - Loss: 0.558\n",
      "Iter 53/100 - Loss: 0.557\n",
      "Iter 54/100 - Loss: 0.556\n",
      "Iter 55/100 - Loss: 0.555\n",
      "Iter 56/100 - Loss: 0.554\n",
      "Iter 57/100 - Loss: 0.553\n",
      "Iter 58/100 - Loss: 0.552\n",
      "Iter 59/100 - Loss: 0.552\n",
      "Iter 60/100 - Loss: 0.551\n",
      "Iter 61/100 - Loss: 0.550\n",
      "Iter 62/100 - Loss: 0.550\n",
      "Iter 63/100 - Loss: 0.550\n",
      "Iter 64/100 - Loss: 0.549\n",
      "Iter 65/100 - Loss: 0.549\n",
      "Iter 66/100 - Loss: 0.549\n",
      "Iter 67/100 - Loss: 0.549\n",
      "Iter 68/100 - Loss: 0.549\n",
      "Iter 69/100 - Loss: 0.549\n",
      "Iter 70/100 - Loss: 0.549\n",
      "Iter 71/100 - Loss: 0.548\n",
      "Iter 72/100 - Loss: 0.548\n",
      "Iter 73/100 - Loss: 0.548\n",
      "Iter 74/100 - Loss: 0.548\n",
      "Iter 75/100 - Loss: 0.548\n",
      "Iter 76/100 - Loss: 0.548\n",
      "Iter 77/100 - Loss: 0.548\n",
      "Iter 78/100 - Loss: 0.548\n",
      "Iter 79/100 - Loss: 0.547\n",
      "Iter 80/100 - Loss: 0.547\n",
      "Iter 81/100 - Loss: 0.547\n",
      "Iter 82/100 - Loss: 0.547\n",
      "Iter 83/100 - Loss: 0.547\n",
      "Iter 84/100 - Loss: 0.547\n",
      "Iter 85/100 - Loss: 0.547\n",
      "Iter 86/100 - Loss: 0.546\n",
      "Iter 87/100 - Loss: 0.546\n",
      "Iter 88/100 - Loss: 0.546\n",
      "Iter 89/100 - Loss: 0.546\n",
      "Iter 90/100 - Loss: 0.546\n",
      "Iter 91/100 - Loss: 0.546\n",
      "Iter 92/100 - Loss: 0.546\n",
      "Iter 93/100 - Loss: 0.546\n",
      "Iter 94/100 - Loss: 0.546\n",
      "Iter 95/100 - Loss: 0.546\n",
      "Iter 96/100 - Loss: 0.546\n",
      "Iter 97/100 - Loss: 0.546\n",
      "Iter 98/100 - Loss: 0.546\n",
      "Iter 99/100 - Loss: 0.545\n",
      "Iter 100/100 - Loss: 0.545\n"
     ]
    },
    {
     "name": "stderr",
     "output_type": "stream",
     "text": [
      "INFO:root:Fitting MultitaskGP model (split 9/12)\n"
     ]
    },
    {
     "name": "stdout",
     "output_type": "stream",
     "text": [
      "Iter 1/100 - Loss: 1.850\n",
      "Iter 2/100 - Loss: 1.782\n",
      "Iter 3/100 - Loss: 1.713\n",
      "Iter 4/100 - Loss: 1.641\n",
      "Iter 5/100 - Loss: 1.568\n",
      "Iter 6/100 - Loss: 1.495\n",
      "Iter 7/100 - Loss: 1.422\n",
      "Iter 8/100 - Loss: 1.352\n",
      "Iter 9/100 - Loss: 1.283\n",
      "Iter 10/100 - Loss: 1.218\n",
      "Iter 11/100 - Loss: 1.156\n",
      "Iter 12/100 - Loss: 1.097\n",
      "Iter 13/100 - Loss: 1.040\n",
      "Iter 14/100 - Loss: 0.986\n",
      "Iter 15/100 - Loss: 0.934\n",
      "Iter 16/100 - Loss: 0.888\n",
      "Iter 17/100 - Loss: 0.846\n",
      "Iter 18/100 - Loss: 0.809\n",
      "Iter 19/100 - Loss: 0.776\n",
      "Iter 20/100 - Loss: 0.744\n",
      "Iter 21/100 - Loss: 0.714\n",
      "Iter 22/100 - Loss: 0.688\n",
      "Iter 23/100 - Loss: 0.666\n",
      "Iter 24/100 - Loss: 0.649\n",
      "Iter 25/100 - Loss: 0.634\n",
      "Iter 26/100 - Loss: 0.620\n",
      "Iter 27/100 - Loss: 0.606\n",
      "Iter 28/100 - Loss: 0.594\n",
      "Iter 29/100 - Loss: 0.585\n",
      "Iter 30/100 - Loss: 0.578\n",
      "Iter 31/100 - Loss: 0.573\n",
      "Iter 32/100 - Loss: 0.570\n",
      "Iter 33/100 - Loss: 0.568\n",
      "Iter 34/100 - Loss: 0.566\n",
      "Iter 35/100 - Loss: 0.565\n",
      "Iter 36/100 - Loss: 0.564\n",
      "Iter 37/100 - Loss: 0.565\n",
      "Iter 38/100 - Loss: 0.567\n",
      "Iter 39/100 - Loss: 0.568\n",
      "Iter 40/100 - Loss: 0.569\n",
      "Iter 41/100 - Loss: 0.569\n",
      "Iter 42/100 - Loss: 0.568\n",
      "Iter 43/100 - Loss: 0.568\n",
      "Iter 44/100 - Loss: 0.566\n",
      "Iter 45/100 - Loss: 0.565\n",
      "Iter 46/100 - Loss: 0.564\n",
      "Iter 47/100 - Loss: 0.563\n",
      "Iter 48/100 - Loss: 0.561\n",
      "Iter 49/100 - Loss: 0.560\n",
      "Iter 50/100 - Loss: 0.558\n",
      "Iter 51/100 - Loss: 0.556\n",
      "Iter 52/100 - Loss: 0.555\n",
      "Iter 53/100 - Loss: 0.553\n",
      "Iter 54/100 - Loss: 0.552\n",
      "Iter 55/100 - Loss: 0.551\n",
      "Iter 56/100 - Loss: 0.550\n",
      "Iter 57/100 - Loss: 0.549\n",
      "Iter 58/100 - Loss: 0.549\n",
      "Iter 59/100 - Loss: 0.548\n",
      "Iter 60/100 - Loss: 0.548\n",
      "Iter 61/100 - Loss: 0.548\n",
      "Iter 62/100 - Loss: 0.547\n",
      "Iter 63/100 - Loss: 0.547\n",
      "Iter 64/100 - Loss: 0.547\n",
      "Iter 65/100 - Loss: 0.547\n",
      "Iter 66/100 - Loss: 0.547\n",
      "Iter 67/100 - Loss: 0.547\n",
      "Iter 68/100 - Loss: 0.547\n",
      "Iter 69/100 - Loss: 0.547\n",
      "Iter 70/100 - Loss: 0.546\n",
      "Iter 71/100 - Loss: 0.546\n",
      "Iter 72/100 - Loss: 0.546\n",
      "Iter 73/100 - Loss: 0.546\n",
      "Iter 74/100 - Loss: 0.546\n",
      "Iter 75/100 - Loss: 0.545\n",
      "Iter 76/100 - Loss: 0.545\n",
      "Iter 77/100 - Loss: 0.545\n",
      "Iter 78/100 - Loss: 0.545\n",
      "Iter 79/100 - Loss: 0.544\n",
      "Iter 80/100 - Loss: 0.544\n",
      "Iter 81/100 - Loss: 0.544\n",
      "Iter 82/100 - Loss: 0.544\n",
      "Iter 83/100 - Loss: 0.544\n",
      "Iter 84/100 - Loss: 0.544\n",
      "Iter 85/100 - Loss: 0.544\n",
      "Iter 86/100 - Loss: 0.543\n",
      "Iter 87/100 - Loss: 0.543\n",
      "Iter 88/100 - Loss: 0.543\n",
      "Iter 89/100 - Loss: 0.543\n",
      "Iter 90/100 - Loss: 0.543\n",
      "Iter 91/100 - Loss: 0.543\n",
      "Iter 92/100 - Loss: 0.543\n",
      "Iter 93/100 - Loss: 0.543\n",
      "Iter 94/100 - Loss: 0.543\n",
      "Iter 95/100 - Loss: 0.543\n",
      "Iter 96/100 - Loss: 0.543\n",
      "Iter 97/100 - Loss: 0.542\n",
      "Iter 98/100 - Loss: 0.542\n"
     ]
    },
    {
     "name": "stderr",
     "output_type": "stream",
     "text": [
      "INFO:root:Fitting MultitaskGP model (split 10/12)\n"
     ]
    },
    {
     "name": "stdout",
     "output_type": "stream",
     "text": [
      "Iter 99/100 - Loss: 0.542\n",
      "Iter 100/100 - Loss: 0.542\n",
      "Iter 1/100 - Loss: 1.779\n",
      "Iter 2/100 - Loss: 1.717\n",
      "Iter 3/100 - Loss: 1.651\n",
      "Iter 4/100 - Loss: 1.585\n",
      "Iter 5/100 - Loss: 1.520\n",
      "Iter 6/100 - Loss: 1.455\n",
      "Iter 7/100 - Loss: 1.392\n",
      "Iter 8/100 - Loss: 1.330\n",
      "Iter 9/100 - Loss: 1.270\n",
      "Iter 10/100 - Loss: 1.211\n",
      "Iter 11/100 - Loss: 1.154\n",
      "Iter 12/100 - Loss: 1.098\n",
      "Iter 13/100 - Loss: 1.045\n",
      "Iter 14/100 - Loss: 0.994\n",
      "Iter 15/100 - Loss: 0.946\n",
      "Iter 16/100 - Loss: 0.901\n",
      "Iter 17/100 - Loss: 0.860\n",
      "Iter 18/100 - Loss: 0.823\n",
      "Iter 19/100 - Loss: 0.789\n",
      "Iter 20/100 - Loss: 0.757\n",
      "Iter 21/100 - Loss: 0.727\n",
      "Iter 22/100 - Loss: 0.698\n",
      "Iter 23/100 - Loss: 0.673\n",
      "Iter 24/100 - Loss: 0.651\n",
      "Iter 25/100 - Loss: 0.631\n",
      "Iter 26/100 - Loss: 0.614\n",
      "Iter 27/100 - Loss: 0.599\n",
      "Iter 28/100 - Loss: 0.587\n",
      "Iter 29/100 - Loss: 0.578\n",
      "Iter 30/100 - Loss: 0.572\n",
      "Iter 31/100 - Loss: 0.569\n",
      "Iter 32/100 - Loss: 0.568\n",
      "Iter 33/100 - Loss: 0.567\n",
      "Iter 34/100 - Loss: 0.566\n",
      "Iter 35/100 - Loss: 0.566\n",
      "Iter 36/100 - Loss: 0.566\n",
      "Iter 37/100 - Loss: 0.568\n",
      "Iter 38/100 - Loss: 0.569\n",
      "Iter 39/100 - Loss: 0.570\n",
      "Iter 40/100 - Loss: 0.571\n",
      "Iter 41/100 - Loss: 0.570\n",
      "Iter 42/100 - Loss: 0.569\n",
      "Iter 43/100 - Loss: 0.568\n",
      "Iter 44/100 - Loss: 0.566\n",
      "Iter 45/100 - Loss: 0.565\n",
      "Iter 46/100 - Loss: 0.564\n",
      "Iter 47/100 - Loss: 0.563\n",
      "Iter 48/100 - Loss: 0.562\n",
      "Iter 49/100 - Loss: 0.560\n",
      "Iter 50/100 - Loss: 0.558\n",
      "Iter 51/100 - Loss: 0.557\n",
      "Iter 52/100 - Loss: 0.555\n",
      "Iter 53/100 - Loss: 0.553\n",
      "Iter 54/100 - Loss: 0.552\n",
      "Iter 55/100 - Loss: 0.551\n",
      "Iter 56/100 - Loss: 0.551\n",
      "Iter 57/100 - Loss: 0.550\n",
      "Iter 58/100 - Loss: 0.550\n",
      "Iter 59/100 - Loss: 0.549\n",
      "Iter 60/100 - Loss: 0.549\n",
      "Iter 61/100 - Loss: 0.549\n",
      "Iter 62/100 - Loss: 0.548\n",
      "Iter 63/100 - Loss: 0.548\n",
      "Iter 64/100 - Loss: 0.548\n",
      "Iter 65/100 - Loss: 0.548\n",
      "Iter 66/100 - Loss: 0.548\n",
      "Iter 67/100 - Loss: 0.548\n",
      "Iter 68/100 - Loss: 0.548\n",
      "Iter 69/100 - Loss: 0.548\n",
      "Iter 70/100 - Loss: 0.548\n",
      "Iter 71/100 - Loss: 0.548\n",
      "Iter 72/100 - Loss: 0.547\n",
      "Iter 73/100 - Loss: 0.547\n",
      "Iter 74/100 - Loss: 0.547\n",
      "Iter 75/100 - Loss: 0.547\n",
      "Iter 76/100 - Loss: 0.546\n",
      "Iter 77/100 - Loss: 0.546\n",
      "Iter 78/100 - Loss: 0.546\n",
      "Iter 79/100 - Loss: 0.546\n",
      "Iter 80/100 - Loss: 0.546\n",
      "Iter 81/100 - Loss: 0.545\n",
      "Iter 82/100 - Loss: 0.545\n",
      "Iter 83/100 - Loss: 0.545\n",
      "Iter 84/100 - Loss: 0.545\n",
      "Iter 85/100 - Loss: 0.545\n",
      "Iter 86/100 - Loss: 0.545\n",
      "Iter 87/100 - Loss: 0.545\n",
      "Iter 88/100 - Loss: 0.545\n",
      "Iter 89/100 - Loss: 0.545\n",
      "Iter 90/100 - Loss: 0.545\n",
      "Iter 91/100 - Loss: 0.544\n",
      "Iter 92/100 - Loss: 0.544\n",
      "Iter 93/100 - Loss: 0.544\n",
      "Iter 94/100 - Loss: 0.544\n",
      "Iter 95/100 - Loss: 0.544\n",
      "Iter 96/100 - Loss: 0.544\n",
      "Iter 97/100 - Loss: 0.544\n",
      "Iter 98/100 - Loss: 0.544\n",
      "Iter 99/100 - Loss: 0.544\n",
      "Iter 100/100 - Loss: 0.544\n"
     ]
    },
    {
     "name": "stderr",
     "output_type": "stream",
     "text": [
      "INFO:root:Fitting MultitaskGP model (split 11/12)\n"
     ]
    },
    {
     "name": "stdout",
     "output_type": "stream",
     "text": [
      "Iter 1/100 - Loss: 1.762\n",
      "Iter 2/100 - Loss: 1.693\n",
      "Iter 3/100 - Loss: 1.623\n",
      "Iter 4/100 - Loss: 1.554\n",
      "Iter 5/100 - Loss: 1.487\n",
      "Iter 6/100 - Loss: 1.421\n",
      "Iter 7/100 - Loss: 1.359\n",
      "Iter 8/100 - Loss: 1.299\n",
      "Iter 9/100 - Loss: 1.243\n",
      "Iter 10/100 - Loss: 1.191\n",
      "Iter 11/100 - Loss: 1.140\n",
      "Iter 12/100 - Loss: 1.091\n",
      "Iter 13/100 - Loss: 1.041\n",
      "Iter 14/100 - Loss: 0.991\n",
      "Iter 15/100 - Loss: 0.943\n",
      "Iter 16/100 - Loss: 0.899\n",
      "Iter 17/100 - Loss: 0.860\n",
      "Iter 18/100 - Loss: 0.825\n",
      "Iter 19/100 - Loss: 0.791\n",
      "Iter 20/100 - Loss: 0.757\n",
      "Iter 21/100 - Loss: 0.723\n",
      "Iter 22/100 - Loss: 0.692\n",
      "Iter 23/100 - Loss: 0.666\n",
      "Iter 24/100 - Loss: 0.645\n",
      "Iter 25/100 - Loss: 0.630\n",
      "Iter 26/100 - Loss: 0.618\n",
      "Iter 27/100 - Loss: 0.603\n",
      "Iter 28/100 - Loss: 0.590\n",
      "Iter 29/100 - Loss: 0.581\n",
      "Iter 30/100 - Loss: 0.575\n",
      "Iter 31/100 - Loss: 0.572\n",
      "Iter 32/100 - Loss: 0.570\n",
      "Iter 33/100 - Loss: 0.568\n",
      "Iter 34/100 - Loss: 0.566\n",
      "Iter 35/100 - Loss: 0.565\n",
      "Iter 36/100 - Loss: 0.565\n",
      "Iter 37/100 - Loss: 0.566\n",
      "Iter 38/100 - Loss: 0.567\n",
      "Iter 39/100 - Loss: 0.568\n",
      "Iter 40/100 - Loss: 0.568\n",
      "Iter 41/100 - Loss: 0.569\n",
      "Iter 42/100 - Loss: 0.568\n",
      "Iter 43/100 - Loss: 0.568\n",
      "Iter 44/100 - Loss: 0.567\n",
      "Iter 45/100 - Loss: 0.566\n",
      "Iter 46/100 - Loss: 0.565\n",
      "Iter 47/100 - Loss: 0.563\n",
      "Iter 48/100 - Loss: 0.562\n",
      "Iter 49/100 - Loss: 0.560\n",
      "Iter 50/100 - Loss: 0.559\n",
      "Iter 51/100 - Loss: 0.558\n",
      "Iter 52/100 - Loss: 0.556\n",
      "Iter 53/100 - Loss: 0.555\n",
      "Iter 54/100 - Loss: 0.554\n",
      "Iter 55/100 - Loss: 0.552\n",
      "Iter 56/100 - Loss: 0.552\n",
      "Iter 57/100 - Loss: 0.551\n",
      "Iter 58/100 - Loss: 0.550\n",
      "Iter 59/100 - Loss: 0.550\n",
      "Iter 60/100 - Loss: 0.549\n",
      "Iter 61/100 - Loss: 0.549\n",
      "Iter 62/100 - Loss: 0.549\n",
      "Iter 63/100 - Loss: 0.548\n",
      "Iter 64/100 - Loss: 0.548\n",
      "Iter 65/100 - Loss: 0.548\n",
      "Iter 66/100 - Loss: 0.548\n",
      "Iter 67/100 - Loss: 0.548\n",
      "Iter 68/100 - Loss: 0.548\n",
      "Iter 69/100 - Loss: 0.548\n",
      "Iter 70/100 - Loss: 0.548\n",
      "Iter 71/100 - Loss: 0.548\n",
      "Iter 72/100 - Loss: 0.548\n",
      "Iter 73/100 - Loss: 0.547\n",
      "Iter 74/100 - Loss: 0.547\n",
      "Iter 75/100 - Loss: 0.547\n",
      "Iter 76/100 - Loss: 0.547\n",
      "Iter 77/100 - Loss: 0.547\n",
      "Iter 78/100 - Loss: 0.546\n",
      "Iter 79/100 - Loss: 0.546\n",
      "Iter 80/100 - Loss: 0.546\n",
      "Iter 81/100 - Loss: 0.546\n",
      "Iter 82/100 - Loss: 0.546\n",
      "Iter 83/100 - Loss: 0.546\n",
      "Iter 84/100 - Loss: 0.545\n",
      "Iter 85/100 - Loss: 0.545\n",
      "Iter 86/100 - Loss: 0.545\n",
      "Iter 87/100 - Loss: 0.545\n",
      "Iter 88/100 - Loss: 0.545\n",
      "Iter 89/100 - Loss: 0.545\n",
      "Iter 90/100 - Loss: 0.545\n",
      "Iter 91/100 - Loss: 0.545\n",
      "Iter 92/100 - Loss: 0.545\n",
      "Iter 93/100 - Loss: 0.545\n",
      "Iter 94/100 - Loss: 0.545\n",
      "Iter 95/100 - Loss: 0.544\n",
      "Iter 96/100 - Loss: 0.544\n",
      "Iter 97/100 - Loss: 0.544\n",
      "Iter 98/100 - Loss: 0.544\n",
      "Iter 99/100 - Loss: 0.544\n",
      "Iter 100/100 - Loss: 0.544\n"
     ]
    },
    {
     "name": "stderr",
     "output_type": "stream",
     "text": [
      "INFO:root:Fitting MultitaskGP model (split 12/12)\n"
     ]
    },
    {
     "name": "stdout",
     "output_type": "stream",
     "text": [
      "Iter 1/100 - Loss: 1.831\n",
      "Iter 2/100 - Loss: 1.768\n",
      "Iter 3/100 - Loss: 1.704\n",
      "Iter 4/100 - Loss: 1.642\n",
      "Iter 5/100 - Loss: 1.578\n",
      "Iter 6/100 - Loss: 1.512\n",
      "Iter 7/100 - Loss: 1.444\n",
      "Iter 8/100 - Loss: 1.376\n",
      "Iter 9/100 - Loss: 1.308\n",
      "Iter 10/100 - Loss: 1.242\n",
      "Iter 11/100 - Loss: 1.178\n",
      "Iter 12/100 - Loss: 1.117\n",
      "Iter 13/100 - Loss: 1.056\n",
      "Iter 14/100 - Loss: 0.998\n",
      "Iter 15/100 - Loss: 0.941\n",
      "Iter 16/100 - Loss: 0.888\n",
      "Iter 17/100 - Loss: 0.842\n",
      "Iter 18/100 - Loss: 0.805\n",
      "Iter 19/100 - Loss: 0.778\n",
      "Iter 20/100 - Loss: 0.759\n",
      "Iter 21/100 - Loss: 0.737\n",
      "Iter 22/100 - Loss: 0.708\n",
      "Iter 23/100 - Loss: 0.678\n",
      "Iter 24/100 - Loss: 0.651\n",
      "Iter 25/100 - Loss: 0.629\n",
      "Iter 26/100 - Loss: 0.612\n",
      "Iter 27/100 - Loss: 0.599\n",
      "Iter 28/100 - Loss: 0.588\n",
      "Iter 29/100 - Loss: 0.580\n",
      "Iter 30/100 - Loss: 0.574\n",
      "Iter 31/100 - Loss: 0.571\n",
      "Iter 32/100 - Loss: 0.569\n",
      "Iter 33/100 - Loss: 0.568\n",
      "Iter 34/100 - Loss: 0.567\n",
      "Iter 35/100 - Loss: 0.566\n",
      "Iter 36/100 - Loss: 0.565\n",
      "Iter 37/100 - Loss: 0.565\n",
      "Iter 38/100 - Loss: 0.567\n",
      "Iter 39/100 - Loss: 0.568\n",
      "Iter 40/100 - Loss: 0.569\n",
      "Iter 41/100 - Loss: 0.570\n",
      "Iter 42/100 - Loss: 0.570\n",
      "Iter 43/100 - Loss: 0.569\n",
      "Iter 44/100 - Loss: 0.568\n",
      "Iter 45/100 - Loss: 0.566\n",
      "Iter 46/100 - Loss: 0.564\n",
      "Iter 47/100 - Loss: 0.563\n",
      "Iter 48/100 - Loss: 0.561\n",
      "Iter 49/100 - Loss: 0.559\n",
      "Iter 50/100 - Loss: 0.558\n",
      "Iter 51/100 - Loss: 0.556\n",
      "Iter 52/100 - Loss: 0.555\n",
      "Iter 53/100 - Loss: 0.554\n",
      "Iter 54/100 - Loss: 0.552\n",
      "Iter 55/100 - Loss: 0.551\n",
      "Iter 56/100 - Loss: 0.550\n",
      "Iter 57/100 - Loss: 0.550\n",
      "Iter 58/100 - Loss: 0.549\n",
      "Iter 59/100 - Loss: 0.549\n",
      "Iter 60/100 - Loss: 0.549\n",
      "Iter 61/100 - Loss: 0.549\n",
      "Iter 62/100 - Loss: 0.548\n",
      "Iter 63/100 - Loss: 0.548\n",
      "Iter 64/100 - Loss: 0.548\n",
      "Iter 65/100 - Loss: 0.548\n",
      "Iter 66/100 - Loss: 0.548\n",
      "Iter 67/100 - Loss: 0.547\n",
      "Iter 68/100 - Loss: 0.547\n",
      "Iter 69/100 - Loss: 0.547\n",
      "Iter 70/100 - Loss: 0.547\n",
      "Iter 71/100 - Loss: 0.547\n",
      "Iter 72/100 - Loss: 0.547\n",
      "Iter 73/100 - Loss: 0.546\n",
      "Iter 74/100 - Loss: 0.546\n",
      "Iter 75/100 - Loss: 0.546\n",
      "Iter 76/100 - Loss: 0.546\n",
      "Iter 77/100 - Loss: 0.546\n",
      "Iter 78/100 - Loss: 0.546\n",
      "Iter 79/100 - Loss: 0.545\n",
      "Iter 80/100 - Loss: 0.545\n",
      "Iter 81/100 - Loss: 0.545\n",
      "Iter 82/100 - Loss: 0.545\n",
      "Iter 83/100 - Loss: 0.545\n",
      "Iter 84/100 - Loss: 0.545\n",
      "Iter 85/100 - Loss: 0.544\n",
      "Iter 86/100 - Loss: 0.544\n",
      "Iter 87/100 - Loss: 0.544\n",
      "Iter 88/100 - Loss: 0.544\n",
      "Iter 89/100 - Loss: 0.544\n",
      "Iter 90/100 - Loss: 0.544\n",
      "Iter 91/100 - Loss: 0.544\n",
      "Iter 92/100 - Loss: 0.544\n",
      "Iter 93/100 - Loss: 0.544\n",
      "Iter 94/100 - Loss: 0.544\n",
      "Iter 95/100 - Loss: 0.544\n",
      "Iter 96/100 - Loss: 0.543\n",
      "Iter 97/100 - Loss: 0.543\n",
      "Iter 98/100 - Loss: 0.543\n",
      "Iter 99/100 - Loss: 0.543\n",
      "Iter 100/100 - Loss: 0.543\n"
     ]
    },
    {
     "name": "stderr",
     "output_type": "stream",
     "text": [
      "INFO:root:Fitting VARX model...\n",
      "INFO:root:Fitting VARX model (split 1/12)\n",
      "INFO:jax._src.xla_bridge:Unable to initialize backend 'cuda': \n",
      "INFO:jax._src.xla_bridge:Unable to initialize backend 'rocm': module 'jaxlib.xla_extension' has no attribute 'GpuAllocatorConfig'\n",
      "INFO:jax._src.xla_bridge:Unable to initialize backend 'tpu': INTERNAL: Failed to open libtpu.so: dlopen(libtpu.so, 0x0001): tried: 'libtpu.so' (no such file), '/System/Volumes/Preboot/Cryptexes/OSlibtpu.so' (no such file), '/Users/mcanearm/miniconda3/envs/noaa_mvp/lib/python3.11/site-packages/jaxlib/../../../libtpu.so' (no such file), '/Users/mcanearm/miniconda3/envs/noaa_mvp/bin/../lib/libtpu.so' (no such file), '/usr/lib/libtpu.so' (no such file, not in dyld cache), 'libtpu.so' (no such file), '/usr/local/lib/libtpu.so' (no such file), '/usr/lib/libtpu.so' (no such file, not in dyld cache)\n"
     ]
    },
    {
     "data": {
      "text/plain": [
       "  0%|          | 0/2000 [00:00<?, ?it/s]"
      ],
      "application/vnd.jupyter.widget-view+json": {
       "version_major": 2,
       "version_minor": 0,
       "model_id": "efbccf82f231440795f69ca173792af2"
      }
     },
     "metadata": {},
     "output_type": "display_data"
    },
    {
     "data": {
      "text/plain": [
       "  0%|          | 0/2000 [00:00<?, ?it/s]"
      ],
      "application/vnd.jupyter.widget-view+json": {
       "version_major": 2,
       "version_minor": 0,
       "model_id": "02102f2114344627a9c2692137d4d1a7"
      }
     },
     "metadata": {},
     "output_type": "display_data"
    },
    {
     "data": {
      "text/plain": [
       "  0%|          | 0/2000 [00:00<?, ?it/s]"
      ],
      "application/vnd.jupyter.widget-view+json": {
       "version_major": 2,
       "version_minor": 0,
       "model_id": "cb7637a8d3394998a4b6ba905d37b1b4"
      }
     },
     "metadata": {},
     "output_type": "display_data"
    },
    {
     "data": {
      "text/plain": [
       "  0%|          | 0/2000 [00:00<?, ?it/s]"
      ],
      "application/vnd.jupyter.widget-view+json": {
       "version_major": 2,
       "version_minor": 0,
       "model_id": "367d2d7da8a34c8ead95de658ca416cb"
      }
     },
     "metadata": {},
     "output_type": "display_data"
    },
    {
     "name": "stderr",
     "output_type": "stream",
     "text": [
      "INFO:root:Fitting VARX model (split 2/12)\n"
     ]
    },
    {
     "data": {
      "text/plain": [
       "  0%|          | 0/2000 [00:00<?, ?it/s]"
      ],
      "application/vnd.jupyter.widget-view+json": {
       "version_major": 2,
       "version_minor": 0,
       "model_id": "89796091ac8142cfb7f41f1207926504"
      }
     },
     "metadata": {},
     "output_type": "display_data"
    },
    {
     "data": {
      "text/plain": [
       "  0%|          | 0/2000 [00:00<?, ?it/s]"
      ],
      "application/vnd.jupyter.widget-view+json": {
       "version_major": 2,
       "version_minor": 0,
       "model_id": "e76468f725554da8a2aded1961fc1aa4"
      }
     },
     "metadata": {},
     "output_type": "display_data"
    },
    {
     "data": {
      "text/plain": [
       "  0%|          | 0/2000 [00:00<?, ?it/s]"
      ],
      "application/vnd.jupyter.widget-view+json": {
       "version_major": 2,
       "version_minor": 0,
       "model_id": "f9f2fcdaea6740d2b5e89acc52de0159"
      }
     },
     "metadata": {},
     "output_type": "display_data"
    },
    {
     "data": {
      "text/plain": [
       "  0%|          | 0/2000 [00:00<?, ?it/s]"
      ],
      "application/vnd.jupyter.widget-view+json": {
       "version_major": 2,
       "version_minor": 0,
       "model_id": "824b98a128d34c798a2fa3f5e9cef713"
      }
     },
     "metadata": {},
     "output_type": "display_data"
    },
    {
     "name": "stderr",
     "output_type": "stream",
     "text": [
      "INFO:root:Fitting VARX model (split 3/12)\n"
     ]
    },
    {
     "data": {
      "text/plain": [
       "  0%|          | 0/2000 [00:00<?, ?it/s]"
      ],
      "application/vnd.jupyter.widget-view+json": {
       "version_major": 2,
       "version_minor": 0,
       "model_id": "4b0b4ac7343447f5ab8d17cc57c5d607"
      }
     },
     "metadata": {},
     "output_type": "display_data"
    },
    {
     "data": {
      "text/plain": [
       "  0%|          | 0/2000 [00:00<?, ?it/s]"
      ],
      "application/vnd.jupyter.widget-view+json": {
       "version_major": 2,
       "version_minor": 0,
       "model_id": "3e253c1f6a83468e9151c68cec0825f4"
      }
     },
     "metadata": {},
     "output_type": "display_data"
    },
    {
     "data": {
      "text/plain": [
       "  0%|          | 0/2000 [00:00<?, ?it/s]"
      ],
      "application/vnd.jupyter.widget-view+json": {
       "version_major": 2,
       "version_minor": 0,
       "model_id": "66faae103acc49208c1d6a87e5432851"
      }
     },
     "metadata": {},
     "output_type": "display_data"
    },
    {
     "data": {
      "text/plain": [
       "  0%|          | 0/2000 [00:00<?, ?it/s]"
      ],
      "application/vnd.jupyter.widget-view+json": {
       "version_major": 2,
       "version_minor": 0,
       "model_id": "b5452bef00864c4f85a3e34defd8ddd5"
      }
     },
     "metadata": {},
     "output_type": "display_data"
    },
    {
     "name": "stderr",
     "output_type": "stream",
     "text": [
      "INFO:root:Fitting VARX model (split 4/12)\n"
     ]
    },
    {
     "data": {
      "text/plain": [
       "  0%|          | 0/2000 [00:00<?, ?it/s]"
      ],
      "application/vnd.jupyter.widget-view+json": {
       "version_major": 2,
       "version_minor": 0,
       "model_id": "79db8e89610d4dddac054a315e250353"
      }
     },
     "metadata": {},
     "output_type": "display_data"
    },
    {
     "data": {
      "text/plain": [
       "  0%|          | 0/2000 [00:00<?, ?it/s]"
      ],
      "application/vnd.jupyter.widget-view+json": {
       "version_major": 2,
       "version_minor": 0,
       "model_id": "8a481c589e7549b6bf1f8e47fc6f54f2"
      }
     },
     "metadata": {},
     "output_type": "display_data"
    },
    {
     "data": {
      "text/plain": [
       "  0%|          | 0/2000 [00:00<?, ?it/s]"
      ],
      "application/vnd.jupyter.widget-view+json": {
       "version_major": 2,
       "version_minor": 0,
       "model_id": "bbb1e1626a1046209c1be29956c04ac5"
      }
     },
     "metadata": {},
     "output_type": "display_data"
    },
    {
     "data": {
      "text/plain": [
       "  0%|          | 0/2000 [00:00<?, ?it/s]"
      ],
      "application/vnd.jupyter.widget-view+json": {
       "version_major": 2,
       "version_minor": 0,
       "model_id": "06bd808e90bb4f1fb906a31fac1f25ec"
      }
     },
     "metadata": {},
     "output_type": "display_data"
    },
    {
     "name": "stderr",
     "output_type": "stream",
     "text": [
      "INFO:root:Fitting VARX model (split 5/12)\n"
     ]
    },
    {
     "data": {
      "text/plain": [
       "  0%|          | 0/2000 [00:00<?, ?it/s]"
      ],
      "application/vnd.jupyter.widget-view+json": {
       "version_major": 2,
       "version_minor": 0,
       "model_id": "93a237ddc677423fbfbffeabf09cd874"
      }
     },
     "metadata": {},
     "output_type": "display_data"
    },
    {
     "data": {
      "text/plain": [
       "  0%|          | 0/2000 [00:00<?, ?it/s]"
      ],
      "application/vnd.jupyter.widget-view+json": {
       "version_major": 2,
       "version_minor": 0,
       "model_id": "7731a8fb8a2c434b86d1e92c7b95c80d"
      }
     },
     "metadata": {},
     "output_type": "display_data"
    },
    {
     "data": {
      "text/plain": [
       "  0%|          | 0/2000 [00:00<?, ?it/s]"
      ],
      "application/vnd.jupyter.widget-view+json": {
       "version_major": 2,
       "version_minor": 0,
       "model_id": "63d3a0a362f445d2b1fa858eaf2e62e8"
      }
     },
     "metadata": {},
     "output_type": "display_data"
    },
    {
     "data": {
      "text/plain": [
       "  0%|          | 0/2000 [00:00<?, ?it/s]"
      ],
      "application/vnd.jupyter.widget-view+json": {
       "version_major": 2,
       "version_minor": 0,
       "model_id": "4d2c368098384730b781915f306c44b5"
      }
     },
     "metadata": {},
     "output_type": "display_data"
    },
    {
     "name": "stderr",
     "output_type": "stream",
     "text": [
      "INFO:root:Fitting VARX model (split 6/12)\n"
     ]
    },
    {
     "data": {
      "text/plain": [
       "  0%|          | 0/2000 [00:00<?, ?it/s]"
      ],
      "application/vnd.jupyter.widget-view+json": {
       "version_major": 2,
       "version_minor": 0,
       "model_id": "2bd7aa09d182465b961a2a2c28584b59"
      }
     },
     "metadata": {},
     "output_type": "display_data"
    },
    {
     "data": {
      "text/plain": [
       "  0%|          | 0/2000 [00:00<?, ?it/s]"
      ],
      "application/vnd.jupyter.widget-view+json": {
       "version_major": 2,
       "version_minor": 0,
       "model_id": "fe5e2d82949747ad9afbbbacffc1134a"
      }
     },
     "metadata": {},
     "output_type": "display_data"
    },
    {
     "data": {
      "text/plain": [
       "  0%|          | 0/2000 [00:00<?, ?it/s]"
      ],
      "application/vnd.jupyter.widget-view+json": {
       "version_major": 2,
       "version_minor": 0,
       "model_id": "8b8c54e4036948a8ba51225ae4756af0"
      }
     },
     "metadata": {},
     "output_type": "display_data"
    },
    {
     "data": {
      "text/plain": [
       "  0%|          | 0/2000 [00:00<?, ?it/s]"
      ],
      "application/vnd.jupyter.widget-view+json": {
       "version_major": 2,
       "version_minor": 0,
       "model_id": "a334abb913f44f6c831d353c60e2f17e"
      }
     },
     "metadata": {},
     "output_type": "display_data"
    },
    {
     "name": "stderr",
     "output_type": "stream",
     "text": [
      "INFO:root:Fitting VARX model (split 7/12)\n"
     ]
    },
    {
     "data": {
      "text/plain": [
       "  0%|          | 0/2000 [00:00<?, ?it/s]"
      ],
      "application/vnd.jupyter.widget-view+json": {
       "version_major": 2,
       "version_minor": 0,
       "model_id": "c96b94fc1a474d66bb14f7680bc4adf3"
      }
     },
     "metadata": {},
     "output_type": "display_data"
    },
    {
     "data": {
      "text/plain": [
       "  0%|          | 0/2000 [00:00<?, ?it/s]"
      ],
      "application/vnd.jupyter.widget-view+json": {
       "version_major": 2,
       "version_minor": 0,
       "model_id": "c7b1d206ab00439083fd6644f8954f02"
      }
     },
     "metadata": {},
     "output_type": "display_data"
    },
    {
     "data": {
      "text/plain": [
       "  0%|          | 0/2000 [00:00<?, ?it/s]"
      ],
      "application/vnd.jupyter.widget-view+json": {
       "version_major": 2,
       "version_minor": 0,
       "model_id": "4338acefcc5f43cd82054c6d5f7c3bd4"
      }
     },
     "metadata": {},
     "output_type": "display_data"
    },
    {
     "data": {
      "text/plain": [
       "  0%|          | 0/2000 [00:00<?, ?it/s]"
      ],
      "application/vnd.jupyter.widget-view+json": {
       "version_major": 2,
       "version_minor": 0,
       "model_id": "f40fbb645fce40f981e6b316ade7a6c1"
      }
     },
     "metadata": {},
     "output_type": "display_data"
    },
    {
     "name": "stderr",
     "output_type": "stream",
     "text": [
      "INFO:root:Fitting VARX model (split 8/12)\n"
     ]
    },
    {
     "data": {
      "text/plain": [
       "  0%|          | 0/2000 [00:00<?, ?it/s]"
      ],
      "application/vnd.jupyter.widget-view+json": {
       "version_major": 2,
       "version_minor": 0,
       "model_id": "1c2c2fc62d0c44188997df91fdd72333"
      }
     },
     "metadata": {},
     "output_type": "display_data"
    },
    {
     "data": {
      "text/plain": [
       "  0%|          | 0/2000 [00:00<?, ?it/s]"
      ],
      "application/vnd.jupyter.widget-view+json": {
       "version_major": 2,
       "version_minor": 0,
       "model_id": "004e796251374969b0e28297d2c04661"
      }
     },
     "metadata": {},
     "output_type": "display_data"
    },
    {
     "data": {
      "text/plain": [
       "  0%|          | 0/2000 [00:00<?, ?it/s]"
      ],
      "application/vnd.jupyter.widget-view+json": {
       "version_major": 2,
       "version_minor": 0,
       "model_id": "d74b3a2221af4b88af3101f88945383e"
      }
     },
     "metadata": {},
     "output_type": "display_data"
    },
    {
     "data": {
      "text/plain": [
       "  0%|          | 0/2000 [00:00<?, ?it/s]"
      ],
      "application/vnd.jupyter.widget-view+json": {
       "version_major": 2,
       "version_minor": 0,
       "model_id": "147e827c38f94e849c7a6db7fe4c14a7"
      }
     },
     "metadata": {},
     "output_type": "display_data"
    },
    {
     "name": "stderr",
     "output_type": "stream",
     "text": [
      "INFO:root:Fitting VARX model (split 9/12)\n"
     ]
    },
    {
     "data": {
      "text/plain": [
       "  0%|          | 0/2000 [00:00<?, ?it/s]"
      ],
      "application/vnd.jupyter.widget-view+json": {
       "version_major": 2,
       "version_minor": 0,
       "model_id": "0fb1fc4cdbb84d759cd5eac8bf7ee59a"
      }
     },
     "metadata": {},
     "output_type": "display_data"
    },
    {
     "data": {
      "text/plain": [
       "  0%|          | 0/2000 [00:00<?, ?it/s]"
      ],
      "application/vnd.jupyter.widget-view+json": {
       "version_major": 2,
       "version_minor": 0,
       "model_id": "73e27b5fbb3d43e29f59a99ea1e1635c"
      }
     },
     "metadata": {},
     "output_type": "display_data"
    },
    {
     "data": {
      "text/plain": [
       "  0%|          | 0/2000 [00:00<?, ?it/s]"
      ],
      "application/vnd.jupyter.widget-view+json": {
       "version_major": 2,
       "version_minor": 0,
       "model_id": "123fc292e6474ad6bb18a0ad79299e67"
      }
     },
     "metadata": {},
     "output_type": "display_data"
    },
    {
     "data": {
      "text/plain": [
       "  0%|          | 0/2000 [00:00<?, ?it/s]"
      ],
      "application/vnd.jupyter.widget-view+json": {
       "version_major": 2,
       "version_minor": 0,
       "model_id": "ec22e80650834136a53e3fc57f9d8cea"
      }
     },
     "metadata": {},
     "output_type": "display_data"
    },
    {
     "name": "stderr",
     "output_type": "stream",
     "text": [
      "INFO:root:Fitting VARX model (split 10/12)\n"
     ]
    },
    {
     "data": {
      "text/plain": [
       "  0%|          | 0/2000 [00:00<?, ?it/s]"
      ],
      "application/vnd.jupyter.widget-view+json": {
       "version_major": 2,
       "version_minor": 0,
       "model_id": "452bc204cab0479e8151e252ff1d5b4a"
      }
     },
     "metadata": {},
     "output_type": "display_data"
    },
    {
     "data": {
      "text/plain": [
       "  0%|          | 0/2000 [00:00<?, ?it/s]"
      ],
      "application/vnd.jupyter.widget-view+json": {
       "version_major": 2,
       "version_minor": 0,
       "model_id": "200dec3315bb4acca7d971add328cc79"
      }
     },
     "metadata": {},
     "output_type": "display_data"
    },
    {
     "data": {
      "text/plain": [
       "  0%|          | 0/2000 [00:00<?, ?it/s]"
      ],
      "application/vnd.jupyter.widget-view+json": {
       "version_major": 2,
       "version_minor": 0,
       "model_id": "30907ef48eb54197b1989dc0b27b7cfe"
      }
     },
     "metadata": {},
     "output_type": "display_data"
    },
    {
     "data": {
      "text/plain": [
       "  0%|          | 0/2000 [00:00<?, ?it/s]"
      ],
      "application/vnd.jupyter.widget-view+json": {
       "version_major": 2,
       "version_minor": 0,
       "model_id": "94a4d63da6274cc1a5cc3825790d0541"
      }
     },
     "metadata": {},
     "output_type": "display_data"
    },
    {
     "name": "stderr",
     "output_type": "stream",
     "text": [
      "INFO:root:Fitting VARX model (split 11/12)\n"
     ]
    },
    {
     "data": {
      "text/plain": [
       "  0%|          | 0/2000 [00:00<?, ?it/s]"
      ],
      "application/vnd.jupyter.widget-view+json": {
       "version_major": 2,
       "version_minor": 0,
       "model_id": "63f5aae21ed54261869af6c584269853"
      }
     },
     "metadata": {},
     "output_type": "display_data"
    },
    {
     "data": {
      "text/plain": [
       "  0%|          | 0/2000 [00:00<?, ?it/s]"
      ],
      "application/vnd.jupyter.widget-view+json": {
       "version_major": 2,
       "version_minor": 0,
       "model_id": "bb099d9abe804b99870cbea68fb1edb5"
      }
     },
     "metadata": {},
     "output_type": "display_data"
    },
    {
     "data": {
      "text/plain": [
       "  0%|          | 0/2000 [00:00<?, ?it/s]"
      ],
      "application/vnd.jupyter.widget-view+json": {
       "version_major": 2,
       "version_minor": 0,
       "model_id": "df7b3b47f5ac418c97d2d2655d1e6848"
      }
     },
     "metadata": {},
     "output_type": "display_data"
    },
    {
     "data": {
      "text/plain": [
       "  0%|          | 0/2000 [00:00<?, ?it/s]"
      ],
      "application/vnd.jupyter.widget-view+json": {
       "version_major": 2,
       "version_minor": 0,
       "model_id": "1ce99a80ad934a2399297916007320a5"
      }
     },
     "metadata": {},
     "output_type": "display_data"
    },
    {
     "name": "stderr",
     "output_type": "stream",
     "text": [
      "INFO:root:Fitting VARX model (split 12/12)\n"
     ]
    },
    {
     "data": {
      "text/plain": [
       "  0%|          | 0/2000 [00:00<?, ?it/s]"
      ],
      "application/vnd.jupyter.widget-view+json": {
       "version_major": 2,
       "version_minor": 0,
       "model_id": "e99c8b592e84427c9404ac62e2c96553"
      }
     },
     "metadata": {},
     "output_type": "display_data"
    },
    {
     "data": {
      "text/plain": [
       "  0%|          | 0/2000 [00:00<?, ?it/s]"
      ],
      "application/vnd.jupyter.widget-view+json": {
       "version_major": 2,
       "version_minor": 0,
       "model_id": "75a0061f796a4114acfe740b3a17a56c"
      }
     },
     "metadata": {},
     "output_type": "display_data"
    },
    {
     "data": {
      "text/plain": [
       "  0%|          | 0/2000 [00:00<?, ?it/s]"
      ],
      "application/vnd.jupyter.widget-view+json": {
       "version_major": 2,
       "version_minor": 0,
       "model_id": "7a96ff8f782342a78c6c24cf93c21f69"
      }
     },
     "metadata": {},
     "output_type": "display_data"
    },
    {
     "data": {
      "text/plain": [
       "  0%|          | 0/2000 [00:00<?, ?it/s]"
      ],
      "application/vnd.jupyter.widget-view+json": {
       "version_major": 2,
       "version_minor": 0,
       "model_id": "410e8246a7234af38437c36352d3390f"
      }
     },
     "metadata": {},
     "output_type": "display_data"
    },
    {
     "name": "stderr",
     "output_type": "stream",
     "text": [
      "INFO:root:Fitting NARX model...\n",
      "INFO:root:Fitting NARX model (split 1/12)\n"
     ]
    },
    {
     "data": {
      "text/plain": [
       "  0%|          | 0/4000 [00:00<?, ?it/s]"
      ],
      "application/vnd.jupyter.widget-view+json": {
       "version_major": 2,
       "version_minor": 0,
       "model_id": "3ee1521b8b7f451d8b87242f860a6fe2"
      }
     },
     "metadata": {},
     "output_type": "display_data"
    },
    {
     "data": {
      "text/plain": [
       "  0%|          | 0/4000 [00:00<?, ?it/s]"
      ],
      "application/vnd.jupyter.widget-view+json": {
       "version_major": 2,
       "version_minor": 0,
       "model_id": "f83d2c416da64d1abbe32896d745e81a"
      }
     },
     "metadata": {},
     "output_type": "display_data"
    },
    {
     "data": {
      "text/plain": [
       "  0%|          | 0/4000 [00:00<?, ?it/s]"
      ],
      "application/vnd.jupyter.widget-view+json": {
       "version_major": 2,
       "version_minor": 0,
       "model_id": "e9f8f6550c8448b0984761deec7cf366"
      }
     },
     "metadata": {},
     "output_type": "display_data"
    },
    {
     "data": {
      "text/plain": [
       "  0%|          | 0/4000 [00:00<?, ?it/s]"
      ],
      "application/vnd.jupyter.widget-view+json": {
       "version_major": 2,
       "version_minor": 0,
       "model_id": "d0a067b8f1894c598436bf0c9a32f156"
      }
     },
     "metadata": {},
     "output_type": "display_data"
    },
    {
     "name": "stderr",
     "output_type": "stream",
     "text": [
      "INFO:root:Fitting NARX model (split 2/12)\n"
     ]
    },
    {
     "data": {
      "text/plain": [
       "  0%|          | 0/4000 [00:00<?, ?it/s]"
      ],
      "application/vnd.jupyter.widget-view+json": {
       "version_major": 2,
       "version_minor": 0,
       "model_id": "ae887681bdb84163a9ca5c3590c0b731"
      }
     },
     "metadata": {},
     "output_type": "display_data"
    },
    {
     "data": {
      "text/plain": [
       "  0%|          | 0/4000 [00:00<?, ?it/s]"
      ],
      "application/vnd.jupyter.widget-view+json": {
       "version_major": 2,
       "version_minor": 0,
       "model_id": "98e4e77ba15b4dba92c3c50ca9eadd46"
      }
     },
     "metadata": {},
     "output_type": "display_data"
    },
    {
     "data": {
      "text/plain": [
       "  0%|          | 0/4000 [00:00<?, ?it/s]"
      ],
      "application/vnd.jupyter.widget-view+json": {
       "version_major": 2,
       "version_minor": 0,
       "model_id": "cf9fd018950147ca8f29563736d294b1"
      }
     },
     "metadata": {},
     "output_type": "display_data"
    },
    {
     "data": {
      "text/plain": [
       "  0%|          | 0/4000 [00:00<?, ?it/s]"
      ],
      "application/vnd.jupyter.widget-view+json": {
       "version_major": 2,
       "version_minor": 0,
       "model_id": "86bd67db6edd4d44aa5443ddece762bd"
      }
     },
     "metadata": {},
     "output_type": "display_data"
    },
    {
     "name": "stderr",
     "output_type": "stream",
     "text": [
      "INFO:root:Fitting NARX model (split 3/12)\n"
     ]
    },
    {
     "data": {
      "text/plain": [
       "  0%|          | 0/4000 [00:00<?, ?it/s]"
      ],
      "application/vnd.jupyter.widget-view+json": {
       "version_major": 2,
       "version_minor": 0,
       "model_id": "345a221ab1c2489f8efa582767e026d2"
      }
     },
     "metadata": {},
     "output_type": "display_data"
    },
    {
     "data": {
      "text/plain": [
       "  0%|          | 0/4000 [00:00<?, ?it/s]"
      ],
      "application/vnd.jupyter.widget-view+json": {
       "version_major": 2,
       "version_minor": 0,
       "model_id": "99d4dca74a5048ef895d860ca80c1920"
      }
     },
     "metadata": {},
     "output_type": "display_data"
    },
    {
     "data": {
      "text/plain": [
       "  0%|          | 0/4000 [00:00<?, ?it/s]"
      ],
      "application/vnd.jupyter.widget-view+json": {
       "version_major": 2,
       "version_minor": 0,
       "model_id": "5f47448a5bd04795865a9bc25136a08d"
      }
     },
     "metadata": {},
     "output_type": "display_data"
    },
    {
     "data": {
      "text/plain": [
       "  0%|          | 0/4000 [00:00<?, ?it/s]"
      ],
      "application/vnd.jupyter.widget-view+json": {
       "version_major": 2,
       "version_minor": 0,
       "model_id": "a4bf6ed462cf40369c83eb0638592294"
      }
     },
     "metadata": {},
     "output_type": "display_data"
    },
    {
     "name": "stderr",
     "output_type": "stream",
     "text": [
      "INFO:root:Fitting NARX model (split 4/12)\n"
     ]
    },
    {
     "data": {
      "text/plain": [
       "  0%|          | 0/4000 [00:00<?, ?it/s]"
      ],
      "application/vnd.jupyter.widget-view+json": {
       "version_major": 2,
       "version_minor": 0,
       "model_id": "ac3d438f942642aeb538d2f5a8266253"
      }
     },
     "metadata": {},
     "output_type": "display_data"
    },
    {
     "data": {
      "text/plain": [
       "  0%|          | 0/4000 [00:00<?, ?it/s]"
      ],
      "application/vnd.jupyter.widget-view+json": {
       "version_major": 2,
       "version_minor": 0,
       "model_id": "39fcb144605547258d0f303635b057fe"
      }
     },
     "metadata": {},
     "output_type": "display_data"
    },
    {
     "data": {
      "text/plain": [
       "  0%|          | 0/4000 [00:00<?, ?it/s]"
      ],
      "application/vnd.jupyter.widget-view+json": {
       "version_major": 2,
       "version_minor": 0,
       "model_id": "2844f11017e642aebed53e6f9deb9bae"
      }
     },
     "metadata": {},
     "output_type": "display_data"
    },
    {
     "data": {
      "text/plain": [
       "  0%|          | 0/4000 [00:00<?, ?it/s]"
      ],
      "application/vnd.jupyter.widget-view+json": {
       "version_major": 2,
       "version_minor": 0,
       "model_id": "c442ad377f894b05aad5accd65650610"
      }
     },
     "metadata": {},
     "output_type": "display_data"
    },
    {
     "name": "stderr",
     "output_type": "stream",
     "text": [
      "INFO:root:Fitting NARX model (split 5/12)\n"
     ]
    },
    {
     "data": {
      "text/plain": [
       "  0%|          | 0/4000 [00:00<?, ?it/s]"
      ],
      "application/vnd.jupyter.widget-view+json": {
       "version_major": 2,
       "version_minor": 0,
       "model_id": "cc550d3bf3634de9a68a41b3accf6429"
      }
     },
     "metadata": {},
     "output_type": "display_data"
    },
    {
     "data": {
      "text/plain": [
       "  0%|          | 0/4000 [00:00<?, ?it/s]"
      ],
      "application/vnd.jupyter.widget-view+json": {
       "version_major": 2,
       "version_minor": 0,
       "model_id": "2d02a64342014070b6403b394c478743"
      }
     },
     "metadata": {},
     "output_type": "display_data"
    },
    {
     "data": {
      "text/plain": [
       "  0%|          | 0/4000 [00:00<?, ?it/s]"
      ],
      "application/vnd.jupyter.widget-view+json": {
       "version_major": 2,
       "version_minor": 0,
       "model_id": "7cdcb1af8aa748f59822baed3a1f87c9"
      }
     },
     "metadata": {},
     "output_type": "display_data"
    },
    {
     "data": {
      "text/plain": [
       "  0%|          | 0/4000 [00:00<?, ?it/s]"
      ],
      "application/vnd.jupyter.widget-view+json": {
       "version_major": 2,
       "version_minor": 0,
       "model_id": "c0fe37c43e4e41d8ba49755744bdfcd0"
      }
     },
     "metadata": {},
     "output_type": "display_data"
    },
    {
     "name": "stderr",
     "output_type": "stream",
     "text": [
      "INFO:root:Fitting NARX model (split 6/12)\n"
     ]
    },
    {
     "data": {
      "text/plain": [
       "  0%|          | 0/4000 [00:00<?, ?it/s]"
      ],
      "application/vnd.jupyter.widget-view+json": {
       "version_major": 2,
       "version_minor": 0,
       "model_id": "3e012894050c4a368c6b50dd5227a435"
      }
     },
     "metadata": {},
     "output_type": "display_data"
    },
    {
     "data": {
      "text/plain": [
       "  0%|          | 0/4000 [00:00<?, ?it/s]"
      ],
      "application/vnd.jupyter.widget-view+json": {
       "version_major": 2,
       "version_minor": 0,
       "model_id": "d22383cbd1bf40c388d196f0aa00f966"
      }
     },
     "metadata": {},
     "output_type": "display_data"
    },
    {
     "data": {
      "text/plain": [
       "  0%|          | 0/4000 [00:00<?, ?it/s]"
      ],
      "application/vnd.jupyter.widget-view+json": {
       "version_major": 2,
       "version_minor": 0,
       "model_id": "d39016e820d94657bb3e5a8ccdbd76d1"
      }
     },
     "metadata": {},
     "output_type": "display_data"
    },
    {
     "data": {
      "text/plain": [
       "  0%|          | 0/4000 [00:00<?, ?it/s]"
      ],
      "application/vnd.jupyter.widget-view+json": {
       "version_major": 2,
       "version_minor": 0,
       "model_id": "8e2e79cd306d4a4184927cddbb646907"
      }
     },
     "metadata": {},
     "output_type": "display_data"
    },
    {
     "name": "stderr",
     "output_type": "stream",
     "text": [
      "INFO:root:Fitting NARX model (split 7/12)\n"
     ]
    },
    {
     "data": {
      "text/plain": [
       "  0%|          | 0/4000 [00:00<?, ?it/s]"
      ],
      "application/vnd.jupyter.widget-view+json": {
       "version_major": 2,
       "version_minor": 0,
       "model_id": "392b66c93f5245389be079879bc2d3c6"
      }
     },
     "metadata": {},
     "output_type": "display_data"
    },
    {
     "data": {
      "text/plain": [
       "  0%|          | 0/4000 [00:00<?, ?it/s]"
      ],
      "application/vnd.jupyter.widget-view+json": {
       "version_major": 2,
       "version_minor": 0,
       "model_id": "0b98f3404c674cbd839ef3f681a17c44"
      }
     },
     "metadata": {},
     "output_type": "display_data"
    },
    {
     "data": {
      "text/plain": [
       "  0%|          | 0/4000 [00:00<?, ?it/s]"
      ],
      "application/vnd.jupyter.widget-view+json": {
       "version_major": 2,
       "version_minor": 0,
       "model_id": "de9793fc4a4d4a789c00ebc9b31c0edc"
      }
     },
     "metadata": {},
     "output_type": "display_data"
    },
    {
     "data": {
      "text/plain": [
       "  0%|          | 0/4000 [00:00<?, ?it/s]"
      ],
      "application/vnd.jupyter.widget-view+json": {
       "version_major": 2,
       "version_minor": 0,
       "model_id": "5edc59c7334c489793b9a013f8a25bf7"
      }
     },
     "metadata": {},
     "output_type": "display_data"
    },
    {
     "name": "stderr",
     "output_type": "stream",
     "text": [
      "INFO:root:Fitting NARX model (split 8/12)\n"
     ]
    },
    {
     "data": {
      "text/plain": [
       "  0%|          | 0/4000 [00:00<?, ?it/s]"
      ],
      "application/vnd.jupyter.widget-view+json": {
       "version_major": 2,
       "version_minor": 0,
       "model_id": "a13a9dced6a54bfd8a9fafdbb234ed4b"
      }
     },
     "metadata": {},
     "output_type": "display_data"
    },
    {
     "data": {
      "text/plain": [
       "  0%|          | 0/4000 [00:00<?, ?it/s]"
      ],
      "application/vnd.jupyter.widget-view+json": {
       "version_major": 2,
       "version_minor": 0,
       "model_id": "48136f1c83c94f6394e7f0d3c49cd74e"
      }
     },
     "metadata": {},
     "output_type": "display_data"
    },
    {
     "data": {
      "text/plain": [
       "  0%|          | 0/4000 [00:00<?, ?it/s]"
      ],
      "application/vnd.jupyter.widget-view+json": {
       "version_major": 2,
       "version_minor": 0,
       "model_id": "3bb8c63e6e3548ff81694863d5e2dd63"
      }
     },
     "metadata": {},
     "output_type": "display_data"
    },
    {
     "data": {
      "text/plain": [
       "  0%|          | 0/4000 [00:00<?, ?it/s]"
      ],
      "application/vnd.jupyter.widget-view+json": {
       "version_major": 2,
       "version_minor": 0,
       "model_id": "81a05880e8ec4d16afbe7958e30c857b"
      }
     },
     "metadata": {},
     "output_type": "display_data"
    },
    {
     "name": "stderr",
     "output_type": "stream",
     "text": [
      "INFO:root:Fitting NARX model (split 9/12)\n"
     ]
    },
    {
     "data": {
      "text/plain": [
       "  0%|          | 0/4000 [00:00<?, ?it/s]"
      ],
      "application/vnd.jupyter.widget-view+json": {
       "version_major": 2,
       "version_minor": 0,
       "model_id": "ec38a3eaaf82468f92a65079ba70998c"
      }
     },
     "metadata": {},
     "output_type": "display_data"
    },
    {
     "data": {
      "text/plain": [
       "  0%|          | 0/4000 [00:00<?, ?it/s]"
      ],
      "application/vnd.jupyter.widget-view+json": {
       "version_major": 2,
       "version_minor": 0,
       "model_id": "43e1a57d04d94a048401e6b2f5531fcc"
      }
     },
     "metadata": {},
     "output_type": "display_data"
    },
    {
     "data": {
      "text/plain": [
       "  0%|          | 0/4000 [00:00<?, ?it/s]"
      ],
      "application/vnd.jupyter.widget-view+json": {
       "version_major": 2,
       "version_minor": 0,
       "model_id": "183b0d00e5634c8eb1f9962da361735e"
      }
     },
     "metadata": {},
     "output_type": "display_data"
    },
    {
     "data": {
      "text/plain": [
       "  0%|          | 0/4000 [00:00<?, ?it/s]"
      ],
      "application/vnd.jupyter.widget-view+json": {
       "version_major": 2,
       "version_minor": 0,
       "model_id": "2f5d95eb9f6e4f21b0c063a81cffdbb6"
      }
     },
     "metadata": {},
     "output_type": "display_data"
    },
    {
     "name": "stderr",
     "output_type": "stream",
     "text": [
      "INFO:root:Fitting NARX model (split 10/12)\n"
     ]
    },
    {
     "data": {
      "text/plain": [
       "  0%|          | 0/4000 [00:00<?, ?it/s]"
      ],
      "application/vnd.jupyter.widget-view+json": {
       "version_major": 2,
       "version_minor": 0,
       "model_id": "ead94d08e83b49ef88acab3817136eb1"
      }
     },
     "metadata": {},
     "output_type": "display_data"
    },
    {
     "data": {
      "text/plain": [
       "  0%|          | 0/4000 [00:00<?, ?it/s]"
      ],
      "application/vnd.jupyter.widget-view+json": {
       "version_major": 2,
       "version_minor": 0,
       "model_id": "9fa7a238c2074dfea9b078e80e40fe48"
      }
     },
     "metadata": {},
     "output_type": "display_data"
    },
    {
     "data": {
      "text/plain": [
       "  0%|          | 0/4000 [00:00<?, ?it/s]"
      ],
      "application/vnd.jupyter.widget-view+json": {
       "version_major": 2,
       "version_minor": 0,
       "model_id": "0ceaa2b24a0047c3bd40b9e3cc92a343"
      }
     },
     "metadata": {},
     "output_type": "display_data"
    },
    {
     "data": {
      "text/plain": [
       "  0%|          | 0/4000 [00:00<?, ?it/s]"
      ],
      "application/vnd.jupyter.widget-view+json": {
       "version_major": 2,
       "version_minor": 0,
       "model_id": "74a31a2aa79e41ebbb54ad83e1828305"
      }
     },
     "metadata": {},
     "output_type": "display_data"
    },
    {
     "name": "stderr",
     "output_type": "stream",
     "text": [
      "INFO:root:Fitting NARX model (split 11/12)\n"
     ]
    },
    {
     "data": {
      "text/plain": [
       "  0%|          | 0/4000 [00:00<?, ?it/s]"
      ],
      "application/vnd.jupyter.widget-view+json": {
       "version_major": 2,
       "version_minor": 0,
       "model_id": "7d7c6f0f3faf4a6ea7ac30122be0504a"
      }
     },
     "metadata": {},
     "output_type": "display_data"
    },
    {
     "data": {
      "text/plain": [
       "  0%|          | 0/4000 [00:00<?, ?it/s]"
      ],
      "application/vnd.jupyter.widget-view+json": {
       "version_major": 2,
       "version_minor": 0,
       "model_id": "85fff2b7846c4f2084cc8110dd58ce7c"
      }
     },
     "metadata": {},
     "output_type": "display_data"
    },
    {
     "data": {
      "text/plain": [
       "  0%|          | 0/4000 [00:00<?, ?it/s]"
      ],
      "application/vnd.jupyter.widget-view+json": {
       "version_major": 2,
       "version_minor": 0,
       "model_id": "a51aaaf2c23445928b9e7c2d8a872935"
      }
     },
     "metadata": {},
     "output_type": "display_data"
    },
    {
     "data": {
      "text/plain": [
       "  0%|          | 0/4000 [00:00<?, ?it/s]"
      ],
      "application/vnd.jupyter.widget-view+json": {
       "version_major": 2,
       "version_minor": 0,
       "model_id": "312192ec5c89409c84f74b9c6f37a554"
      }
     },
     "metadata": {},
     "output_type": "display_data"
    },
    {
     "name": "stderr",
     "output_type": "stream",
     "text": [
      "INFO:root:Fitting NARX model (split 12/12)\n"
     ]
    },
    {
     "data": {
      "text/plain": [
       "  0%|          | 0/4000 [00:00<?, ?it/s]"
      ],
      "application/vnd.jupyter.widget-view+json": {
       "version_major": 2,
       "version_minor": 0,
       "model_id": "3e38be5793f3484fb59d647fccc256f3"
      }
     },
     "metadata": {},
     "output_type": "display_data"
    },
    {
     "data": {
      "text/plain": [
       "  0%|          | 0/4000 [00:00<?, ?it/s]"
      ],
      "application/vnd.jupyter.widget-view+json": {
       "version_major": 2,
       "version_minor": 0,
       "model_id": "94af4ce6dfbb4b4995e219125a177213"
      }
     },
     "metadata": {},
     "output_type": "display_data"
    },
    {
     "data": {
      "text/plain": [
       "  0%|          | 0/4000 [00:00<?, ?it/s]"
      ],
      "application/vnd.jupyter.widget-view+json": {
       "version_major": 2,
       "version_minor": 0,
       "model_id": "07e0e47c5efe4089991ca9321c8ba6c6"
      }
     },
     "metadata": {},
     "output_type": "display_data"
    },
    {
     "data": {
      "text/plain": [
       "  0%|          | 0/4000 [00:00<?, ?it/s]"
      ],
      "application/vnd.jupyter.widget-view+json": {
       "version_major": 2,
       "version_minor": 0,
       "model_id": "c87b3591be9840d9a118d9326809b20c"
      }
     },
     "metadata": {},
     "output_type": "display_data"
    }
   ],
   "execution_count": 6
  },
  {
   "metadata": {
    "ExecuteTime": {
     "end_time": "2024-07-26T18:51:29.425236Z",
     "start_time": "2024-07-26T18:51:29.393239Z"
    }
   },
   "cell_type": "code",
   "source": "cv_results.groupby([\"lake\", \"model\"]).apply(summarize, include_groups=False)",
   "outputs": [
    {
     "data": {
      "text/plain": [
       "                          rmse  variance      bias  coverage  interval_len  \\\n",
       "lake    model                                                                \n",
       "eri     Default       0.727128  0.527995 -0.026825  0.875000      2.244687   \n",
       "        GP_Matern     0.420429  0.174586 -0.046636  0.930556      1.553434   \n",
       "        GP_MaternLag  0.465333  0.213958 -0.050755  0.902778      1.624338   \n",
       "        MultitaskGP   0.458651  0.207714 -0.051441  0.916667      1.677204   \n",
       "        NARX          0.464225  0.212280 -0.056788  0.958333      1.770839   \n",
       "        VARX          0.447427  0.196498 -0.060769  0.888889      1.550310   \n",
       "mic_hur Default       0.683238  0.457292  0.097579  0.888889      2.222746   \n",
       "        GP_Matern     0.382363  0.146202  0.000047  0.972222      1.553434   \n",
       "        GP_MaternLag  0.425676  0.180310  0.029819  0.972222      1.624338   \n",
       "        MultitaskGP   0.408185  0.166516 -0.009935  0.930556      1.443947   \n",
       "        NARX          0.405399  0.164302  0.006816  0.958333      1.553345   \n",
       "        VARX          0.355217  0.124824 -0.036812  0.902778      1.330321   \n",
       "ont     Default       0.641845  0.398415 -0.116404  0.930556      2.204409   \n",
       "        GP_Matern     0.433245  0.170544 -0.130987  0.944444      1.553434   \n",
       "        GP_MaternLag  0.421161  0.170230 -0.084537  0.944444      1.624338   \n",
       "        MultitaskGP   0.466200  0.195026 -0.149385  0.944444      1.687044   \n",
       "        NARX          0.429229  0.167986 -0.127483  0.930556      1.676806   \n",
       "        VARX          0.413989  0.164211 -0.084712  0.916667      1.513275   \n",
       "sup     Default       0.672807  0.411000  0.204132  0.833333      1.994818   \n",
       "        GP_Matern     0.439355  0.172416  0.143586  0.902778      1.553434   \n",
       "        GP_MaternLag  0.430039  0.174832  0.100507  0.902778      1.624338   \n",
       "        MultitaskGP   0.443553  0.179173  0.132539  0.916667      1.494771   \n",
       "        NARX          0.416657  0.148830  0.157396  0.916667      1.629831   \n",
       "        VARX          0.406676  0.156881  0.092217  0.888889      1.295479   \n",
       "\n",
       "                          crps     N  \n",
       "lake    model                         \n",
       "eri     Default       0.409042  72.0  \n",
       "        GP_Matern     0.237764  72.0  \n",
       "        GP_MaternLag  0.264131  72.0  \n",
       "        MultitaskGP   0.257924  72.0  \n",
       "        NARX          0.261481  72.0  \n",
       "        VARX          0.250740  72.0  \n",
       "mic_hur Default       0.399347  72.0  \n",
       "        GP_Matern     0.211383  72.0  \n",
       "        GP_MaternLag  0.240125  72.0  \n",
       "        MultitaskGP   0.224140  72.0  \n",
       "        NARX          0.226207  72.0  \n",
       "        VARX          0.205053  72.0  \n",
       "ont     Default       0.360449  72.0  \n",
       "        GP_Matern     0.229611  72.0  \n",
       "        GP_MaternLag  0.225976  72.0  \n",
       "        MultitaskGP   0.248734  72.0  \n",
       "        NARX          0.245136  72.0  \n",
       "        VARX          0.233095  72.0  \n",
       "sup     Default       0.365079  72.0  \n",
       "        GP_Matern     0.242923  72.0  \n",
       "        GP_MaternLag  0.237916  72.0  \n",
       "        MultitaskGP   0.244905  72.0  \n",
       "        NARX          0.236253  72.0  \n",
       "        VARX          0.221956  72.0  "
      ],
      "text/html": [
       "<div>\n",
       "<style scoped>\n",
       "    .dataframe tbody tr th:only-of-type {\n",
       "        vertical-align: middle;\n",
       "    }\n",
       "\n",
       "    .dataframe tbody tr th {\n",
       "        vertical-align: top;\n",
       "    }\n",
       "\n",
       "    .dataframe thead th {\n",
       "        text-align: right;\n",
       "    }\n",
       "</style>\n",
       "<table border=\"1\" class=\"dataframe\">\n",
       "  <thead>\n",
       "    <tr style=\"text-align: right;\">\n",
       "      <th></th>\n",
       "      <th></th>\n",
       "      <th>rmse</th>\n",
       "      <th>variance</th>\n",
       "      <th>bias</th>\n",
       "      <th>coverage</th>\n",
       "      <th>interval_len</th>\n",
       "      <th>crps</th>\n",
       "      <th>N</th>\n",
       "    </tr>\n",
       "    <tr>\n",
       "      <th>lake</th>\n",
       "      <th>model</th>\n",
       "      <th></th>\n",
       "      <th></th>\n",
       "      <th></th>\n",
       "      <th></th>\n",
       "      <th></th>\n",
       "      <th></th>\n",
       "      <th></th>\n",
       "    </tr>\n",
       "  </thead>\n",
       "  <tbody>\n",
       "    <tr>\n",
       "      <th rowspan=\"6\" valign=\"top\">eri</th>\n",
       "      <th>Default</th>\n",
       "      <td>0.727128</td>\n",
       "      <td>0.527995</td>\n",
       "      <td>-0.026825</td>\n",
       "      <td>0.875000</td>\n",
       "      <td>2.244687</td>\n",
       "      <td>0.409042</td>\n",
       "      <td>72.0</td>\n",
       "    </tr>\n",
       "    <tr>\n",
       "      <th>GP_Matern</th>\n",
       "      <td>0.420429</td>\n",
       "      <td>0.174586</td>\n",
       "      <td>-0.046636</td>\n",
       "      <td>0.930556</td>\n",
       "      <td>1.553434</td>\n",
       "      <td>0.237764</td>\n",
       "      <td>72.0</td>\n",
       "    </tr>\n",
       "    <tr>\n",
       "      <th>GP_MaternLag</th>\n",
       "      <td>0.465333</td>\n",
       "      <td>0.213958</td>\n",
       "      <td>-0.050755</td>\n",
       "      <td>0.902778</td>\n",
       "      <td>1.624338</td>\n",
       "      <td>0.264131</td>\n",
       "      <td>72.0</td>\n",
       "    </tr>\n",
       "    <tr>\n",
       "      <th>MultitaskGP</th>\n",
       "      <td>0.458651</td>\n",
       "      <td>0.207714</td>\n",
       "      <td>-0.051441</td>\n",
       "      <td>0.916667</td>\n",
       "      <td>1.677204</td>\n",
       "      <td>0.257924</td>\n",
       "      <td>72.0</td>\n",
       "    </tr>\n",
       "    <tr>\n",
       "      <th>NARX</th>\n",
       "      <td>0.464225</td>\n",
       "      <td>0.212280</td>\n",
       "      <td>-0.056788</td>\n",
       "      <td>0.958333</td>\n",
       "      <td>1.770839</td>\n",
       "      <td>0.261481</td>\n",
       "      <td>72.0</td>\n",
       "    </tr>\n",
       "    <tr>\n",
       "      <th>VARX</th>\n",
       "      <td>0.447427</td>\n",
       "      <td>0.196498</td>\n",
       "      <td>-0.060769</td>\n",
       "      <td>0.888889</td>\n",
       "      <td>1.550310</td>\n",
       "      <td>0.250740</td>\n",
       "      <td>72.0</td>\n",
       "    </tr>\n",
       "    <tr>\n",
       "      <th rowspan=\"6\" valign=\"top\">mic_hur</th>\n",
       "      <th>Default</th>\n",
       "      <td>0.683238</td>\n",
       "      <td>0.457292</td>\n",
       "      <td>0.097579</td>\n",
       "      <td>0.888889</td>\n",
       "      <td>2.222746</td>\n",
       "      <td>0.399347</td>\n",
       "      <td>72.0</td>\n",
       "    </tr>\n",
       "    <tr>\n",
       "      <th>GP_Matern</th>\n",
       "      <td>0.382363</td>\n",
       "      <td>0.146202</td>\n",
       "      <td>0.000047</td>\n",
       "      <td>0.972222</td>\n",
       "      <td>1.553434</td>\n",
       "      <td>0.211383</td>\n",
       "      <td>72.0</td>\n",
       "    </tr>\n",
       "    <tr>\n",
       "      <th>GP_MaternLag</th>\n",
       "      <td>0.425676</td>\n",
       "      <td>0.180310</td>\n",
       "      <td>0.029819</td>\n",
       "      <td>0.972222</td>\n",
       "      <td>1.624338</td>\n",
       "      <td>0.240125</td>\n",
       "      <td>72.0</td>\n",
       "    </tr>\n",
       "    <tr>\n",
       "      <th>MultitaskGP</th>\n",
       "      <td>0.408185</td>\n",
       "      <td>0.166516</td>\n",
       "      <td>-0.009935</td>\n",
       "      <td>0.930556</td>\n",
       "      <td>1.443947</td>\n",
       "      <td>0.224140</td>\n",
       "      <td>72.0</td>\n",
       "    </tr>\n",
       "    <tr>\n",
       "      <th>NARX</th>\n",
       "      <td>0.405399</td>\n",
       "      <td>0.164302</td>\n",
       "      <td>0.006816</td>\n",
       "      <td>0.958333</td>\n",
       "      <td>1.553345</td>\n",
       "      <td>0.226207</td>\n",
       "      <td>72.0</td>\n",
       "    </tr>\n",
       "    <tr>\n",
       "      <th>VARX</th>\n",
       "      <td>0.355217</td>\n",
       "      <td>0.124824</td>\n",
       "      <td>-0.036812</td>\n",
       "      <td>0.902778</td>\n",
       "      <td>1.330321</td>\n",
       "      <td>0.205053</td>\n",
       "      <td>72.0</td>\n",
       "    </tr>\n",
       "    <tr>\n",
       "      <th rowspan=\"6\" valign=\"top\">ont</th>\n",
       "      <th>Default</th>\n",
       "      <td>0.641845</td>\n",
       "      <td>0.398415</td>\n",
       "      <td>-0.116404</td>\n",
       "      <td>0.930556</td>\n",
       "      <td>2.204409</td>\n",
       "      <td>0.360449</td>\n",
       "      <td>72.0</td>\n",
       "    </tr>\n",
       "    <tr>\n",
       "      <th>GP_Matern</th>\n",
       "      <td>0.433245</td>\n",
       "      <td>0.170544</td>\n",
       "      <td>-0.130987</td>\n",
       "      <td>0.944444</td>\n",
       "      <td>1.553434</td>\n",
       "      <td>0.229611</td>\n",
       "      <td>72.0</td>\n",
       "    </tr>\n",
       "    <tr>\n",
       "      <th>GP_MaternLag</th>\n",
       "      <td>0.421161</td>\n",
       "      <td>0.170230</td>\n",
       "      <td>-0.084537</td>\n",
       "      <td>0.944444</td>\n",
       "      <td>1.624338</td>\n",
       "      <td>0.225976</td>\n",
       "      <td>72.0</td>\n",
       "    </tr>\n",
       "    <tr>\n",
       "      <th>MultitaskGP</th>\n",
       "      <td>0.466200</td>\n",
       "      <td>0.195026</td>\n",
       "      <td>-0.149385</td>\n",
       "      <td>0.944444</td>\n",
       "      <td>1.687044</td>\n",
       "      <td>0.248734</td>\n",
       "      <td>72.0</td>\n",
       "    </tr>\n",
       "    <tr>\n",
       "      <th>NARX</th>\n",
       "      <td>0.429229</td>\n",
       "      <td>0.167986</td>\n",
       "      <td>-0.127483</td>\n",
       "      <td>0.930556</td>\n",
       "      <td>1.676806</td>\n",
       "      <td>0.245136</td>\n",
       "      <td>72.0</td>\n",
       "    </tr>\n",
       "    <tr>\n",
       "      <th>VARX</th>\n",
       "      <td>0.413989</td>\n",
       "      <td>0.164211</td>\n",
       "      <td>-0.084712</td>\n",
       "      <td>0.916667</td>\n",
       "      <td>1.513275</td>\n",
       "      <td>0.233095</td>\n",
       "      <td>72.0</td>\n",
       "    </tr>\n",
       "    <tr>\n",
       "      <th rowspan=\"6\" valign=\"top\">sup</th>\n",
       "      <th>Default</th>\n",
       "      <td>0.672807</td>\n",
       "      <td>0.411000</td>\n",
       "      <td>0.204132</td>\n",
       "      <td>0.833333</td>\n",
       "      <td>1.994818</td>\n",
       "      <td>0.365079</td>\n",
       "      <td>72.0</td>\n",
       "    </tr>\n",
       "    <tr>\n",
       "      <th>GP_Matern</th>\n",
       "      <td>0.439355</td>\n",
       "      <td>0.172416</td>\n",
       "      <td>0.143586</td>\n",
       "      <td>0.902778</td>\n",
       "      <td>1.553434</td>\n",
       "      <td>0.242923</td>\n",
       "      <td>72.0</td>\n",
       "    </tr>\n",
       "    <tr>\n",
       "      <th>GP_MaternLag</th>\n",
       "      <td>0.430039</td>\n",
       "      <td>0.174832</td>\n",
       "      <td>0.100507</td>\n",
       "      <td>0.902778</td>\n",
       "      <td>1.624338</td>\n",
       "      <td>0.237916</td>\n",
       "      <td>72.0</td>\n",
       "    </tr>\n",
       "    <tr>\n",
       "      <th>MultitaskGP</th>\n",
       "      <td>0.443553</td>\n",
       "      <td>0.179173</td>\n",
       "      <td>0.132539</td>\n",
       "      <td>0.916667</td>\n",
       "      <td>1.494771</td>\n",
       "      <td>0.244905</td>\n",
       "      <td>72.0</td>\n",
       "    </tr>\n",
       "    <tr>\n",
       "      <th>NARX</th>\n",
       "      <td>0.416657</td>\n",
       "      <td>0.148830</td>\n",
       "      <td>0.157396</td>\n",
       "      <td>0.916667</td>\n",
       "      <td>1.629831</td>\n",
       "      <td>0.236253</td>\n",
       "      <td>72.0</td>\n",
       "    </tr>\n",
       "    <tr>\n",
       "      <th>VARX</th>\n",
       "      <td>0.406676</td>\n",
       "      <td>0.156881</td>\n",
       "      <td>0.092217</td>\n",
       "      <td>0.888889</td>\n",
       "      <td>1.295479</td>\n",
       "      <td>0.221956</td>\n",
       "      <td>72.0</td>\n",
       "    </tr>\n",
       "  </tbody>\n",
       "</table>\n",
       "</div>"
      ]
     },
     "execution_count": 7,
     "metadata": {},
     "output_type": "execute_result"
    }
   ],
   "execution_count": 7
  },
  {
   "metadata": {
    "ExecuteTime": {
     "end_time": "2024-07-26T18:51:45.427310Z",
     "start_time": "2024-07-26T18:51:45.407371Z"
    }
   },
   "cell_type": "code",
   "source": "cv_results.groupby([\"model\"]).apply(summarize, include_groups=False)",
   "outputs": [
    {
     "data": {
      "text/plain": [
       "                  rmse  variance      bias  coverage  interval_len      crps  \\\n",
       "model                                                                          \n",
       "Default       0.681939  0.463471  0.039620  0.881944      2.166665  0.383479   \n",
       "GP_Matern     0.419433  0.175852 -0.008497  0.937500      1.553434  0.230420   \n",
       "GP_MaternLag  0.435903  0.190010 -0.001242  0.930556      1.624338  0.242037   \n",
       "MultitaskGP   0.444707  0.197382 -0.019555  0.927083      1.575741  0.243926   \n",
       "NARX          0.429446  0.184398 -0.005015  0.940972      1.657705  0.242269   \n",
       "VARX          0.407168  0.165279 -0.022519  0.899306      1.422346  0.227711   \n",
       "\n",
       "                  N  \n",
       "model                \n",
       "Default       288.0  \n",
       "GP_Matern     288.0  \n",
       "GP_MaternLag  288.0  \n",
       "MultitaskGP   288.0  \n",
       "NARX          288.0  \n",
       "VARX          288.0  "
      ],
      "text/html": [
       "<div>\n",
       "<style scoped>\n",
       "    .dataframe tbody tr th:only-of-type {\n",
       "        vertical-align: middle;\n",
       "    }\n",
       "\n",
       "    .dataframe tbody tr th {\n",
       "        vertical-align: top;\n",
       "    }\n",
       "\n",
       "    .dataframe thead th {\n",
       "        text-align: right;\n",
       "    }\n",
       "</style>\n",
       "<table border=\"1\" class=\"dataframe\">\n",
       "  <thead>\n",
       "    <tr style=\"text-align: right;\">\n",
       "      <th></th>\n",
       "      <th>rmse</th>\n",
       "      <th>variance</th>\n",
       "      <th>bias</th>\n",
       "      <th>coverage</th>\n",
       "      <th>interval_len</th>\n",
       "      <th>crps</th>\n",
       "      <th>N</th>\n",
       "    </tr>\n",
       "    <tr>\n",
       "      <th>model</th>\n",
       "      <th></th>\n",
       "      <th></th>\n",
       "      <th></th>\n",
       "      <th></th>\n",
       "      <th></th>\n",
       "      <th></th>\n",
       "      <th></th>\n",
       "    </tr>\n",
       "  </thead>\n",
       "  <tbody>\n",
       "    <tr>\n",
       "      <th>Default</th>\n",
       "      <td>0.681939</td>\n",
       "      <td>0.463471</td>\n",
       "      <td>0.039620</td>\n",
       "      <td>0.881944</td>\n",
       "      <td>2.166665</td>\n",
       "      <td>0.383479</td>\n",
       "      <td>288.0</td>\n",
       "    </tr>\n",
       "    <tr>\n",
       "      <th>GP_Matern</th>\n",
       "      <td>0.419433</td>\n",
       "      <td>0.175852</td>\n",
       "      <td>-0.008497</td>\n",
       "      <td>0.937500</td>\n",
       "      <td>1.553434</td>\n",
       "      <td>0.230420</td>\n",
       "      <td>288.0</td>\n",
       "    </tr>\n",
       "    <tr>\n",
       "      <th>GP_MaternLag</th>\n",
       "      <td>0.435903</td>\n",
       "      <td>0.190010</td>\n",
       "      <td>-0.001242</td>\n",
       "      <td>0.930556</td>\n",
       "      <td>1.624338</td>\n",
       "      <td>0.242037</td>\n",
       "      <td>288.0</td>\n",
       "    </tr>\n",
       "    <tr>\n",
       "      <th>MultitaskGP</th>\n",
       "      <td>0.444707</td>\n",
       "      <td>0.197382</td>\n",
       "      <td>-0.019555</td>\n",
       "      <td>0.927083</td>\n",
       "      <td>1.575741</td>\n",
       "      <td>0.243926</td>\n",
       "      <td>288.0</td>\n",
       "    </tr>\n",
       "    <tr>\n",
       "      <th>NARX</th>\n",
       "      <td>0.429446</td>\n",
       "      <td>0.184398</td>\n",
       "      <td>-0.005015</td>\n",
       "      <td>0.940972</td>\n",
       "      <td>1.657705</td>\n",
       "      <td>0.242269</td>\n",
       "      <td>288.0</td>\n",
       "    </tr>\n",
       "    <tr>\n",
       "      <th>VARX</th>\n",
       "      <td>0.407168</td>\n",
       "      <td>0.165279</td>\n",
       "      <td>-0.022519</td>\n",
       "      <td>0.899306</td>\n",
       "      <td>1.422346</td>\n",
       "      <td>0.227711</td>\n",
       "      <td>288.0</td>\n",
       "    </tr>\n",
       "  </tbody>\n",
       "</table>\n",
       "</div>"
      ]
     },
     "execution_count": 8,
     "metadata": {},
     "output_type": "execute_result"
    }
   ],
   "execution_count": 8
  },
  {
   "metadata": {
    "ExecuteTime": {
     "end_time": "2024-07-26T18:52:09.152302Z",
     "start_time": "2024-07-26T18:52:09.115911Z"
    }
   },
   "cell_type": "code",
   "source": "cv_results.groupby([\"months_ahead\", \"model\"]).apply(summarize, include_groups=False)",
   "outputs": [
    {
     "data": {
      "text/plain": [
       "                               rmse  variance      bias  coverage  \\\n",
       "months_ahead model                                                  \n",
       "1            Default       0.713942  0.475293 -0.185526  0.895833   \n",
       "             GP_Matern     0.472579  0.214207 -0.095519  0.895833   \n",
       "             GP_MaternLag  0.436127  0.183670 -0.080851  0.895833   \n",
       "             MultitaskGP   0.527867  0.274573 -0.063802  0.812500   \n",
       "             NARX          0.463505  0.201160 -0.116951  0.916667   \n",
       "             VARX          0.482098  0.220782 -0.107872  0.854167   \n",
       "2            Default       0.695546  0.481177  0.051062  0.791667   \n",
       "             GP_Matern     0.363268  0.120984  0.104782  0.916667   \n",
       "             GP_MaternLag  0.395755  0.135079  0.146775  0.937500   \n",
       "             MultitaskGP   0.396395  0.152889  0.065113  0.937500   \n",
       "             NARX          0.416050  0.159666  0.115896  0.937500   \n",
       "             VARX          0.390420  0.150656  0.042092  0.916667   \n",
       "3            Default       0.537387  0.278315  0.102319  0.937500   \n",
       "             GP_Matern     0.331504  0.108107  0.042277  0.979167   \n",
       "             GP_MaternLag  0.401984  0.156449  0.071711  0.958333   \n",
       "             MultitaskGP   0.335803  0.111819  0.030737  1.000000   \n",
       "             NARX          0.414568  0.166770  0.071389  0.958333   \n",
       "             VARX          0.370498  0.134928  0.048384  0.895833   \n",
       "4            Default       0.860412  0.733446  0.082848  0.791667   \n",
       "             GP_Matern     0.571142  0.319056 -0.084540  0.875000   \n",
       "             GP_MaternLag  0.596530  0.349602 -0.079032  0.854167   \n",
       "             MultitaskGP   0.572242  0.323061 -0.066332  0.875000   \n",
       "             NARX          0.515569  0.263577 -0.047266  0.895833   \n",
       "             VARX          0.509006  0.258747 -0.018456  0.812500   \n",
       "5            Default       0.596471  0.290947  0.254619  0.916667   \n",
       "             GP_Matern     0.402870  0.160263  0.045174  0.958333   \n",
       "             GP_MaternLag  0.395722  0.151863  0.068792  0.937500   \n",
       "             MultitaskGP   0.433912  0.188104 -0.013249  0.958333   \n",
       "             NARX          0.394966  0.153950  0.045253  0.937500   \n",
       "             VARX          0.353145  0.123826 -0.029759  0.937500   \n",
       "6            Default       0.641775  0.407305 -0.067600  0.958333   \n",
       "             GP_Matern     0.319137  0.097860 -0.063159  1.000000   \n",
       "             GP_MaternLag  0.345257  0.101020 -0.134844  1.000000   \n",
       "             MultitaskGP   0.349727  0.117437 -0.069800  0.979167   \n",
       "             NARX          0.353455  0.115246 -0.098409  1.000000   \n",
       "             VARX          0.297993  0.083970 -0.069501  0.979167   \n",
       "\n",
       "                           interval_len      crps     N  \n",
       "months_ahead model                                       \n",
       "1            Default           1.974050  0.397204  48.0  \n",
       "             GP_Matern         1.542983  0.268718  48.0  \n",
       "             GP_MaternLag      1.519138  0.243078  48.0  \n",
       "             MultitaskGP       1.543606  0.296096  48.0  \n",
       "             NARX              1.567551  0.252514  48.0  \n",
       "             VARX              1.333244  0.260702  48.0  \n",
       "2            Default           1.913799  0.400559  48.0  \n",
       "             GP_Matern         1.546254  0.198047  48.0  \n",
       "             GP_MaternLag      1.526061  0.217328  48.0  \n",
       "             MultitaskGP       1.551895  0.216883  48.0  \n",
       "             NARX              1.584657  0.227182  48.0  \n",
       "             VARX              1.406109  0.225067  48.0  \n",
       "3            Default           2.246366  0.302667  48.0  \n",
       "             GP_Matern         1.549889  0.188248  48.0  \n",
       "             GP_MaternLag      1.565235  0.228943  48.0  \n",
       "             MultitaskGP       1.580328  0.190801  48.0  \n",
       "             NARX              1.629329  0.240612  48.0  \n",
       "             VARX              1.425086  0.213201  48.0  \n",
       "4            Default           2.286621  0.493574  48.0  \n",
       "             GP_Matern         1.583275  0.319964  48.0  \n",
       "             GP_MaternLag      1.649143  0.338563  48.0  \n",
       "             MultitaskGP       1.638199  0.322285  48.0  \n",
       "             NARX              1.731664  0.297869  48.0  \n",
       "             VARX              1.445192  0.291591  48.0  \n",
       "5            Default           2.444026  0.342267  48.0  \n",
       "             GP_Matern         1.561602  0.224649  48.0  \n",
       "             GP_MaternLag      1.708310  0.223475  48.0  \n",
       "             MultitaskGP       1.605810  0.239974  48.0  \n",
       "             NARX              1.697319  0.226734  48.0  \n",
       "             VARX              1.447595  0.200952  48.0  \n",
       "6            Default           2.135128  0.364604  48.0  \n",
       "             GP_Matern         1.536599  0.182895  48.0  \n",
       "             GP_MaternLag      1.778145  0.200834  48.0  \n",
       "             MultitaskGP       1.534611  0.197517  48.0  \n",
       "             NARX              1.735710  0.208705  48.0  \n",
       "             VARX              1.476852  0.174754  48.0  "
      ],
      "text/html": [
       "<div>\n",
       "<style scoped>\n",
       "    .dataframe tbody tr th:only-of-type {\n",
       "        vertical-align: middle;\n",
       "    }\n",
       "\n",
       "    .dataframe tbody tr th {\n",
       "        vertical-align: top;\n",
       "    }\n",
       "\n",
       "    .dataframe thead th {\n",
       "        text-align: right;\n",
       "    }\n",
       "</style>\n",
       "<table border=\"1\" class=\"dataframe\">\n",
       "  <thead>\n",
       "    <tr style=\"text-align: right;\">\n",
       "      <th></th>\n",
       "      <th></th>\n",
       "      <th>rmse</th>\n",
       "      <th>variance</th>\n",
       "      <th>bias</th>\n",
       "      <th>coverage</th>\n",
       "      <th>interval_len</th>\n",
       "      <th>crps</th>\n",
       "      <th>N</th>\n",
       "    </tr>\n",
       "    <tr>\n",
       "      <th>months_ahead</th>\n",
       "      <th>model</th>\n",
       "      <th></th>\n",
       "      <th></th>\n",
       "      <th></th>\n",
       "      <th></th>\n",
       "      <th></th>\n",
       "      <th></th>\n",
       "      <th></th>\n",
       "    </tr>\n",
       "  </thead>\n",
       "  <tbody>\n",
       "    <tr>\n",
       "      <th rowspan=\"6\" valign=\"top\">1</th>\n",
       "      <th>Default</th>\n",
       "      <td>0.713942</td>\n",
       "      <td>0.475293</td>\n",
       "      <td>-0.185526</td>\n",
       "      <td>0.895833</td>\n",
       "      <td>1.974050</td>\n",
       "      <td>0.397204</td>\n",
       "      <td>48.0</td>\n",
       "    </tr>\n",
       "    <tr>\n",
       "      <th>GP_Matern</th>\n",
       "      <td>0.472579</td>\n",
       "      <td>0.214207</td>\n",
       "      <td>-0.095519</td>\n",
       "      <td>0.895833</td>\n",
       "      <td>1.542983</td>\n",
       "      <td>0.268718</td>\n",
       "      <td>48.0</td>\n",
       "    </tr>\n",
       "    <tr>\n",
       "      <th>GP_MaternLag</th>\n",
       "      <td>0.436127</td>\n",
       "      <td>0.183670</td>\n",
       "      <td>-0.080851</td>\n",
       "      <td>0.895833</td>\n",
       "      <td>1.519138</td>\n",
       "      <td>0.243078</td>\n",
       "      <td>48.0</td>\n",
       "    </tr>\n",
       "    <tr>\n",
       "      <th>MultitaskGP</th>\n",
       "      <td>0.527867</td>\n",
       "      <td>0.274573</td>\n",
       "      <td>-0.063802</td>\n",
       "      <td>0.812500</td>\n",
       "      <td>1.543606</td>\n",
       "      <td>0.296096</td>\n",
       "      <td>48.0</td>\n",
       "    </tr>\n",
       "    <tr>\n",
       "      <th>NARX</th>\n",
       "      <td>0.463505</td>\n",
       "      <td>0.201160</td>\n",
       "      <td>-0.116951</td>\n",
       "      <td>0.916667</td>\n",
       "      <td>1.567551</td>\n",
       "      <td>0.252514</td>\n",
       "      <td>48.0</td>\n",
       "    </tr>\n",
       "    <tr>\n",
       "      <th>VARX</th>\n",
       "      <td>0.482098</td>\n",
       "      <td>0.220782</td>\n",
       "      <td>-0.107872</td>\n",
       "      <td>0.854167</td>\n",
       "      <td>1.333244</td>\n",
       "      <td>0.260702</td>\n",
       "      <td>48.0</td>\n",
       "    </tr>\n",
       "    <tr>\n",
       "      <th rowspan=\"6\" valign=\"top\">2</th>\n",
       "      <th>Default</th>\n",
       "      <td>0.695546</td>\n",
       "      <td>0.481177</td>\n",
       "      <td>0.051062</td>\n",
       "      <td>0.791667</td>\n",
       "      <td>1.913799</td>\n",
       "      <td>0.400559</td>\n",
       "      <td>48.0</td>\n",
       "    </tr>\n",
       "    <tr>\n",
       "      <th>GP_Matern</th>\n",
       "      <td>0.363268</td>\n",
       "      <td>0.120984</td>\n",
       "      <td>0.104782</td>\n",
       "      <td>0.916667</td>\n",
       "      <td>1.546254</td>\n",
       "      <td>0.198047</td>\n",
       "      <td>48.0</td>\n",
       "    </tr>\n",
       "    <tr>\n",
       "      <th>GP_MaternLag</th>\n",
       "      <td>0.395755</td>\n",
       "      <td>0.135079</td>\n",
       "      <td>0.146775</td>\n",
       "      <td>0.937500</td>\n",
       "      <td>1.526061</td>\n",
       "      <td>0.217328</td>\n",
       "      <td>48.0</td>\n",
       "    </tr>\n",
       "    <tr>\n",
       "      <th>MultitaskGP</th>\n",
       "      <td>0.396395</td>\n",
       "      <td>0.152889</td>\n",
       "      <td>0.065113</td>\n",
       "      <td>0.937500</td>\n",
       "      <td>1.551895</td>\n",
       "      <td>0.216883</td>\n",
       "      <td>48.0</td>\n",
       "    </tr>\n",
       "    <tr>\n",
       "      <th>NARX</th>\n",
       "      <td>0.416050</td>\n",
       "      <td>0.159666</td>\n",
       "      <td>0.115896</td>\n",
       "      <td>0.937500</td>\n",
       "      <td>1.584657</td>\n",
       "      <td>0.227182</td>\n",
       "      <td>48.0</td>\n",
       "    </tr>\n",
       "    <tr>\n",
       "      <th>VARX</th>\n",
       "      <td>0.390420</td>\n",
       "      <td>0.150656</td>\n",
       "      <td>0.042092</td>\n",
       "      <td>0.916667</td>\n",
       "      <td>1.406109</td>\n",
       "      <td>0.225067</td>\n",
       "      <td>48.0</td>\n",
       "    </tr>\n",
       "    <tr>\n",
       "      <th rowspan=\"6\" valign=\"top\">3</th>\n",
       "      <th>Default</th>\n",
       "      <td>0.537387</td>\n",
       "      <td>0.278315</td>\n",
       "      <td>0.102319</td>\n",
       "      <td>0.937500</td>\n",
       "      <td>2.246366</td>\n",
       "      <td>0.302667</td>\n",
       "      <td>48.0</td>\n",
       "    </tr>\n",
       "    <tr>\n",
       "      <th>GP_Matern</th>\n",
       "      <td>0.331504</td>\n",
       "      <td>0.108107</td>\n",
       "      <td>0.042277</td>\n",
       "      <td>0.979167</td>\n",
       "      <td>1.549889</td>\n",
       "      <td>0.188248</td>\n",
       "      <td>48.0</td>\n",
       "    </tr>\n",
       "    <tr>\n",
       "      <th>GP_MaternLag</th>\n",
       "      <td>0.401984</td>\n",
       "      <td>0.156449</td>\n",
       "      <td>0.071711</td>\n",
       "      <td>0.958333</td>\n",
       "      <td>1.565235</td>\n",
       "      <td>0.228943</td>\n",
       "      <td>48.0</td>\n",
       "    </tr>\n",
       "    <tr>\n",
       "      <th>MultitaskGP</th>\n",
       "      <td>0.335803</td>\n",
       "      <td>0.111819</td>\n",
       "      <td>0.030737</td>\n",
       "      <td>1.000000</td>\n",
       "      <td>1.580328</td>\n",
       "      <td>0.190801</td>\n",
       "      <td>48.0</td>\n",
       "    </tr>\n",
       "    <tr>\n",
       "      <th>NARX</th>\n",
       "      <td>0.414568</td>\n",
       "      <td>0.166770</td>\n",
       "      <td>0.071389</td>\n",
       "      <td>0.958333</td>\n",
       "      <td>1.629329</td>\n",
       "      <td>0.240612</td>\n",
       "      <td>48.0</td>\n",
       "    </tr>\n",
       "    <tr>\n",
       "      <th>VARX</th>\n",
       "      <td>0.370498</td>\n",
       "      <td>0.134928</td>\n",
       "      <td>0.048384</td>\n",
       "      <td>0.895833</td>\n",
       "      <td>1.425086</td>\n",
       "      <td>0.213201</td>\n",
       "      <td>48.0</td>\n",
       "    </tr>\n",
       "    <tr>\n",
       "      <th rowspan=\"6\" valign=\"top\">4</th>\n",
       "      <th>Default</th>\n",
       "      <td>0.860412</td>\n",
       "      <td>0.733446</td>\n",
       "      <td>0.082848</td>\n",
       "      <td>0.791667</td>\n",
       "      <td>2.286621</td>\n",
       "      <td>0.493574</td>\n",
       "      <td>48.0</td>\n",
       "    </tr>\n",
       "    <tr>\n",
       "      <th>GP_Matern</th>\n",
       "      <td>0.571142</td>\n",
       "      <td>0.319056</td>\n",
       "      <td>-0.084540</td>\n",
       "      <td>0.875000</td>\n",
       "      <td>1.583275</td>\n",
       "      <td>0.319964</td>\n",
       "      <td>48.0</td>\n",
       "    </tr>\n",
       "    <tr>\n",
       "      <th>GP_MaternLag</th>\n",
       "      <td>0.596530</td>\n",
       "      <td>0.349602</td>\n",
       "      <td>-0.079032</td>\n",
       "      <td>0.854167</td>\n",
       "      <td>1.649143</td>\n",
       "      <td>0.338563</td>\n",
       "      <td>48.0</td>\n",
       "    </tr>\n",
       "    <tr>\n",
       "      <th>MultitaskGP</th>\n",
       "      <td>0.572242</td>\n",
       "      <td>0.323061</td>\n",
       "      <td>-0.066332</td>\n",
       "      <td>0.875000</td>\n",
       "      <td>1.638199</td>\n",
       "      <td>0.322285</td>\n",
       "      <td>48.0</td>\n",
       "    </tr>\n",
       "    <tr>\n",
       "      <th>NARX</th>\n",
       "      <td>0.515569</td>\n",
       "      <td>0.263577</td>\n",
       "      <td>-0.047266</td>\n",
       "      <td>0.895833</td>\n",
       "      <td>1.731664</td>\n",
       "      <td>0.297869</td>\n",
       "      <td>48.0</td>\n",
       "    </tr>\n",
       "    <tr>\n",
       "      <th>VARX</th>\n",
       "      <td>0.509006</td>\n",
       "      <td>0.258747</td>\n",
       "      <td>-0.018456</td>\n",
       "      <td>0.812500</td>\n",
       "      <td>1.445192</td>\n",
       "      <td>0.291591</td>\n",
       "      <td>48.0</td>\n",
       "    </tr>\n",
       "    <tr>\n",
       "      <th rowspan=\"6\" valign=\"top\">5</th>\n",
       "      <th>Default</th>\n",
       "      <td>0.596471</td>\n",
       "      <td>0.290947</td>\n",
       "      <td>0.254619</td>\n",
       "      <td>0.916667</td>\n",
       "      <td>2.444026</td>\n",
       "      <td>0.342267</td>\n",
       "      <td>48.0</td>\n",
       "    </tr>\n",
       "    <tr>\n",
       "      <th>GP_Matern</th>\n",
       "      <td>0.402870</td>\n",
       "      <td>0.160263</td>\n",
       "      <td>0.045174</td>\n",
       "      <td>0.958333</td>\n",
       "      <td>1.561602</td>\n",
       "      <td>0.224649</td>\n",
       "      <td>48.0</td>\n",
       "    </tr>\n",
       "    <tr>\n",
       "      <th>GP_MaternLag</th>\n",
       "      <td>0.395722</td>\n",
       "      <td>0.151863</td>\n",
       "      <td>0.068792</td>\n",
       "      <td>0.937500</td>\n",
       "      <td>1.708310</td>\n",
       "      <td>0.223475</td>\n",
       "      <td>48.0</td>\n",
       "    </tr>\n",
       "    <tr>\n",
       "      <th>MultitaskGP</th>\n",
       "      <td>0.433912</td>\n",
       "      <td>0.188104</td>\n",
       "      <td>-0.013249</td>\n",
       "      <td>0.958333</td>\n",
       "      <td>1.605810</td>\n",
       "      <td>0.239974</td>\n",
       "      <td>48.0</td>\n",
       "    </tr>\n",
       "    <tr>\n",
       "      <th>NARX</th>\n",
       "      <td>0.394966</td>\n",
       "      <td>0.153950</td>\n",
       "      <td>0.045253</td>\n",
       "      <td>0.937500</td>\n",
       "      <td>1.697319</td>\n",
       "      <td>0.226734</td>\n",
       "      <td>48.0</td>\n",
       "    </tr>\n",
       "    <tr>\n",
       "      <th>VARX</th>\n",
       "      <td>0.353145</td>\n",
       "      <td>0.123826</td>\n",
       "      <td>-0.029759</td>\n",
       "      <td>0.937500</td>\n",
       "      <td>1.447595</td>\n",
       "      <td>0.200952</td>\n",
       "      <td>48.0</td>\n",
       "    </tr>\n",
       "    <tr>\n",
       "      <th rowspan=\"6\" valign=\"top\">6</th>\n",
       "      <th>Default</th>\n",
       "      <td>0.641775</td>\n",
       "      <td>0.407305</td>\n",
       "      <td>-0.067600</td>\n",
       "      <td>0.958333</td>\n",
       "      <td>2.135128</td>\n",
       "      <td>0.364604</td>\n",
       "      <td>48.0</td>\n",
       "    </tr>\n",
       "    <tr>\n",
       "      <th>GP_Matern</th>\n",
       "      <td>0.319137</td>\n",
       "      <td>0.097860</td>\n",
       "      <td>-0.063159</td>\n",
       "      <td>1.000000</td>\n",
       "      <td>1.536599</td>\n",
       "      <td>0.182895</td>\n",
       "      <td>48.0</td>\n",
       "    </tr>\n",
       "    <tr>\n",
       "      <th>GP_MaternLag</th>\n",
       "      <td>0.345257</td>\n",
       "      <td>0.101020</td>\n",
       "      <td>-0.134844</td>\n",
       "      <td>1.000000</td>\n",
       "      <td>1.778145</td>\n",
       "      <td>0.200834</td>\n",
       "      <td>48.0</td>\n",
       "    </tr>\n",
       "    <tr>\n",
       "      <th>MultitaskGP</th>\n",
       "      <td>0.349727</td>\n",
       "      <td>0.117437</td>\n",
       "      <td>-0.069800</td>\n",
       "      <td>0.979167</td>\n",
       "      <td>1.534611</td>\n",
       "      <td>0.197517</td>\n",
       "      <td>48.0</td>\n",
       "    </tr>\n",
       "    <tr>\n",
       "      <th>NARX</th>\n",
       "      <td>0.353455</td>\n",
       "      <td>0.115246</td>\n",
       "      <td>-0.098409</td>\n",
       "      <td>1.000000</td>\n",
       "      <td>1.735710</td>\n",
       "      <td>0.208705</td>\n",
       "      <td>48.0</td>\n",
       "    </tr>\n",
       "    <tr>\n",
       "      <th>VARX</th>\n",
       "      <td>0.297993</td>\n",
       "      <td>0.083970</td>\n",
       "      <td>-0.069501</td>\n",
       "      <td>0.979167</td>\n",
       "      <td>1.476852</td>\n",
       "      <td>0.174754</td>\n",
       "      <td>48.0</td>\n",
       "    </tr>\n",
       "  </tbody>\n",
       "</table>\n",
       "</div>"
      ]
     },
     "execution_count": 9,
     "metadata": {},
     "output_type": "execute_result"
    }
   ],
   "execution_count": 9
  },
  {
   "metadata": {
    "ExecuteTime": {
     "end_time": "2024-07-29T14:27:18.596757Z",
     "start_time": "2024-07-29T14:27:17.627590Z"
    }
   },
   "cell_type": "code",
   "source": [
    "import warnings\n",
    "\n",
    "warnings.filterwarnings(\"ignore\")\n",
    "\n",
    "plot_data = cv_results.reset_index()\n",
    "plot_data = plot_data[plot_data[\"model\"].isin([\"Default\", \"GP_Matern\", \"MultitaskGP\", \"NARX\", \"VARX\"])]\n",
    "(\n",
    "        ggplot(data=plot_data.reset_index(), mapping=aes(x=\"Date\", y=\"mean\"))\n",
    "        + geom_line(color=\"red\")\n",
    "        + geom_line(mapping=aes(x=\"Date\", y=\"true\"), color=\"black\")\n",
    "        + facet_grid(\"lake~model\", scales=\"free_y\")\n",
    "        + scale_x_datetime(\n",
    "    limits=[plot_data.Date.min(), plot_data.Date.max()],\n",
    "    labels=date_format(fmt=\"%Y\"), breaks=date_breaks(\"5 year\"))\n",
    "        + geom_ribbon(\n",
    "    mapping=aes(x=\"Date\", ymin=\"lower\", ymax=\"upper\"), fill=\"red\", alpha=0.3,\n",
    ")\n",
    "        + theme_bw()\n",
    ")\n"
   ],
   "outputs": [
    {
     "data": {
      "text/plain": [
       "<Figure size 640x480 with 20 Axes>"
      ],
      "image/png": "[encoded data removed]"
     },
     "metadata": {
      "image/png": {
       "width": 640,
       "height": 480
      }
     },
     "output_type": "display_data"
    },
    {
     "data": {
      "text/plain": [
       "<Figure Size: (640 x 480)>"
      ]
     },
     "execution_count": 12,
     "metadata": {},
     "output_type": "execute_result"
    }
   ],
   "execution_count": 12
  },
  {
   "metadata": {
    "ExecuteTime": {
     "end_time": "2024-07-29T14:30:43.000981Z",
     "start_time": "2024-07-29T14:30:42.688185Z"
    }
   },
   "cell_type": "code",
   "source": [
    "model = varx_models[\"VARX\"].steps[-1][1]\n",
    "summarized = az.summary(model.trace, filter_vars=\"regex\", var_names=[\"alpha\"])\n",
    "\n",
    "summarized[~((summarized[\"hdi_3%\"] <= 0) & (summarized[\"hdi_97%\"] >= 0))]"
   ],
   "outputs": [
    {
     "data": {
      "text/plain": [
       "                                mean     sd  hdi_3%  hdi_97%  mcse_mean  \\\n",
       "evap_alpha[sup, eri, 1]       -0.191  0.039  -0.262   -0.114      0.000   \n",
       "evap_alpha[mic_hur, ont, 1]   -0.326  0.081  -0.481   -0.181      0.001   \n",
       "evap_alpha[eri, sup, 1]       -0.247  0.109  -0.444   -0.036      0.002   \n",
       "evap_alpha[ont, mic_hur, 2]   -0.188  0.087  -0.348   -0.017      0.001   \n",
       "evap_alpha[ont, ont, 1]       -0.163  0.085  -0.322   -0.004      0.001   \n",
       "precip_alpha[sup, eri, 1]      0.444  0.025   0.395    0.489      0.000   \n",
       "precip_alpha[sup, ont, 2]     -0.150  0.046  -0.236   -0.063      0.001   \n",
       "precip_alpha[mic_hur, eri, 1] -0.060  0.024  -0.103   -0.014      0.000   \n",
       "precip_alpha[mic_hur, eri, 2] -0.073  0.032  -0.135   -0.015      0.000   \n",
       "precip_alpha[mic_hur, ont, 1]  0.563  0.028   0.510    0.615      0.000   \n",
       "precip_alpha[mic_hur, ont, 2]  0.090  0.041   0.012    0.166      0.001   \n",
       "precip_alpha[eri, sup, 1]      0.499  0.040   0.425    0.573      0.001   \n",
       "precip_alpha[eri, mic_hur, 1]  0.085  0.035   0.017    0.148      0.000   \n",
       "precip_alpha[eri, eri, 2]     -0.086  0.040  -0.164   -0.015      0.001   \n",
       "precip_alpha[eri, ont, 2]     -0.112  0.053  -0.211   -0.014      0.001   \n",
       "precip_alpha[ont, mic_hur, 1]  0.484  0.031   0.423    0.539      0.000   \n",
       "temp_alpha[mic_hur, sup, 1]    0.325  0.146   0.050    0.599      0.002   \n",
       "temp_alpha[ont, mic_hur, 2]   -0.376  0.154  -0.669   -0.095      0.002   \n",
       "y_alpha[sup, mic_hur, 3]       0.180  0.060   0.073    0.297      0.001   \n",
       "y_alpha[mic_hur, sup, 3]       0.125  0.047   0.040    0.215      0.001   \n",
       "y_alpha[mic_hur, eri, 3]       0.103  0.043   0.022    0.182      0.001   \n",
       "y_alpha[eri, mic_hur, 3]       0.185  0.070   0.056    0.316      0.001   \n",
       "y_alpha[ont, ont, 3]           0.137  0.055   0.037    0.244      0.001   \n",
       "\n",
       "                               mcse_sd  ess_bulk  ess_tail  r_hat  \n",
       "evap_alpha[sup, eri, 1]          0.000    6458.0    3661.0    1.0  \n",
       "evap_alpha[mic_hur, ont, 1]      0.001    6267.0    3329.0    1.0  \n",
       "evap_alpha[eri, sup, 1]          0.001    4978.0    2979.0    1.0  \n",
       "evap_alpha[ont, mic_hur, 2]      0.001    5745.0    2868.0    1.0  \n",
       "evap_alpha[ont, ont, 1]          0.001    5372.0    3444.0    1.0  \n",
       "precip_alpha[sup, eri, 1]        0.000    6185.0    3223.0    1.0  \n",
       "precip_alpha[sup, ont, 2]        0.000    4737.0    2805.0    1.0  \n",
       "precip_alpha[mic_hur, eri, 1]    0.000    5612.0    3318.0    1.0  \n",
       "precip_alpha[mic_hur, eri, 2]    0.000    4555.0    3483.0    1.0  \n",
       "precip_alpha[mic_hur, ont, 1]    0.000    5195.0    3172.0    1.0  \n",
       "precip_alpha[mic_hur, ont, 2]    0.000    4538.0    3179.0    1.0  \n",
       "precip_alpha[eri, sup, 1]        0.000    5132.0    3214.0    1.0  \n",
       "precip_alpha[eri, mic_hur, 1]    0.000    5755.0    3300.0    1.0  \n",
       "precip_alpha[eri, eri, 2]        0.000    4486.0    3570.0    1.0  \n",
       "precip_alpha[eri, ont, 2]        0.001    4910.0    2789.0    1.0  \n",
       "precip_alpha[ont, mic_hur, 1]    0.000    4623.0    3419.0    1.0  \n",
       "temp_alpha[mic_hur, sup, 1]      0.001    6997.0    2645.0    1.0  \n",
       "temp_alpha[ont, mic_hur, 2]      0.001    7045.0    2978.0    1.0  \n",
       "y_alpha[sup, mic_hur, 3]         0.001    4884.0    3393.0    1.0  \n",
       "y_alpha[mic_hur, sup, 3]         0.001    4329.0    3094.0    1.0  \n",
       "y_alpha[mic_hur, eri, 3]         0.000    4894.0    3294.0    1.0  \n",
       "y_alpha[eri, mic_hur, 3]         0.001    4844.0    2442.0    1.0  \n",
       "y_alpha[ont, ont, 3]             0.001    4919.0    3267.0    1.0  "
      ],
      "text/html": [
       "<div>\n",
       "<style scoped>\n",
       "    .dataframe tbody tr th:only-of-type {\n",
       "        vertical-align: middle;\n",
       "    }\n",
       "\n",
       "    .dataframe tbody tr th {\n",
       "        vertical-align: top;\n",
       "    }\n",
       "\n",
       "    .dataframe thead th {\n",
       "        text-align: right;\n",
       "    }\n",
       "</style>\n",
       "<table border=\"1\" class=\"dataframe\">\n",
       "  <thead>\n",
       "    <tr style=\"text-align: right;\">\n",
       "      <th></th>\n",
       "      <th>mean</th>\n",
       "      <th>sd</th>\n",
       "      <th>hdi_3%</th>\n",
       "      <th>hdi_97%</th>\n",
       "      <th>mcse_mean</th>\n",
       "      <th>mcse_sd</th>\n",
       "      <th>ess_bulk</th>\n",
       "      <th>ess_tail</th>\n",
       "      <th>r_hat</th>\n",
       "    </tr>\n",
       "  </thead>\n",
       "  <tbody>\n",
       "    <tr>\n",
       "      <th>evap_alpha[sup, eri, 1]</th>\n",
       "      <td>-0.191</td>\n",
       "      <td>0.039</td>\n",
       "      <td>-0.262</td>\n",
       "      <td>-0.114</td>\n",
       "      <td>0.000</td>\n",
       "      <td>0.000</td>\n",
       "      <td>6458.0</td>\n",
       "      <td>3661.0</td>\n",
       "      <td>1.0</td>\n",
       "    </tr>\n",
       "    <tr>\n",
       "      <th>evap_alpha[mic_hur, ont, 1]</th>\n",
       "      <td>-0.326</td>\n",
       "      <td>0.081</td>\n",
       "      <td>-0.481</td>\n",
       "      <td>-0.181</td>\n",
       "      <td>0.001</td>\n",
       "      <td>0.001</td>\n",
       "      <td>6267.0</td>\n",
       "      <td>3329.0</td>\n",
       "      <td>1.0</td>\n",
       "    </tr>\n",
       "    <tr>\n",
       "      <th>evap_alpha[eri, sup, 1]</th>\n",
       "      <td>-0.247</td>\n",
       "      <td>0.109</td>\n",
       "      <td>-0.444</td>\n",
       "      <td>-0.036</td>\n",
       "      <td>0.002</td>\n",
       "      <td>0.001</td>\n",
       "      <td>4978.0</td>\n",
       "      <td>2979.0</td>\n",
       "      <td>1.0</td>\n",
       "    </tr>\n",
       "    <tr>\n",
       "      <th>evap_alpha[ont, mic_hur, 2]</th>\n",
       "      <td>-0.188</td>\n",
       "      <td>0.087</td>\n",
       "      <td>-0.348</td>\n",
       "      <td>-0.017</td>\n",
       "      <td>0.001</td>\n",
       "      <td>0.001</td>\n",
       "      <td>5745.0</td>\n",
       "      <td>2868.0</td>\n",
       "      <td>1.0</td>\n",
       "    </tr>\n",
       "    <tr>\n",
       "      <th>evap_alpha[ont, ont, 1]</th>\n",
       "      <td>-0.163</td>\n",
       "      <td>0.085</td>\n",
       "      <td>-0.322</td>\n",
       "      <td>-0.004</td>\n",
       "      <td>0.001</td>\n",
       "      <td>0.001</td>\n",
       "      <td>5372.0</td>\n",
       "      <td>3444.0</td>\n",
       "      <td>1.0</td>\n",
       "    </tr>\n",
       "    <tr>\n",
       "      <th>precip_alpha[sup, eri, 1]</th>\n",
       "      <td>0.444</td>\n",
       "      <td>0.025</td>\n",
       "      <td>0.395</td>\n",
       "      <td>0.489</td>\n",
       "      <td>0.000</td>\n",
       "      <td>0.000</td>\n",
       "      <td>6185.0</td>\n",
       "      <td>3223.0</td>\n",
       "      <td>1.0</td>\n",
       "    </tr>\n",
       "    <tr>\n",
       "      <th>precip_alpha[sup, ont, 2]</th>\n",
       "      <td>-0.150</td>\n",
       "      <td>0.046</td>\n",
       "      <td>-0.236</td>\n",
       "      <td>-0.063</td>\n",
       "      <td>0.001</td>\n",
       "      <td>0.000</td>\n",
       "      <td>4737.0</td>\n",
       "      <td>2805.0</td>\n",
       "      <td>1.0</td>\n",
       "    </tr>\n",
       "    <tr>\n",
       "      <th>precip_alpha[mic_hur, eri, 1]</th>\n",
       "      <td>-0.060</td>\n",
       "      <td>0.024</td>\n",
       "      <td>-0.103</td>\n",
       "      <td>-0.014</td>\n",
       "      <td>0.000</td>\n",
       "      <td>0.000</td>\n",
       "      <td>5612.0</td>\n",
       "      <td>3318.0</td>\n",
       "      <td>1.0</td>\n",
       "    </tr>\n",
       "    <tr>\n",
       "      <th>precip_alpha[mic_hur, eri, 2]</th>\n",
       "      <td>-0.073</td>\n",
       "      <td>0.032</td>\n",
       "      <td>-0.135</td>\n",
       "      <td>-0.015</td>\n",
       "      <td>0.000</td>\n",
       "      <td>0.000</td>\n",
       "      <td>4555.0</td>\n",
       "      <td>3483.0</td>\n",
       "      <td>1.0</td>\n",
       "    </tr>\n",
       "    <tr>\n",
       "      <th>precip_alpha[mic_hur, ont, 1]</th>\n",
       "      <td>0.563</td>\n",
       "      <td>0.028</td>\n",
       "      <td>0.510</td>\n",
       "      <td>0.615</td>\n",
       "      <td>0.000</td>\n",
       "      <td>0.000</td>\n",
       "      <td>5195.0</td>\n",
       "      <td>3172.0</td>\n",
       "      <td>1.0</td>\n",
       "    </tr>\n",
       "    <tr>\n",
       "      <th>precip_alpha[mic_hur, ont, 2]</th>\n",
       "      <td>0.090</td>\n",
       "      <td>0.041</td>\n",
       "      <td>0.012</td>\n",
       "      <td>0.166</td>\n",
       "      <td>0.001</td>\n",
       "      <td>0.000</td>\n",
       "      <td>4538.0</td>\n",
       "      <td>3179.0</td>\n",
       "      <td>1.0</td>\n",
       "    </tr>\n",
       "    <tr>\n",
       "      <th>precip_alpha[eri, sup, 1]</th>\n",
       "      <td>0.499</td>\n",
       "      <td>0.040</td>\n",
       "      <td>0.425</td>\n",
       "      <td>0.573</td>\n",
       "      <td>0.001</td>\n",
       "      <td>0.000</td>\n",
       "      <td>5132.0</td>\n",
       "      <td>3214.0</td>\n",
       "      <td>1.0</td>\n",
       "    </tr>\n",
       "    <tr>\n",
       "      <th>precip_alpha[eri, mic_hur, 1]</th>\n",
       "      <td>0.085</td>\n",
       "      <td>0.035</td>\n",
       "      <td>0.017</td>\n",
       "      <td>0.148</td>\n",
       "      <td>0.000</td>\n",
       "      <td>0.000</td>\n",
       "      <td>5755.0</td>\n",
       "      <td>3300.0</td>\n",
       "      <td>1.0</td>\n",
       "    </tr>\n",
       "    <tr>\n",
       "      <th>precip_alpha[eri, eri, 2]</th>\n",
       "      <td>-0.086</td>\n",
       "      <td>0.040</td>\n",
       "      <td>-0.164</td>\n",
       "      <td>-0.015</td>\n",
       "      <td>0.001</td>\n",
       "      <td>0.000</td>\n",
       "      <td>4486.0</td>\n",
       "      <td>3570.0</td>\n",
       "      <td>1.0</td>\n",
       "    </tr>\n",
       "    <tr>\n",
       "      <th>precip_alpha[eri, ont, 2]</th>\n",
       "      <td>-0.112</td>\n",
       "      <td>0.053</td>\n",
       "      <td>-0.211</td>\n",
       "      <td>-0.014</td>\n",
       "      <td>0.001</td>\n",
       "      <td>0.001</td>\n",
       "      <td>4910.0</td>\n",
       "      <td>2789.0</td>\n",
       "      <td>1.0</td>\n",
       "    </tr>\n",
       "    <tr>\n",
       "      <th>precip_alpha[ont, mic_hur, 1]</th>\n",
       "      <td>0.484</td>\n",
       "      <td>0.031</td>\n",
       "      <td>0.423</td>\n",
       "      <td>0.539</td>\n",
       "      <td>0.000</td>\n",
       "      <td>0.000</td>\n",
       "      <td>4623.0</td>\n",
       "      <td>3419.0</td>\n",
       "      <td>1.0</td>\n",
       "    </tr>\n",
       "    <tr>\n",
       "      <th>temp_alpha[mic_hur, sup, 1]</th>\n",
       "      <td>0.325</td>\n",
       "      <td>0.146</td>\n",
       "      <td>0.050</td>\n",
       "      <td>0.599</td>\n",
       "      <td>0.002</td>\n",
       "      <td>0.001</td>\n",
       "      <td>6997.0</td>\n",
       "      <td>2645.0</td>\n",
       "      <td>1.0</td>\n",
       "    </tr>\n",
       "    <tr>\n",
       "      <th>temp_alpha[ont, mic_hur, 2]</th>\n",
       "      <td>-0.376</td>\n",
       "      <td>0.154</td>\n",
       "      <td>-0.669</td>\n",
       "      <td>-0.095</td>\n",
       "      <td>0.002</td>\n",
       "      <td>0.001</td>\n",
       "      <td>7045.0</td>\n",
       "      <td>2978.0</td>\n",
       "      <td>1.0</td>\n",
       "    </tr>\n",
       "    <tr>\n",
       "      <th>y_alpha[sup, mic_hur, 3]</th>\n",
       "      <td>0.180</td>\n",
       "      <td>0.060</td>\n",
       "      <td>0.073</td>\n",
       "      <td>0.297</td>\n",
       "      <td>0.001</td>\n",
       "      <td>0.001</td>\n",
       "      <td>4884.0</td>\n",
       "      <td>3393.0</td>\n",
       "      <td>1.0</td>\n",
       "    </tr>\n",
       "    <tr>\n",
       "      <th>y_alpha[mic_hur, sup, 3]</th>\n",
       "      <td>0.125</td>\n",
       "      <td>0.047</td>\n",
       "      <td>0.040</td>\n",
       "      <td>0.215</td>\n",
       "      <td>0.001</td>\n",
       "      <td>0.001</td>\n",
       "      <td>4329.0</td>\n",
       "      <td>3094.0</td>\n",
       "      <td>1.0</td>\n",
       "    </tr>\n",
       "    <tr>\n",
       "      <th>y_alpha[mic_hur, eri, 3]</th>\n",
       "      <td>0.103</td>\n",
       "      <td>0.043</td>\n",
       "      <td>0.022</td>\n",
       "      <td>0.182</td>\n",
       "      <td>0.001</td>\n",
       "      <td>0.000</td>\n",
       "      <td>4894.0</td>\n",
       "      <td>3294.0</td>\n",
       "      <td>1.0</td>\n",
       "    </tr>\n",
       "    <tr>\n",
       "      <th>y_alpha[eri, mic_hur, 3]</th>\n",
       "      <td>0.185</td>\n",
       "      <td>0.070</td>\n",
       "      <td>0.056</td>\n",
       "      <td>0.316</td>\n",
       "      <td>0.001</td>\n",
       "      <td>0.001</td>\n",
       "      <td>4844.0</td>\n",
       "      <td>2442.0</td>\n",
       "      <td>1.0</td>\n",
       "    </tr>\n",
       "    <tr>\n",
       "      <th>y_alpha[ont, ont, 3]</th>\n",
       "      <td>0.137</td>\n",
       "      <td>0.055</td>\n",
       "      <td>0.037</td>\n",
       "      <td>0.244</td>\n",
       "      <td>0.001</td>\n",
       "      <td>0.001</td>\n",
       "      <td>4919.0</td>\n",
       "      <td>3267.0</td>\n",
       "      <td>1.0</td>\n",
       "    </tr>\n",
       "  </tbody>\n",
       "</table>\n",
       "</div>"
      ]
     },
     "execution_count": 19,
     "metadata": {},
     "output_type": "execute_result"
    }
   ],
   "execution_count": 19
  },
  {
   "metadata": {},
   "cell_type": "code",
   "source": [
    "az.plot_forest(model.trace, var_names=[\"temp\"], filter_vars=\"regex\", figsize=(24, 18))\n",
    "\n",
    "plt.show()"
   ],
   "outputs": [],
   "execution_count": null
  },
  {
   "metadata": {},
   "cell_type": "code",
   "source": "",
   "outputs": [],
   "execution_count": null
  }
 ],
 "metadata": {
  "kernelspec": {
   "display_name": "nbs",
   "language": "python",
   "name": "python3"
  },
  "language_info": {
   "codemirror_mode": {
    "name": "ipython",
    "version": 3
   },
   "file_extension": ".py",
   "mimetype": "text/x-python",
   "name": "python",
   "nbconvert_exporter": "python",
   "pygments_lexer": "ipython3",
   "version": "3.12.3"
  }
 },
 "nbformat": 4,
 "nbformat_minor": 2
}
