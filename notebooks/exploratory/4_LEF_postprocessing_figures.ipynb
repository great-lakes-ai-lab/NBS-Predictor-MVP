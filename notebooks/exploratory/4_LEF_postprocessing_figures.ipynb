{
 "cells": [
  {
   "cell_type": "code",
   "execution_count": null,
   "metadata": {},
   "outputs": [],
   "source": []
  },
  {
   "cell_type": "code",
   "execution_count": null,
   "metadata": {},
   "outputs": [],
   "source": [
    "import matplotlib.pyplot as plt\n",
    "import numpy as np\n",
    "\n",
    "# Example data for each lake (assuming similar structure)\n",
    "lake_names = ['Lake Erie', 'Lake Superior', 'Lake Ontario', 'Lake Mich-Huron']\n",
    "lake_df = ['df_er', 'df_su', 'df_on', 'df_mh']\n",
    "\n",
    "x_values = np.arange(10)  # Assuming x-axis represents months from 1 to 12\n",
    "\n",
    "# Creating a 4x1 grid of subplots\n",
    "fig, axs = plt.subplots(4, 1, figsize=(10, 10), sharex=True, sharey=True)\n",
    "\n",
    "axs[0].plot(x_values, mean_er, color='red', linestyle='-', linewidth=1.5, label='Mean')\n",
    "axs[0].axhline(y=0, color='black', linestyle='-', linewidth=1.2)\n",
    "axs[0].fill_between(x_values, min_er, max_er, color='gray', alpha=0.2)\n",
    "axs[0].set_ylabel('RNBS [mm]')\n",
    "axs[0].set_title('Lake Erie 9-month RNBS Forecast')\n",
    "axs[0].set_xlim(0, 9)  # Setting x-axis limits from 1 to 12\n",
    "axs[0].grid(True, linestyle='--', alpha=0.6)\n",
    "\n",
    "axs[1].plot(x_values, mean_su, color='red', linestyle='-', linewidth=1.5, label='Mean')\n",
    "axs[1].axhline(y=0, color='black', linestyle='-', linewidth=1.2)\n",
    "axs[1].fill_between(x_values, min_su, max_su, color='gray', alpha=0.2)\n",
    "axs[1].set_ylabel('RNBS [mm]')\n",
    "axs[1].set_title('Lake Superior 9-month RNBS Forecast')\n",
    "axs[1].set_xlim(0, 9)  # Setting x-axis limits from 1 to 12\n",
    "axs[1].grid(True, linestyle='--', alpha=0.6)\n",
    "\n",
    "axs[2].plot(x_values, mean_on, color='red', linestyle='-', linewidth=1.5, label='Mean')\n",
    "axs[2].axhline(y=0, color='black', linestyle='-', linewidth=1.2)\n",
    "axs[2].fill_between(x_values, min_on, max_on, color='gray', alpha=0.2)\n",
    "axs[2].set_ylabel('RNBS [mm]')\n",
    "axs[2].set_title('Lake Ontario 9-month RNBS Forecast')\n",
    "axs[2].set_xlim(0, 9)  # Setting x-axis limits from 1 to 12\n",
    "axs[2].grid(True, linestyle='--', alpha=0.6)\n",
    "\n",
    "axs[3].plot(x_values, mean_mh, color='red', linestyle='-', linewidth=1.5, label='Mean')\n",
    "axs[3].axhline(y=0, color='black', linestyle='-', linewidth=1.2)\n",
    "axs[3].fill_between(x_values, min_mh, max_mh, color='gray', alpha=0.2)\n",
    "axs[3].set_ylabel('RNBS [mm]')\n",
    "axs[3].set_title('Lake Mich-Huron 9-month RNBS Forecast')\n",
    "axs[3].set_xlim(0, 9)  # Setting x-axis limits from 1 to 12\n",
    "axs[3].grid(True, linestyle='--', alpha=0.6)\n",
    "axs[3].set_xticklabels(['Jul', 'Aug', 'Sep', 'Oct', 'Nov', 'Dec', 'Jan', 'Feb', 'Mar', 'Apr'])\n",
    "\n",
    "plt.xlabel('2024-2025')"
   ]
  }
 ],
 "metadata": {
  "language_info": {
   "name": "python"
  }
 },
 "nbformat": 4,
 "nbformat_minor": 2
}
