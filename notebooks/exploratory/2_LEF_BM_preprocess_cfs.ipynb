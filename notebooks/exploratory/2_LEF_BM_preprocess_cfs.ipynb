{
 "cells": [
  {
   "cell_type": "code",
   "execution_count": 1,
   "metadata": {},
   "outputs": [],
   "source": [
    "import netCDF4 as nc\n",
    "import numpy as np\n",
    "from cdo import *\n",
    "import os\n",
    "import calendar\n",
    "import xarray as xr\n",
    "from datetime import datetime, timedelta\n",
    "from dateutil.relativedelta import relativedelta"
   ]
  },
  {
   "cell_type": "code",
   "execution_count": 5,
   "metadata": {},
   "outputs": [],
   "source": [
    "# Defined constants based on today's date and not required as input from the user\n",
    "today = datetime.today().strftime('%Y%m%d')\n",
    "yesterday = (datetime.today() - timedelta(days=1))\n",
    "year_0 = yesterday.year\n",
    "month_0 = yesterday.month\n",
    "yesterday_str = yesterday.strftime('%Y%m%d')\n",
    "\n",
    "# Which daily CFS run cycles would we like to download, process, and add to our csv basin files\n",
    "utc = ['00','06','12','18']"
   ]
  },
  {
   "cell_type": "code",
   "execution_count": 6,
   "metadata": {},
   "outputs": [],
   "source": [
    "## USER INPUTS ##\n",
    "dir = f'C:/Users/fitzpatrick/Desktop/Data/{today}/'\n",
    "mask_file = 'C:/Users/fitzpatrick/Desktop/Data/Input/GL_mask.nc'"
   ]
  },
  {
   "cell_type": "code",
   "execution_count": 7,
   "metadata": {},
   "outputs": [],
   "source": [
    "def get_files(directory, where, format):\n",
    "    \"\"\"\n",
    "    Get a list of all GRIB2 files in the specified directory.\n",
    "\n",
    "    Parameters:\n",
    "    - directory: Path to the directory containing the GRIB2 files.\n",
    "    - format: either '.grb2' or '.nc'\n",
    "    Returns:\n",
    "    - List of file paths to the GRIB2 files.\n",
    "    \"\"\"\n",
    "    files = []\n",
    "    for file_name in os.listdir(directory):\n",
    "        if where == 'ends':\n",
    "            if file_name.endswith(format):\n",
    "                file_path = os.path.join(directory, file_name)\n",
    "                files.append(file_path)\n",
    "        elif where == 'starts':\n",
    "            if file_name.startswith(format):\n",
    "                file_path = os.path.join(directory, file_name)\n",
    "                files.append(file_path)\n",
    "    return files"
   ]
  },
  {
   "cell_type": "code",
   "execution_count": 8,
   "metadata": {},
   "outputs": [],
   "source": [
    "# This  function uses spherical trigonometry and \n",
    "# takes into account the Earth's shape and latitude-dependent distortion.\n",
    "# Differences between this function and the function above are only seen \n",
    "# Near the northern and southern edges of the domain.\n",
    "\n",
    "def calculate_grid_cell_areas(lon, lat):\n",
    "    # Calculate grid cell areas\n",
    "    # Assuming lat and lon are 1D arrays\n",
    "    # Convert latitude to radians\n",
    "\n",
    "    R = 6371000.0  # Radius of Earth in meters\n",
    "    lat_rad = np.radians(lat)\n",
    "\n",
    "    # Calculate grid cell width in radians\n",
    "    dlat = np.radians(lat[1] - lat[0])\n",
    "    dlon = np.radians(lon[1] - lon[0])\n",
    "\n",
    "    # Calculate area of each grid cell in square kilometers\n",
    "    area = np.zeros((len(lat), len(lon)))\n",
    "    for i in range(len(lat)):\n",
    "        for j in range(len(lon)):\n",
    "            area[i, j] = R**2 * dlat * dlon * np.cos(lat_rad[i])\n",
    "\n",
    "    return area"
   ]
  },
  {
   "cell_type": "code",
   "execution_count": 9,
   "metadata": {},
   "outputs": [],
   "source": [
    "# ET = kg/(m^2*time^1) or 1 mm\n",
    "# LE = MJ/(M^2*time^1)\n",
    "# λ  = MJ/kg\n",
    "\n",
    "# Latent heat of vaporization varies slightly with temperature. Allen et al. (1998) provides an equation \n",
    "# for calculating λ with air  temperature variation. Temperature in this case must be in degrees Celcius.\n",
    "\n",
    "# λ=2.501−(2.361×10−3)×Temp Celcius\n",
    "\n",
    "# so for our data with Temp in Kelvin...\n",
    "\n",
    "# λ=2.501−((2.361×10−3)×(Temp-273.15))\n",
    "\n",
    "# Our variable_lhf is in W/m^2 or J/(m^2*time^1). In order to convert to MJ we must multiply by 10^-6 or \n",
    "# 0.000001. Now we have lamba and variable_lhf both in terms of MJ.\n",
    "\n",
    "# Boiling all this down we get these final equations below that provide us with a final evaporation for \n",
    "# the mean daily variable_lfh values in kg/m^2 or millimeters of water. \n",
    "\n",
    "def calculate_evaporation(temperature_K, latent_heat):\n",
    "    lamda=(2.501-(0.002361*(temperature_K-273.15)))\n",
    "    evaporation_rate=((latent_heat)*0.000001)/lamda\n",
    "\n",
    "    return evaporation_rate"
   ]
  },
  {
   "cell_type": "code",
   "execution_count": 10,
   "metadata": {},
   "outputs": [],
   "source": [
    "mask_variable = ['eri_lake','eri_land',\n",
    "                 'hur_lake','hur_land',\n",
    "                 'ont_lake','ont_land',\n",
    "                 'mic_lake','mic_land',\n",
    "                 'sup_lake','sup_land']\n",
    "flx_variables = ['TMP_2maboveground','LHTFL_surface']\n",
    "pgb_variables = ['APCP_surface']\n",
    "\n",
    "\n",
    "df_apcp_forecasts = pd.DataFrame(columns=['cfs_run', 'forecast_year', 'forecast_month'] + mask_variable)\n",
    "df_tmp_forecasts = pd.DataFrame(columns=['cfs_run', 'forecast_year', 'forecast_month'] + mask_variable)\n",
    "df_evap_forecasts = pd.DataFrame(columns=['cfs_run', 'forecast_year', 'forecast_month'] + mask_variable)"
   ]
  },
  {
   "cell_type": "code",
   "execution_count": 11,
   "metadata": {},
   "outputs": [],
   "source": [
    "# Pull the lat/lon from the mask file and calculate the grid cell areas\n",
    "ds_mask = nc.Dataset(mask_file)\n",
    "lat = ds_mask.variables['latitude'][:]\n",
    "lon = ds_mask.variables['longitude'][:]\n",
    "area = calculate_grid_cell_areas(lon, lat)\n",
    "ds_mask.close()"
   ]
  },
  {
   "cell_type": "code",
   "execution_count": 12,
   "metadata": {},
   "outputs": [
    {
     "name": "stderr",
     "output_type": "stream",
     "text": [
      "c:\\Users\\fitzpatrick\\AppData\\Local\\Programs\\Python\\Python312\\Lib\\site-packages\\xarray\\backends\\plugins.py:80: RuntimeWarning: Engine 'cfgrib' loading failed:\n",
      "Cannot find the ecCodes library\n",
      "  warnings.warn(f\"Engine {name!r} loading failed:\\n{ex}\", RuntimeWarning)\n"
     ]
    },
    {
     "name": "stdout",
     "output_type": "stream",
     "text": [
      "CSV created with precipitation data.\n"
     ]
    }
   ],
   "source": [
    "## This section pulls APCP data from the PGB files\n",
    "## ACPC_surface is in kg/m2\n",
    "process_dir = f'{dir}/CFS/processed/'\n",
    "\n",
    "# Find all the files the pgb files in the directory\n",
    "file_list = get_files(process_dir, 'starts', 'pgb')\n",
    "\n",
    "# Open mask file\n",
    "ds_mask = xr.open_dataset(mask_file)\n",
    "\n",
    "index = 0 #this is the row in the dataframe df_apcp_forecasts\n",
    "\n",
    "for file in file_list:\n",
    "    #open the files outside of the function\n",
    "    ds_pgb = xr.open_dataset(file)\n",
    "    apcp = ds_pgb.variables['APCP_surface'][:]\n",
    "    file_parts = file.split('.')\n",
    "    cfs_run = file_parts[2]\n",
    "\n",
    "    for forecast in range(0,10):\n",
    "        for mask_name in mask_variable:\n",
    "            mask = ds_mask.variables[mask_name][:]\n",
    "            df_apcp_forecasts.loc[index, 'cfs_run'] = cfs_run\n",
    "            fmonth = yesterday + relativedelta(months=forecast)\n",
    "            fmonth_year = fmonth.strftime('%Y')\n",
    "            fmonth_num = fmonth.strftime('%m')\n",
    "            df_apcp_forecasts.loc[index, 'forecast_year'] = fmonth_year\n",
    "            df_apcp_forecasts.loc[index, 'forecast_month'] = fmonth_num\n",
    "            pcp_sum = np.sum(apcp[forecast,:,:]*area*mask*4*31) \n",
    "            #pcp_avg = pcp_sum / np.sum(area*mask)\n",
    "            df_apcp_forecasts.loc[index, mask_name] = pcp_sum.data #pcp_avg.data\n",
    "            \n",
    "        index += 1\n",
    "\n",
    "    ds_pgb.close()\n",
    "ds_mask.close()\n",
    "\n",
    "df_apcp_forecasts.to_csv(dir+f'CFS_APCP_forecasts_Sums_{yesterday_str}.csv',sep=',',index=False)\n",
    "print(\"CSV created with precipitation data.\")\n"
   ]
  },
  {
   "cell_type": "code",
   "execution_count": 13,
   "metadata": {},
   "outputs": [
    {
     "name": "stdout",
     "output_type": "stream",
     "text": [
      "CSV created with temperature data.\n",
      "CSV created with evaporation data.\n"
     ]
    }
   ],
   "source": [
    "## This section pulls TMP and LHTFL data from the FLX files\n",
    "\n",
    "file_list = get_files(process_dir, 'starts', 'flx')\n",
    "ds_mask = xr.open_dataset(mask_file)\n",
    "\n",
    "counter = 0 #this is the row in the dataframe df_apcp_forecasts\n",
    "for file in file_list:\n",
    "    #open the files outside of the function\n",
    "    ds_flx = xr.open_dataset(file)\n",
    "    tmp = ds_flx.variables['TMP_2maboveground'][:]\n",
    "    lhtfl = ds_flx.variables['LHTFL_surface'][:]\n",
    "    evap = calculate_evaporation(tmp, lhtfl)\n",
    "    file_parts = file.split('.')\n",
    "    cfs_run = file_parts[2]\n",
    "\n",
    "    for forecast in range(0,10):\n",
    "        for mask_name in mask_variable:\n",
    "            mask = ds_mask.variables[mask_name][:]\n",
    "            fmonth = yesterday + relativedelta(months=forecast)\n",
    "            days_in_month = calendar.monthrange(fmonth.year, fmonth.month)[1]\n",
    "            fmonth_year = fmonth.strftime('%Y')\n",
    "            fmonth_num = fmonth.strftime('%m')\n",
    "            df_tmp_forecasts.loc[counter,'cfs_run'] = cfs_run\n",
    "            df_tmp_forecasts.loc[counter, 'forecast_year'] = fmonth_year\n",
    "            df_tmp_forecasts.loc[counter, 'forecast_month'] = fmonth_num\n",
    "            tmp_avg = np.mean(tmp[forecast,:,:]*mask)\n",
    "            df_tmp_forecasts.loc[counter, mask_name] = tmp_avg.data\n",
    "\n",
    "            df_evap_forecasts.loc[counter,'cfs_run'] = cfs_run\n",
    "            df_evap_forecasts.loc[counter, 'forecast_year'] = fmonth_year\n",
    "            df_evap_forecasts.loc[counter, 'forecast_month'] = fmonth_num\n",
    "            evap_sum = np.sum(evap[forecast,:,:]*area*mask) *86400 * days_in_month #convert to monthly\n",
    "            #evap_avg = evap_sum / np.sum(area*mask)\n",
    "            df_evap_forecasts.loc[counter, mask_name] = evap_sum.data #evap_avg.data\n",
    "\n",
    "        counter += 1\n",
    "\n",
    "    ds_flx.close()\n",
    "ds_mask.close()\n",
    "\n",
    "df_tmp_forecasts.to_csv(dir+f'CFS_TMP_forecasts_Avgs_{yesterday_str}.csv',sep=',',index=False)\n",
    "print(\"CSV created with temperature data.\")\n",
    "df_evap_forecasts.to_csv(dir+f'CFS_EVAP_forecasts_Sums_{yesterday_str}.csv',sep=',',index=False)\n",
    "print(\"CSV created with evaporation data.\")"
   ]
  }
 ],
 "metadata": {
  "kernelspec": {
   "display_name": "Python 3",
   "language": "python",
   "name": "python3"
  },
  "language_info": {
   "codemirror_mode": {
    "name": "ipython",
    "version": 3
   },
   "file_extension": ".py",
   "mimetype": "text/x-python",
   "name": "python",
   "nbconvert_exporter": "python",
   "pygments_lexer": "ipython3",
   "version": "3.12.3"
  }
 },
 "nbformat": 4,
 "nbformat_minor": 2
}
