{
  "nbformat": 4,
  "nbformat_minor": 0,
  "metadata": {
    "colab": {
      "provenance": []
    },
    "kernelspec": {
      "name": "python3",
      "display_name": "Python 3"
    },
    "language_info": {
      "name": "python"
    }
  },
  "cells": [
    {
      "cell_type": "markdown",
      "source": [
        "This script downloads water level csvs from the Army Corp website.\n",
        "\n"
      ],
      "metadata": {
        "id": "LpMHvqniZ0Jt"
      }
    },
    {
      "cell_type": "code",
      "source": [
        "# Import libraries\n",
        "import os\n",
        "import urllib.request\n",
        "\n",
        "# I was getting a certificate error when trying to download the file. This makes it work thanks to a stackoverflow suggestion.\n",
        "import ssl\n",
        "ssl._create_default_https_context = ssl._create_unverified_context"
      ],
      "metadata": {
        "id": "fAOZS2g9lB64"
      },
      "execution_count": 17,
      "outputs": []
    },
    {
      "cell_type": "code",
      "source": [
        "# Mount my google drive\n",
        "from google.colab import drive\n",
        "drive.mount('/content/drive')"
      ],
      "metadata": {
        "id": "q-MY7vgptzm5",
        "colab": {
          "base_uri": "https://localhost:8080/"
        },
        "outputId": "ace5bf08-c40d-4fa6-ebd6-13cf17b45356"
      },
      "execution_count": 5,
      "outputs": [
        {
          "output_type": "stream",
          "name": "stdout",
          "text": [
            "Mounted at /content/drive\n"
          ]
        }
      ]
    },
    {
      "cell_type": "markdown",
      "source": [
        "# Defined Functions\n",
        "\n",
        "Function to download the previous month water levels and current month water levels."
      ],
      "metadata": {
        "id": "hnWP6B1mzrnV"
      }
    },
    {
      "cell_type": "code",
      "source": [
        "def download_waterlevels(month, download_path):\n",
        "\n",
        "    if month == 'previous':\n",
        "        url = 'https://lre-wm.usace.army.mil/reports/greatLakes/greatLakesLevelsLastMonth/data10.csv'\n",
        "    elif month == 'current':\n",
        "        url  = 'https://lre-wm.usace.army.mil/reports/greatLakes/greatLakesLevelsThisMonth/data10.csv'\n",
        "    else:\n",
        "        print(\"Month needs to be either previous or current.\")\n",
        "\n",
        "    try:\n",
        "        urllib.request.urlretrieve(url, download_path)\n",
        "        print(f\"{month} month water levels downloaded successfully.\")\n",
        "\n",
        "    except Exception as e:\n",
        "        print(f\"An error occurred while trying to download {month} month water levels.\")"
      ],
      "metadata": {
        "id": "T9ZLNfbWnvr5"
      },
      "execution_count": 16,
      "outputs": []
    },
    {
      "cell_type": "markdown",
      "source": [
        "# Begin Script"
      ],
      "metadata": {
        "id": "_6sYGPZ05hI4"
      }
    },
    {
      "cell_type": "code",
      "source": [
        "download_previous = '/content/drive/MyDrive/BIL SA Project/Modeling/Data-driven Modeling/Input datasets/Downloaded Data/previous_month_waterlevels.csv'\n",
        "download_waterlevels('previous', download_previous)\n",
        "\n",
        "download_current = '/content/drive/MyDrive/BIL SA Project/Modeling/Data-driven Modeling/Input datasets/Downloaded Data/current_month_waterlevels.csv'\n",
        "download_waterlevels('current', download_current)"
      ],
      "metadata": {
        "colab": {
          "base_uri": "https://localhost:8080/"
        },
        "id": "ZlrTipMLlSSi",
        "outputId": "8e72e7ae-1c6f-4344-ff74-37439ec7adf6"
      },
      "execution_count": 19,
      "outputs": [
        {
          "output_type": "stream",
          "name": "stdout",
          "text": [
            "current month water levels downloaded successfully.\n"
          ]
        }
      ]
    }
  ]
}